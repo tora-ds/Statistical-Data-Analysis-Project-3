{
 "cells": [
  {
   "cell_type": "markdown",
   "metadata": {
    "id": "zFq0RlEGYRuW"
   },
   "source": [
    "# purpose of the project\n",
    "In this project we are going to analyse the users usage criteria for calls, messages and internet used. We will be able to find insights which will be useful for the telecom company to manage their future policies especially regarding thier vailable user plans.\n",
    "\n",
    "Our methodology for this project is based on **following objectives**:\n",
    "- Preprocessing of data including fixes the observed issues in the data like data types and missing values\n",
    "- Perform analysis on the individual dataframes to create our own analytical dataframes and then used them to findout hidden insights in the data\n",
    "- In the nd we will perform hypothesis testing to answere the question based on user plan avilable for this company."
   ]
  },
  {
   "cell_type": "markdown",
   "metadata": {
    "id": "F_XBGLdTk7TQ"
   },
   "source": [
    "\n",
    "\n",
    "---\n",
    "\n"
   ]
  },
  {
   "cell_type": "markdown",
   "metadata": {
    "id": "fXbj4ar2YOhi"
   },
   "source": [
    "#Initialization"
   ]
  },
  {
   "cell_type": "code",
   "execution_count": 1,
   "metadata": {
    "id": "QurB86pO4tKb"
   },
   "outputs": [],
   "source": [
    "# importing all the required libraries\n",
    "import pandas as pd\n",
    "import numpy as np\n",
    "from scipy import stats\n"
   ]
  },
  {
   "cell_type": "markdown",
   "metadata": {
    "id": "ckoiwHaUYaZc"
   },
   "source": [
    "#Load data"
   ]
  },
  {
   "cell_type": "code",
   "execution_count": 2,
   "metadata": {
    "id": "PFiBqQxi2nVf"
   },
   "outputs": [],
   "source": [
    "# LOading the data into pandas dataframe\n",
    "calls = pd.read_csv('/home/jovyan/work/calls_per_month.csv')\n",
    "minutes = pd.read_csv('/home/jovyan/work/minutes_per_month.csv')\n",
    "messages = pd.read_csv('/home/jovyan/work/messages_per_month.csv')\n",
    "internet = pd.read_csv('/home/jovyan/work/internet_traffic_per_user_per_month.csv')\n",
    "\n",
    "calls=pd.read_csv('/datasets/megaline_calls.csv')\n",
    "internet=pd.read_csv('/datasets/megaline_internet.csv')\n",
    "messages=pd.read_csv('/datasets/megaline_messages.csv')\n",
    "plans=pd.read_csv('/datasets/megaline_plans.csv')\n",
    "users=pd.read_csv('/datasets/megaline_users.csv')"
   ]
  },
  {
   "cell_type": "markdown",
   "metadata": {
    "id": "eRY5RQzUYhKj"
   },
   "source": [
    "#Prepare the data"
   ]
  },
  {
   "cell_type": "markdown",
   "metadata": {
    "id": "4jdS1rvxi_rg"
   },
   "source": [
    "# 1. Plans\n",
    "\n",
    "- Here two types of packages are given **Surf and Ultimate**.\n",
    "\n",
    "- **0** is for surf (small packages) and **1**for ultimate (large packages)"
   ]
  },
  {
   "cell_type": "code",
   "execution_count": 3,
   "metadata": {
    "colab": {
     "base_uri": "https://localhost:8080/",
     "height": 112
    },
    "id": "1xm09AsfZKkI",
    "outputId": "2880957e-82a0-4089-b56c-504fc4a724fd"
   },
   "outputs": [
    {
     "data": {
      "text/html": [
       "<div>\n",
       "<style scoped>\n",
       "    .dataframe tbody tr th:only-of-type {\n",
       "        vertical-align: middle;\n",
       "    }\n",
       "\n",
       "    .dataframe tbody tr th {\n",
       "        vertical-align: top;\n",
       "    }\n",
       "\n",
       "    .dataframe thead th {\n",
       "        text-align: right;\n",
       "    }\n",
       "</style>\n",
       "<table border=\"1\" class=\"dataframe\">\n",
       "  <thead>\n",
       "    <tr style=\"text-align: right;\">\n",
       "      <th></th>\n",
       "      <th>messages_included</th>\n",
       "      <th>mb_per_month_included</th>\n",
       "      <th>minutes_included</th>\n",
       "      <th>usd_monthly_pay</th>\n",
       "      <th>usd_per_gb</th>\n",
       "      <th>usd_per_message</th>\n",
       "      <th>usd_per_minute</th>\n",
       "      <th>plan_name</th>\n",
       "    </tr>\n",
       "  </thead>\n",
       "  <tbody>\n",
       "    <tr>\n",
       "      <th>1</th>\n",
       "      <td>1000</td>\n",
       "      <td>30720</td>\n",
       "      <td>3000</td>\n",
       "      <td>70</td>\n",
       "      <td>7</td>\n",
       "      <td>0.01</td>\n",
       "      <td>0.01</td>\n",
       "      <td>ultimate</td>\n",
       "    </tr>\n",
       "    <tr>\n",
       "      <th>0</th>\n",
       "      <td>50</td>\n",
       "      <td>15360</td>\n",
       "      <td>500</td>\n",
       "      <td>20</td>\n",
       "      <td>10</td>\n",
       "      <td>0.03</td>\n",
       "      <td>0.03</td>\n",
       "      <td>surf</td>\n",
       "    </tr>\n",
       "  </tbody>\n",
       "</table>\n",
       "</div>"
      ],
      "text/plain": [
       "   messages_included  mb_per_month_included  minutes_included  \\\n",
       "1               1000                  30720              3000   \n",
       "0                 50                  15360               500   \n",
       "\n",
       "   usd_monthly_pay  usd_per_gb  usd_per_message  usd_per_minute plan_name  \n",
       "1               70           7             0.01            0.01  ultimate  \n",
       "0               20          10             0.03            0.03      surf  "
      ]
     },
     "execution_count": 3,
     "metadata": {},
     "output_type": "execute_result"
    }
   ],
   "source": [
    "# checking the random rows of the data\n",
    "plans.sample(2)"
   ]
  },
  {
   "cell_type": "code",
   "execution_count": 4,
   "metadata": {
    "colab": {
     "base_uri": "https://localhost:8080/"
    },
    "id": "OVpOMAgndK5Q",
    "outputId": "8f8b0565-9ec9-45b9-e3db-df2d5f82c401"
   },
   "outputs": [
    {
     "data": {
      "text/plain": [
       "(2, 8)"
      ]
     },
     "execution_count": 4,
     "metadata": {},
     "output_type": "execute_result"
    }
   ],
   "source": [
    "# The rows and columns of dataframe\n",
    "plans.shape"
   ]
  },
  {
   "cell_type": "code",
   "execution_count": 5,
   "metadata": {
    "colab": {
     "base_uri": "https://localhost:8080/"
    },
    "id": "aLWME8BZdNpz",
    "outputId": "fa78fbcb-fcc9-4abb-e56f-cee5ff7cd231"
   },
   "outputs": [
    {
     "name": "stdout",
     "output_type": "stream",
     "text": [
      "<class 'pandas.core.frame.DataFrame'>\n",
      "RangeIndex: 2 entries, 0 to 1\n",
      "Data columns (total 8 columns):\n",
      " #   Column                 Non-Null Count  Dtype  \n",
      "---  ------                 --------------  -----  \n",
      " 0   messages_included      2 non-null      int64  \n",
      " 1   mb_per_month_included  2 non-null      int64  \n",
      " 2   minutes_included       2 non-null      int64  \n",
      " 3   usd_monthly_pay        2 non-null      int64  \n",
      " 4   usd_per_gb             2 non-null      int64  \n",
      " 5   usd_per_message        2 non-null      float64\n",
      " 6   usd_per_minute         2 non-null      float64\n",
      " 7   plan_name              2 non-null      object \n",
      "dtypes: float64(2), int64(5), object(1)\n",
      "memory usage: 256.0+ bytes\n"
     ]
    }
   ],
   "source": [
    "# To get an idea about columns name,their missing values and datatypes\n",
    "plans.info()"
   ]
  },
  {
   "cell_type": "code",
   "execution_count": 6,
   "metadata": {
    "colab": {
     "base_uri": "https://localhost:8080/",
     "height": 300
    },
    "id": "086IMCOuoMgT",
    "outputId": "0696b437-c7f9-497f-e100-a02dc7966c3b"
   },
   "outputs": [
    {
     "data": {
      "text/html": [
       "<div>\n",
       "<style scoped>\n",
       "    .dataframe tbody tr th:only-of-type {\n",
       "        vertical-align: middle;\n",
       "    }\n",
       "\n",
       "    .dataframe tbody tr th {\n",
       "        vertical-align: top;\n",
       "    }\n",
       "\n",
       "    .dataframe thead th {\n",
       "        text-align: right;\n",
       "    }\n",
       "</style>\n",
       "<table border=\"1\" class=\"dataframe\">\n",
       "  <thead>\n",
       "    <tr style=\"text-align: right;\">\n",
       "      <th></th>\n",
       "      <th>messages_included</th>\n",
       "      <th>mb_per_month_included</th>\n",
       "      <th>minutes_included</th>\n",
       "      <th>usd_monthly_pay</th>\n",
       "      <th>usd_per_gb</th>\n",
       "      <th>usd_per_message</th>\n",
       "      <th>usd_per_minute</th>\n",
       "    </tr>\n",
       "  </thead>\n",
       "  <tbody>\n",
       "    <tr>\n",
       "      <th>count</th>\n",
       "      <td>2.000000</td>\n",
       "      <td>2.000000</td>\n",
       "      <td>2.000000</td>\n",
       "      <td>2.000000</td>\n",
       "      <td>2.00000</td>\n",
       "      <td>2.000000</td>\n",
       "      <td>2.000000</td>\n",
       "    </tr>\n",
       "    <tr>\n",
       "      <th>mean</th>\n",
       "      <td>525.000000</td>\n",
       "      <td>23040.000000</td>\n",
       "      <td>1750.000000</td>\n",
       "      <td>45.000000</td>\n",
       "      <td>8.50000</td>\n",
       "      <td>0.020000</td>\n",
       "      <td>0.020000</td>\n",
       "    </tr>\n",
       "    <tr>\n",
       "      <th>std</th>\n",
       "      <td>671.751442</td>\n",
       "      <td>10861.160159</td>\n",
       "      <td>1767.766953</td>\n",
       "      <td>35.355339</td>\n",
       "      <td>2.12132</td>\n",
       "      <td>0.014142</td>\n",
       "      <td>0.014142</td>\n",
       "    </tr>\n",
       "    <tr>\n",
       "      <th>min</th>\n",
       "      <td>50.000000</td>\n",
       "      <td>15360.000000</td>\n",
       "      <td>500.000000</td>\n",
       "      <td>20.000000</td>\n",
       "      <td>7.00000</td>\n",
       "      <td>0.010000</td>\n",
       "      <td>0.010000</td>\n",
       "    </tr>\n",
       "    <tr>\n",
       "      <th>25%</th>\n",
       "      <td>287.500000</td>\n",
       "      <td>19200.000000</td>\n",
       "      <td>1125.000000</td>\n",
       "      <td>32.500000</td>\n",
       "      <td>7.75000</td>\n",
       "      <td>0.015000</td>\n",
       "      <td>0.015000</td>\n",
       "    </tr>\n",
       "    <tr>\n",
       "      <th>50%</th>\n",
       "      <td>525.000000</td>\n",
       "      <td>23040.000000</td>\n",
       "      <td>1750.000000</td>\n",
       "      <td>45.000000</td>\n",
       "      <td>8.50000</td>\n",
       "      <td>0.020000</td>\n",
       "      <td>0.020000</td>\n",
       "    </tr>\n",
       "    <tr>\n",
       "      <th>75%</th>\n",
       "      <td>762.500000</td>\n",
       "      <td>26880.000000</td>\n",
       "      <td>2375.000000</td>\n",
       "      <td>57.500000</td>\n",
       "      <td>9.25000</td>\n",
       "      <td>0.025000</td>\n",
       "      <td>0.025000</td>\n",
       "    </tr>\n",
       "    <tr>\n",
       "      <th>max</th>\n",
       "      <td>1000.000000</td>\n",
       "      <td>30720.000000</td>\n",
       "      <td>3000.000000</td>\n",
       "      <td>70.000000</td>\n",
       "      <td>10.00000</td>\n",
       "      <td>0.030000</td>\n",
       "      <td>0.030000</td>\n",
       "    </tr>\n",
       "  </tbody>\n",
       "</table>\n",
       "</div>"
      ],
      "text/plain": [
       "       messages_included  mb_per_month_included  minutes_included  \\\n",
       "count           2.000000               2.000000          2.000000   \n",
       "mean          525.000000           23040.000000       1750.000000   \n",
       "std           671.751442           10861.160159       1767.766953   \n",
       "min            50.000000           15360.000000        500.000000   \n",
       "25%           287.500000           19200.000000       1125.000000   \n",
       "50%           525.000000           23040.000000       1750.000000   \n",
       "75%           762.500000           26880.000000       2375.000000   \n",
       "max          1000.000000           30720.000000       3000.000000   \n",
       "\n",
       "       usd_monthly_pay  usd_per_gb  usd_per_message  usd_per_minute  \n",
       "count         2.000000     2.00000         2.000000        2.000000  \n",
       "mean         45.000000     8.50000         0.020000        0.020000  \n",
       "std          35.355339     2.12132         0.014142        0.014142  \n",
       "min          20.000000     7.00000         0.010000        0.010000  \n",
       "25%          32.500000     7.75000         0.015000        0.015000  \n",
       "50%          45.000000     8.50000         0.020000        0.020000  \n",
       "75%          57.500000     9.25000         0.025000        0.025000  \n",
       "max          70.000000    10.00000         0.030000        0.030000  "
      ]
     },
     "metadata": {},
     "output_type": "display_data"
    }
   ],
   "source": [
    "# Printing the summary statistics of the dataframe\n",
    "display(plans.describe())"
   ]
  },
  {
   "cell_type": "markdown",
   "metadata": {
    "id": "fMIrYAfDtkPh"
   },
   "source": [
    "**OBSERVATIONS**\n",
    "- None of the columns have any missing values and all the numerical columns have correct datatypes including integer and float respectively.\n",
    "- The only minor problem with this data set is that the columns include (usd_per_minute , usd_per_gb , usd_per_message) conveys the message that these charges are within the package but actually they are the charges when the package limit is exceeded."
   ]
  },
  {
   "cell_type": "markdown",
   "metadata": {
    "id": "y8H3VpwusWLS"
   },
   "source": [
    "# Fix data"
   ]
  },
  {
   "cell_type": "markdown",
   "metadata": {
    "id": "cPqEmx9EiPuJ"
   },
   "source": [
    "As the data availabe is already clean according to our requirements so we dont need any fixation here."
   ]
  },
  {
   "cell_type": "markdown",
   "metadata": {
    "id": "8PoYC94H1vaW"
   },
   "source": [
    "# Enrich data"
   ]
  },
  {
   "cell_type": "code",
   "execution_count": 7,
   "metadata": {
    "colab": {
     "base_uri": "https://localhost:8080/",
     "height": 112
    },
    "id": "HFD4q5dMhuBY",
    "outputId": "b3bb81bf-83f4-4c64-b163-336a7c231df6"
   },
   "outputs": [
    {
     "data": {
      "text/html": [
       "<div>\n",
       "<style scoped>\n",
       "    .dataframe tbody tr th:only-of-type {\n",
       "        vertical-align: middle;\n",
       "    }\n",
       "\n",
       "    .dataframe tbody tr th {\n",
       "        vertical-align: top;\n",
       "    }\n",
       "\n",
       "    .dataframe thead th {\n",
       "        text-align: right;\n",
       "    }\n",
       "</style>\n",
       "<table border=\"1\" class=\"dataframe\">\n",
       "  <thead>\n",
       "    <tr style=\"text-align: right;\">\n",
       "      <th></th>\n",
       "      <th>messages_included</th>\n",
       "      <th>mb_per_month_included</th>\n",
       "      <th>minutes_included</th>\n",
       "      <th>usd_monthly_pay</th>\n",
       "      <th>usd_per_gb</th>\n",
       "      <th>usd_per_message</th>\n",
       "      <th>usd_per_minute</th>\n",
       "      <th>plan_name</th>\n",
       "      <th>data_usage_gb</th>\n",
       "    </tr>\n",
       "  </thead>\n",
       "  <tbody>\n",
       "    <tr>\n",
       "      <th>0</th>\n",
       "      <td>50</td>\n",
       "      <td>15360</td>\n",
       "      <td>500</td>\n",
       "      <td>20</td>\n",
       "      <td>10</td>\n",
       "      <td>0.03</td>\n",
       "      <td>0.03</td>\n",
       "      <td>surf</td>\n",
       "      <td>15.0</td>\n",
       "    </tr>\n",
       "    <tr>\n",
       "      <th>1</th>\n",
       "      <td>1000</td>\n",
       "      <td>30720</td>\n",
       "      <td>3000</td>\n",
       "      <td>70</td>\n",
       "      <td>7</td>\n",
       "      <td>0.01</td>\n",
       "      <td>0.01</td>\n",
       "      <td>ultimate</td>\n",
       "      <td>30.0</td>\n",
       "    </tr>\n",
       "  </tbody>\n",
       "</table>\n",
       "</div>"
      ],
      "text/plain": [
       "   messages_included  mb_per_month_included  minutes_included  \\\n",
       "0                 50                  15360               500   \n",
       "1               1000                  30720              3000   \n",
       "\n",
       "   usd_monthly_pay  usd_per_gb  usd_per_message  usd_per_minute plan_name  \\\n",
       "0               20          10             0.03            0.03      surf   \n",
       "1               70           7             0.01            0.01  ultimate   \n",
       "\n",
       "   data_usage_gb  \n",
       "0           15.0  \n",
       "1           30.0  "
      ]
     },
     "metadata": {},
     "output_type": "display_data"
    }
   ],
   "source": [
    "# Enriched data\n",
    "plans['data_usage_gb'] = plans['mb_per_month_included'] / 1024\n",
    "display(plans)"
   ]
  },
  {
   "cell_type": "markdown",
   "metadata": {
    "id": "FYPl1eFwo_cw"
   },
   "source": [
    "**Reason**\n",
    "\n",
    "We have converted the mbs into GBs as this unit is more concise."
   ]
  },
  {
   "cell_type": "markdown",
   "metadata": {
    "id": "8lgLdUpvjeCK"
   },
   "source": [
    "# 2. Users"
   ]
  },
  {
   "cell_type": "code",
   "execution_count": 8,
   "metadata": {
    "colab": {
     "base_uri": "https://localhost:8080/",
     "height": 206
    },
    "id": "y6BbpDg6ZNkw",
    "outputId": "a4058afd-7563-44d8-c6ab-7ac3524b2803"
   },
   "outputs": [
    {
     "data": {
      "text/html": [
       "<div>\n",
       "<style scoped>\n",
       "    .dataframe tbody tr th:only-of-type {\n",
       "        vertical-align: middle;\n",
       "    }\n",
       "\n",
       "    .dataframe tbody tr th {\n",
       "        vertical-align: top;\n",
       "    }\n",
       "\n",
       "    .dataframe thead th {\n",
       "        text-align: right;\n",
       "    }\n",
       "</style>\n",
       "<table border=\"1\" class=\"dataframe\">\n",
       "  <thead>\n",
       "    <tr style=\"text-align: right;\">\n",
       "      <th></th>\n",
       "      <th>user_id</th>\n",
       "      <th>first_name</th>\n",
       "      <th>last_name</th>\n",
       "      <th>age</th>\n",
       "      <th>city</th>\n",
       "      <th>reg_date</th>\n",
       "      <th>plan</th>\n",
       "      <th>churn_date</th>\n",
       "    </tr>\n",
       "  </thead>\n",
       "  <tbody>\n",
       "    <tr>\n",
       "      <th>424</th>\n",
       "      <td>1424</td>\n",
       "      <td>Kasandra</td>\n",
       "      <td>Keith</td>\n",
       "      <td>51</td>\n",
       "      <td>Virginia Beach-Norfolk-Newport News, VA-NC MSA</td>\n",
       "      <td>2018-07-24</td>\n",
       "      <td>ultimate</td>\n",
       "      <td>NaN</td>\n",
       "    </tr>\n",
       "    <tr>\n",
       "      <th>135</th>\n",
       "      <td>1135</td>\n",
       "      <td>Scotty</td>\n",
       "      <td>White</td>\n",
       "      <td>51</td>\n",
       "      <td>Miami-Fort Lauderdale-West Palm Beach, FL MSA</td>\n",
       "      <td>2018-12-23</td>\n",
       "      <td>ultimate</td>\n",
       "      <td>NaN</td>\n",
       "    </tr>\n",
       "    <tr>\n",
       "      <th>181</th>\n",
       "      <td>1181</td>\n",
       "      <td>Ron</td>\n",
       "      <td>Kaufman</td>\n",
       "      <td>47</td>\n",
       "      <td>New York-Newark-Jersey City, NY-NJ-PA MSA</td>\n",
       "      <td>2018-04-13</td>\n",
       "      <td>surf</td>\n",
       "      <td>NaN</td>\n",
       "    </tr>\n",
       "    <tr>\n",
       "      <th>363</th>\n",
       "      <td>1363</td>\n",
       "      <td>Sandee</td>\n",
       "      <td>Lott</td>\n",
       "      <td>33</td>\n",
       "      <td>Seattle-Tacoma-Bellevue, WA MSA</td>\n",
       "      <td>2018-01-05</td>\n",
       "      <td>ultimate</td>\n",
       "      <td>2018-08-16</td>\n",
       "    </tr>\n",
       "    <tr>\n",
       "      <th>473</th>\n",
       "      <td>1473</td>\n",
       "      <td>Kirk</td>\n",
       "      <td>Velez</td>\n",
       "      <td>61</td>\n",
       "      <td>Louisville/Jefferson County, KY-IN MSA</td>\n",
       "      <td>2018-12-31</td>\n",
       "      <td>surf</td>\n",
       "      <td>NaN</td>\n",
       "    </tr>\n",
       "  </tbody>\n",
       "</table>\n",
       "</div>"
      ],
      "text/plain": [
       "     user_id first_name last_name  age  \\\n",
       "424     1424   Kasandra     Keith   51   \n",
       "135     1135     Scotty     White   51   \n",
       "181     1181        Ron   Kaufman   47   \n",
       "363     1363     Sandee      Lott   33   \n",
       "473     1473       Kirk     Velez   61   \n",
       "\n",
       "                                               city    reg_date      plan  \\\n",
       "424  Virginia Beach-Norfolk-Newport News, VA-NC MSA  2018-07-24  ultimate   \n",
       "135   Miami-Fort Lauderdale-West Palm Beach, FL MSA  2018-12-23  ultimate   \n",
       "181       New York-Newark-Jersey City, NY-NJ-PA MSA  2018-04-13      surf   \n",
       "363                 Seattle-Tacoma-Bellevue, WA MSA  2018-01-05  ultimate   \n",
       "473          Louisville/Jefferson County, KY-IN MSA  2018-12-31      surf   \n",
       "\n",
       "     churn_date  \n",
       "424         NaN  \n",
       "135         NaN  \n",
       "181         NaN  \n",
       "363  2018-08-16  \n",
       "473         NaN  "
      ]
     },
     "execution_count": 8,
     "metadata": {},
     "output_type": "execute_result"
    }
   ],
   "source": [
    "# checking the first 5 rows of the data\n",
    "users.sample(5)"
   ]
  },
  {
   "cell_type": "code",
   "execution_count": 9,
   "metadata": {
    "colab": {
     "base_uri": "https://localhost:8080/"
    },
    "id": "73BxNYNnfVh6",
    "outputId": "3b452f25-4fef-4fab-85c3-f6768a124650"
   },
   "outputs": [
    {
     "data": {
      "text/plain": [
       "(500, 8)"
      ]
     },
     "execution_count": 9,
     "metadata": {},
     "output_type": "execute_result"
    }
   ],
   "source": [
    "# The rows and columns of dataframe\n",
    "users.shape"
   ]
  },
  {
   "cell_type": "code",
   "execution_count": 10,
   "metadata": {
    "colab": {
     "base_uri": "https://localhost:8080/"
    },
    "id": "KY4phKZpfZVG",
    "outputId": "26846b85-8563-4ee6-a00a-1aa004aec736"
   },
   "outputs": [
    {
     "name": "stdout",
     "output_type": "stream",
     "text": [
      "<class 'pandas.core.frame.DataFrame'>\n",
      "RangeIndex: 500 entries, 0 to 499\n",
      "Data columns (total 8 columns):\n",
      " #   Column      Non-Null Count  Dtype \n",
      "---  ------      --------------  ----- \n",
      " 0   user_id     500 non-null    int64 \n",
      " 1   first_name  500 non-null    object\n",
      " 2   last_name   500 non-null    object\n",
      " 3   age         500 non-null    int64 \n",
      " 4   city        500 non-null    object\n",
      " 5   reg_date    500 non-null    object\n",
      " 6   plan        500 non-null    object\n",
      " 7   churn_date  34 non-null     object\n",
      "dtypes: int64(2), object(6)\n",
      "memory usage: 31.4+ KB\n"
     ]
    }
   ],
   "source": [
    "# To get an idea about columns name,their missing values and datatypes\n",
    "users.info()"
   ]
  },
  {
   "cell_type": "code",
   "execution_count": 11,
   "metadata": {
    "colab": {
     "base_uri": "https://localhost:8080/",
     "height": 300
    },
    "id": "8GzEFCM0pGZ1",
    "outputId": "cd1119b8-2191-4c33-9019-722683d0775d"
   },
   "outputs": [
    {
     "data": {
      "text/html": [
       "<div>\n",
       "<style scoped>\n",
       "    .dataframe tbody tr th:only-of-type {\n",
       "        vertical-align: middle;\n",
       "    }\n",
       "\n",
       "    .dataframe tbody tr th {\n",
       "        vertical-align: top;\n",
       "    }\n",
       "\n",
       "    .dataframe thead th {\n",
       "        text-align: right;\n",
       "    }\n",
       "</style>\n",
       "<table border=\"1\" class=\"dataframe\">\n",
       "  <thead>\n",
       "    <tr style=\"text-align: right;\">\n",
       "      <th></th>\n",
       "      <th>user_id</th>\n",
       "      <th>age</th>\n",
       "    </tr>\n",
       "  </thead>\n",
       "  <tbody>\n",
       "    <tr>\n",
       "      <th>count</th>\n",
       "      <td>500.000000</td>\n",
       "      <td>500.000000</td>\n",
       "    </tr>\n",
       "    <tr>\n",
       "      <th>mean</th>\n",
       "      <td>1249.500000</td>\n",
       "      <td>45.486000</td>\n",
       "    </tr>\n",
       "    <tr>\n",
       "      <th>std</th>\n",
       "      <td>144.481833</td>\n",
       "      <td>16.972269</td>\n",
       "    </tr>\n",
       "    <tr>\n",
       "      <th>min</th>\n",
       "      <td>1000.000000</td>\n",
       "      <td>18.000000</td>\n",
       "    </tr>\n",
       "    <tr>\n",
       "      <th>25%</th>\n",
       "      <td>1124.750000</td>\n",
       "      <td>30.000000</td>\n",
       "    </tr>\n",
       "    <tr>\n",
       "      <th>50%</th>\n",
       "      <td>1249.500000</td>\n",
       "      <td>46.000000</td>\n",
       "    </tr>\n",
       "    <tr>\n",
       "      <th>75%</th>\n",
       "      <td>1374.250000</td>\n",
       "      <td>61.000000</td>\n",
       "    </tr>\n",
       "    <tr>\n",
       "      <th>max</th>\n",
       "      <td>1499.000000</td>\n",
       "      <td>75.000000</td>\n",
       "    </tr>\n",
       "  </tbody>\n",
       "</table>\n",
       "</div>"
      ],
      "text/plain": [
       "           user_id         age\n",
       "count   500.000000  500.000000\n",
       "mean   1249.500000   45.486000\n",
       "std     144.481833   16.972269\n",
       "min    1000.000000   18.000000\n",
       "25%    1124.750000   30.000000\n",
       "50%    1249.500000   46.000000\n",
       "75%    1374.250000   61.000000\n",
       "max    1499.000000   75.000000"
      ]
     },
     "metadata": {},
     "output_type": "display_data"
    }
   ],
   "source": [
    "# Printing the summary statistics of the dataframe\n",
    "display(users.describe())"
   ]
  },
  {
   "cell_type": "markdown",
   "metadata": {
    "id": "nPjXW_Vo5T1D"
   },
   "source": [
    "**OBSERVATION**\n",
    "- In the city column we have multiple information present including city name,state name and metropolitant area.We can sepearte these into individuals columns if needed for the analysis based on states and metropolitant area.\n",
    "- In the churn date we have only 34 values available but thier unavailability also highlights the important information as it tells these are the customers  who were still using the service when the information in the database was collected.\n",
    "- The min age is 18 years and the maximum age is 75 years.\n",
    "- All the data types are correct expect dates related columns."
   ]
  },
  {
   "cell_type": "markdown",
   "metadata": {
    "id": "HrzNgSZqIi2J"
   },
   "source": [
    "# Fix data"
   ]
  },
  {
   "cell_type": "code",
   "execution_count": 12,
   "metadata": {
    "colab": {
     "base_uri": "https://localhost:8080/",
     "height": 424
    },
    "id": "hnanVZIX8F3e",
    "outputId": "f4bc0ca4-faed-4ebf-e94e-7c982cd83c6a"
   },
   "outputs": [
    {
     "data": {
      "text/html": [
       "<div>\n",
       "<style scoped>\n",
       "    .dataframe tbody tr th:only-of-type {\n",
       "        vertical-align: middle;\n",
       "    }\n",
       "\n",
       "    .dataframe tbody tr th {\n",
       "        vertical-align: top;\n",
       "    }\n",
       "\n",
       "    .dataframe thead th {\n",
       "        text-align: right;\n",
       "    }\n",
       "</style>\n",
       "<table border=\"1\" class=\"dataframe\">\n",
       "  <thead>\n",
       "    <tr style=\"text-align: right;\">\n",
       "      <th></th>\n",
       "      <th>user_id</th>\n",
       "      <th>first_name</th>\n",
       "      <th>last_name</th>\n",
       "      <th>age</th>\n",
       "      <th>city</th>\n",
       "      <th>reg_date</th>\n",
       "      <th>plan</th>\n",
       "      <th>churn_date</th>\n",
       "    </tr>\n",
       "  </thead>\n",
       "  <tbody>\n",
       "    <tr>\n",
       "      <th>0</th>\n",
       "      <td>1000</td>\n",
       "      <td>Anamaria</td>\n",
       "      <td>Bauer</td>\n",
       "      <td>45</td>\n",
       "      <td>Atlanta-Sandy Springs-Roswell, GA MSA</td>\n",
       "      <td>2018-12-24</td>\n",
       "      <td>ultimate</td>\n",
       "      <td>NaT</td>\n",
       "    </tr>\n",
       "    <tr>\n",
       "      <th>1</th>\n",
       "      <td>1001</td>\n",
       "      <td>Mickey</td>\n",
       "      <td>Wilkerson</td>\n",
       "      <td>28</td>\n",
       "      <td>Seattle-Tacoma-Bellevue, WA MSA</td>\n",
       "      <td>2018-08-13</td>\n",
       "      <td>surf</td>\n",
       "      <td>NaT</td>\n",
       "    </tr>\n",
       "    <tr>\n",
       "      <th>2</th>\n",
       "      <td>1002</td>\n",
       "      <td>Carlee</td>\n",
       "      <td>Hoffman</td>\n",
       "      <td>36</td>\n",
       "      <td>Las Vegas-Henderson-Paradise, NV MSA</td>\n",
       "      <td>2018-10-21</td>\n",
       "      <td>surf</td>\n",
       "      <td>NaT</td>\n",
       "    </tr>\n",
       "    <tr>\n",
       "      <th>3</th>\n",
       "      <td>1003</td>\n",
       "      <td>Reynaldo</td>\n",
       "      <td>Jenkins</td>\n",
       "      <td>52</td>\n",
       "      <td>Tulsa, OK MSA</td>\n",
       "      <td>2018-01-28</td>\n",
       "      <td>surf</td>\n",
       "      <td>NaT</td>\n",
       "    </tr>\n",
       "    <tr>\n",
       "      <th>4</th>\n",
       "      <td>1004</td>\n",
       "      <td>Leonila</td>\n",
       "      <td>Thompson</td>\n",
       "      <td>40</td>\n",
       "      <td>Seattle-Tacoma-Bellevue, WA MSA</td>\n",
       "      <td>2018-05-23</td>\n",
       "      <td>surf</td>\n",
       "      <td>NaT</td>\n",
       "    </tr>\n",
       "    <tr>\n",
       "      <th>...</th>\n",
       "      <td>...</td>\n",
       "      <td>...</td>\n",
       "      <td>...</td>\n",
       "      <td>...</td>\n",
       "      <td>...</td>\n",
       "      <td>...</td>\n",
       "      <td>...</td>\n",
       "      <td>...</td>\n",
       "    </tr>\n",
       "    <tr>\n",
       "      <th>495</th>\n",
       "      <td>1495</td>\n",
       "      <td>Fidel</td>\n",
       "      <td>Sharpe</td>\n",
       "      <td>67</td>\n",
       "      <td>New York-Newark-Jersey City, NY-NJ-PA MSA</td>\n",
       "      <td>2018-09-04</td>\n",
       "      <td>surf</td>\n",
       "      <td>NaT</td>\n",
       "    </tr>\n",
       "    <tr>\n",
       "      <th>496</th>\n",
       "      <td>1496</td>\n",
       "      <td>Ariel</td>\n",
       "      <td>Shepherd</td>\n",
       "      <td>49</td>\n",
       "      <td>New Orleans-Metairie, LA MSA</td>\n",
       "      <td>2018-02-20</td>\n",
       "      <td>surf</td>\n",
       "      <td>NaT</td>\n",
       "    </tr>\n",
       "    <tr>\n",
       "      <th>497</th>\n",
       "      <td>1497</td>\n",
       "      <td>Donte</td>\n",
       "      <td>Barrera</td>\n",
       "      <td>49</td>\n",
       "      <td>Los Angeles-Long Beach-Anaheim, CA MSA</td>\n",
       "      <td>2018-12-10</td>\n",
       "      <td>ultimate</td>\n",
       "      <td>NaT</td>\n",
       "    </tr>\n",
       "    <tr>\n",
       "      <th>498</th>\n",
       "      <td>1498</td>\n",
       "      <td>Scot</td>\n",
       "      <td>Williamson</td>\n",
       "      <td>51</td>\n",
       "      <td>New York-Newark-Jersey City, NY-NJ-PA MSA</td>\n",
       "      <td>2018-02-04</td>\n",
       "      <td>surf</td>\n",
       "      <td>NaT</td>\n",
       "    </tr>\n",
       "    <tr>\n",
       "      <th>499</th>\n",
       "      <td>1499</td>\n",
       "      <td>Shena</td>\n",
       "      <td>Dickson</td>\n",
       "      <td>37</td>\n",
       "      <td>Orlando-Kissimmee-Sanford, FL MSA</td>\n",
       "      <td>2018-05-06</td>\n",
       "      <td>surf</td>\n",
       "      <td>NaT</td>\n",
       "    </tr>\n",
       "  </tbody>\n",
       "</table>\n",
       "<p>500 rows × 8 columns</p>\n",
       "</div>"
      ],
      "text/plain": [
       "     user_id first_name   last_name  age  \\\n",
       "0       1000   Anamaria       Bauer   45   \n",
       "1       1001     Mickey   Wilkerson   28   \n",
       "2       1002     Carlee     Hoffman   36   \n",
       "3       1003   Reynaldo     Jenkins   52   \n",
       "4       1004    Leonila    Thompson   40   \n",
       "..       ...        ...         ...  ...   \n",
       "495     1495      Fidel      Sharpe   67   \n",
       "496     1496      Ariel    Shepherd   49   \n",
       "497     1497      Donte     Barrera   49   \n",
       "498     1498       Scot  Williamson   51   \n",
       "499     1499      Shena     Dickson   37   \n",
       "\n",
       "                                          city   reg_date      plan churn_date  \n",
       "0        Atlanta-Sandy Springs-Roswell, GA MSA 2018-12-24  ultimate        NaT  \n",
       "1              Seattle-Tacoma-Bellevue, WA MSA 2018-08-13      surf        NaT  \n",
       "2         Las Vegas-Henderson-Paradise, NV MSA 2018-10-21      surf        NaT  \n",
       "3                                Tulsa, OK MSA 2018-01-28      surf        NaT  \n",
       "4              Seattle-Tacoma-Bellevue, WA MSA 2018-05-23      surf        NaT  \n",
       "..                                         ...        ...       ...        ...  \n",
       "495  New York-Newark-Jersey City, NY-NJ-PA MSA 2018-09-04      surf        NaT  \n",
       "496               New Orleans-Metairie, LA MSA 2018-02-20      surf        NaT  \n",
       "497     Los Angeles-Long Beach-Anaheim, CA MSA 2018-12-10  ultimate        NaT  \n",
       "498  New York-Newark-Jersey City, NY-NJ-PA MSA 2018-02-04      surf        NaT  \n",
       "499          Orlando-Kissimmee-Sanford, FL MSA 2018-05-06      surf        NaT  \n",
       "\n",
       "[500 rows x 8 columns]"
      ]
     },
     "metadata": {},
     "output_type": "display_data"
    }
   ],
   "source": [
    "# Convert the 'reg_date' and 'churn_date' columns to date type\n",
    "users['reg_date'] = pd.to_datetime(users['reg_date'])\n",
    "users['churn_date'] = pd.to_datetime(users['churn_date'])\n",
    "\n",
    "# Display the updated DataFrame\n",
    "display(users)"
   ]
  },
  {
   "cell_type": "code",
   "execution_count": 13,
   "metadata": {
    "colab": {
     "base_uri": "https://localhost:8080/"
    },
    "id": "23MVkKME8UWM",
    "outputId": "10bc6c92-5ba0-41fa-95f8-206c763d725b"
   },
   "outputs": [
    {
     "name": "stdout",
     "output_type": "stream",
     "text": [
      "<class 'pandas.core.frame.DataFrame'>\n",
      "RangeIndex: 500 entries, 0 to 499\n",
      "Data columns (total 8 columns):\n",
      " #   Column      Non-Null Count  Dtype         \n",
      "---  ------      --------------  -----         \n",
      " 0   user_id     500 non-null    int64         \n",
      " 1   first_name  500 non-null    object        \n",
      " 2   last_name   500 non-null    object        \n",
      " 3   age         500 non-null    int64         \n",
      " 4   city        500 non-null    object        \n",
      " 5   reg_date    500 non-null    datetime64[ns]\n",
      " 6   plan        500 non-null    object        \n",
      " 7   churn_date  34 non-null     datetime64[ns]\n",
      "dtypes: datetime64[ns](2), int64(2), object(4)\n",
      "memory usage: 31.4+ KB\n"
     ]
    }
   ],
   "source": [
    "# now the date column data type is chagnged\n",
    "users.info()"
   ]
  },
  {
   "cell_type": "markdown",
   "metadata": {
    "id": "4jvZxNev8hux"
   },
   "source": [
    "**Reason for changing date data type?**\n",
    "\n",
    "Converting the 'call_date' column to datetime format ensures data consistency and enables date-based operations, sorting, and visualization in analyses which would otherwise be impossible to do in case the date is present in string form."
   ]
  },
  {
   "cell_type": "markdown",
   "metadata": {
    "id": "7WmUbImAIi2S"
   },
   "source": [
    "# Enrich data"
   ]
  },
  {
   "cell_type": "code",
   "execution_count": 14,
   "metadata": {
    "colab": {
     "base_uri": "https://localhost:8080/",
     "height": 424
    },
    "id": "WY599oiKWa48",
    "outputId": "52f3b54a-29ea-4908-d7e0-b551993e1ff6"
   },
   "outputs": [
    {
     "data": {
      "text/html": [
       "<div>\n",
       "<style scoped>\n",
       "    .dataframe tbody tr th:only-of-type {\n",
       "        vertical-align: middle;\n",
       "    }\n",
       "\n",
       "    .dataframe tbody tr th {\n",
       "        vertical-align: top;\n",
       "    }\n",
       "\n",
       "    .dataframe thead th {\n",
       "        text-align: right;\n",
       "    }\n",
       "</style>\n",
       "<table border=\"1\" class=\"dataframe\">\n",
       "  <thead>\n",
       "    <tr style=\"text-align: right;\">\n",
       "      <th></th>\n",
       "      <th>user_id</th>\n",
       "      <th>first_name</th>\n",
       "      <th>last_name</th>\n",
       "      <th>age</th>\n",
       "      <th>city</th>\n",
       "      <th>reg_date</th>\n",
       "      <th>plan</th>\n",
       "      <th>churn_date</th>\n",
       "      <th>state_msa</th>\n",
       "    </tr>\n",
       "  </thead>\n",
       "  <tbody>\n",
       "    <tr>\n",
       "      <th>0</th>\n",
       "      <td>1000</td>\n",
       "      <td>Anamaria</td>\n",
       "      <td>Bauer</td>\n",
       "      <td>45</td>\n",
       "      <td>Atlanta-Sandy Springs-Roswell</td>\n",
       "      <td>2018-12-24</td>\n",
       "      <td>ultimate</td>\n",
       "      <td>NaT</td>\n",
       "      <td>GA MSA</td>\n",
       "    </tr>\n",
       "    <tr>\n",
       "      <th>1</th>\n",
       "      <td>1001</td>\n",
       "      <td>Mickey</td>\n",
       "      <td>Wilkerson</td>\n",
       "      <td>28</td>\n",
       "      <td>Seattle-Tacoma-Bellevue</td>\n",
       "      <td>2018-08-13</td>\n",
       "      <td>surf</td>\n",
       "      <td>NaT</td>\n",
       "      <td>WA MSA</td>\n",
       "    </tr>\n",
       "    <tr>\n",
       "      <th>2</th>\n",
       "      <td>1002</td>\n",
       "      <td>Carlee</td>\n",
       "      <td>Hoffman</td>\n",
       "      <td>36</td>\n",
       "      <td>Las Vegas-Henderson-Paradise</td>\n",
       "      <td>2018-10-21</td>\n",
       "      <td>surf</td>\n",
       "      <td>NaT</td>\n",
       "      <td>NV MSA</td>\n",
       "    </tr>\n",
       "    <tr>\n",
       "      <th>3</th>\n",
       "      <td>1003</td>\n",
       "      <td>Reynaldo</td>\n",
       "      <td>Jenkins</td>\n",
       "      <td>52</td>\n",
       "      <td>Tulsa</td>\n",
       "      <td>2018-01-28</td>\n",
       "      <td>surf</td>\n",
       "      <td>NaT</td>\n",
       "      <td>OK MSA</td>\n",
       "    </tr>\n",
       "    <tr>\n",
       "      <th>4</th>\n",
       "      <td>1004</td>\n",
       "      <td>Leonila</td>\n",
       "      <td>Thompson</td>\n",
       "      <td>40</td>\n",
       "      <td>Seattle-Tacoma-Bellevue</td>\n",
       "      <td>2018-05-23</td>\n",
       "      <td>surf</td>\n",
       "      <td>NaT</td>\n",
       "      <td>WA MSA</td>\n",
       "    </tr>\n",
       "    <tr>\n",
       "      <th>...</th>\n",
       "      <td>...</td>\n",
       "      <td>...</td>\n",
       "      <td>...</td>\n",
       "      <td>...</td>\n",
       "      <td>...</td>\n",
       "      <td>...</td>\n",
       "      <td>...</td>\n",
       "      <td>...</td>\n",
       "      <td>...</td>\n",
       "    </tr>\n",
       "    <tr>\n",
       "      <th>495</th>\n",
       "      <td>1495</td>\n",
       "      <td>Fidel</td>\n",
       "      <td>Sharpe</td>\n",
       "      <td>67</td>\n",
       "      <td>New York-Newark-Jersey City</td>\n",
       "      <td>2018-09-04</td>\n",
       "      <td>surf</td>\n",
       "      <td>NaT</td>\n",
       "      <td>NY-NJ-PA MSA</td>\n",
       "    </tr>\n",
       "    <tr>\n",
       "      <th>496</th>\n",
       "      <td>1496</td>\n",
       "      <td>Ariel</td>\n",
       "      <td>Shepherd</td>\n",
       "      <td>49</td>\n",
       "      <td>New Orleans-Metairie</td>\n",
       "      <td>2018-02-20</td>\n",
       "      <td>surf</td>\n",
       "      <td>NaT</td>\n",
       "      <td>LA MSA</td>\n",
       "    </tr>\n",
       "    <tr>\n",
       "      <th>497</th>\n",
       "      <td>1497</td>\n",
       "      <td>Donte</td>\n",
       "      <td>Barrera</td>\n",
       "      <td>49</td>\n",
       "      <td>Los Angeles-Long Beach-Anaheim</td>\n",
       "      <td>2018-12-10</td>\n",
       "      <td>ultimate</td>\n",
       "      <td>NaT</td>\n",
       "      <td>CA MSA</td>\n",
       "    </tr>\n",
       "    <tr>\n",
       "      <th>498</th>\n",
       "      <td>1498</td>\n",
       "      <td>Scot</td>\n",
       "      <td>Williamson</td>\n",
       "      <td>51</td>\n",
       "      <td>New York-Newark-Jersey City</td>\n",
       "      <td>2018-02-04</td>\n",
       "      <td>surf</td>\n",
       "      <td>NaT</td>\n",
       "      <td>NY-NJ-PA MSA</td>\n",
       "    </tr>\n",
       "    <tr>\n",
       "      <th>499</th>\n",
       "      <td>1499</td>\n",
       "      <td>Shena</td>\n",
       "      <td>Dickson</td>\n",
       "      <td>37</td>\n",
       "      <td>Orlando-Kissimmee-Sanford</td>\n",
       "      <td>2018-05-06</td>\n",
       "      <td>surf</td>\n",
       "      <td>NaT</td>\n",
       "      <td>FL MSA</td>\n",
       "    </tr>\n",
       "  </tbody>\n",
       "</table>\n",
       "<p>500 rows × 9 columns</p>\n",
       "</div>"
      ],
      "text/plain": [
       "     user_id first_name   last_name  age                            city  \\\n",
       "0       1000   Anamaria       Bauer   45   Atlanta-Sandy Springs-Roswell   \n",
       "1       1001     Mickey   Wilkerson   28         Seattle-Tacoma-Bellevue   \n",
       "2       1002     Carlee     Hoffman   36    Las Vegas-Henderson-Paradise   \n",
       "3       1003   Reynaldo     Jenkins   52                           Tulsa   \n",
       "4       1004    Leonila    Thompson   40         Seattle-Tacoma-Bellevue   \n",
       "..       ...        ...         ...  ...                             ...   \n",
       "495     1495      Fidel      Sharpe   67     New York-Newark-Jersey City   \n",
       "496     1496      Ariel    Shepherd   49            New Orleans-Metairie   \n",
       "497     1497      Donte     Barrera   49  Los Angeles-Long Beach-Anaheim   \n",
       "498     1498       Scot  Williamson   51     New York-Newark-Jersey City   \n",
       "499     1499      Shena     Dickson   37       Orlando-Kissimmee-Sanford   \n",
       "\n",
       "      reg_date      plan churn_date     state_msa  \n",
       "0   2018-12-24  ultimate        NaT        GA MSA  \n",
       "1   2018-08-13      surf        NaT        WA MSA  \n",
       "2   2018-10-21      surf        NaT        NV MSA  \n",
       "3   2018-01-28      surf        NaT        OK MSA  \n",
       "4   2018-05-23      surf        NaT        WA MSA  \n",
       "..         ...       ...        ...           ...  \n",
       "495 2018-09-04      surf        NaT  NY-NJ-PA MSA  \n",
       "496 2018-02-20      surf        NaT        LA MSA  \n",
       "497 2018-12-10  ultimate        NaT        CA MSA  \n",
       "498 2018-02-04      surf        NaT  NY-NJ-PA MSA  \n",
       "499 2018-05-06      surf        NaT        FL MSA  \n",
       "\n",
       "[500 rows x 9 columns]"
      ]
     },
     "metadata": {},
     "output_type": "display_data"
    }
   ],
   "source": [
    "# Split the \"city\" column into city, state, and metropolitan area\n",
    "city_info = users['city'].str.split(', ', expand=True)\n",
    "users['city'] = city_info[0]\n",
    "users['state_msa'] = city_info[1]\n",
    "# display the updated DataFrame\n",
    "display(users)"
   ]
  },
  {
   "cell_type": "markdown",
   "metadata": {
    "id": "YQIwJ5yLd21y"
   },
   "source": [
    "**Reason for splitting the city column**\n",
    "\n",
    "We have done it because we have to perform the statistical testing based on specific states so we have to extract the states values from it."
   ]
  },
  {
   "cell_type": "code",
   "execution_count": 15,
   "metadata": {
    "colab": {
     "base_uri": "https://localhost:8080/",
     "height": 424
    },
    "id": "zs86oOZEquzL",
    "outputId": "a633a311-166d-4300-a9d8-a4349aeaee2c"
   },
   "outputs": [
    {
     "data": {
      "text/html": [
       "<div>\n",
       "<style scoped>\n",
       "    .dataframe tbody tr th:only-of-type {\n",
       "        vertical-align: middle;\n",
       "    }\n",
       "\n",
       "    .dataframe tbody tr th {\n",
       "        vertical-align: top;\n",
       "    }\n",
       "\n",
       "    .dataframe thead th {\n",
       "        text-align: right;\n",
       "    }\n",
       "</style>\n",
       "<table border=\"1\" class=\"dataframe\">\n",
       "  <thead>\n",
       "    <tr style=\"text-align: right;\">\n",
       "      <th></th>\n",
       "      <th>user_id</th>\n",
       "      <th>first_name</th>\n",
       "      <th>last_name</th>\n",
       "      <th>age</th>\n",
       "      <th>city</th>\n",
       "      <th>reg_date</th>\n",
       "      <th>plan</th>\n",
       "      <th>churn_date</th>\n",
       "      <th>state_msa</th>\n",
       "      <th>age_group</th>\n",
       "      <th>reg_year</th>\n",
       "      <th>reg_month</th>\n",
       "    </tr>\n",
       "  </thead>\n",
       "  <tbody>\n",
       "    <tr>\n",
       "      <th>0</th>\n",
       "      <td>1000</td>\n",
       "      <td>Anamaria</td>\n",
       "      <td>Bauer</td>\n",
       "      <td>45</td>\n",
       "      <td>Atlanta-Sandy Springs-Roswell</td>\n",
       "      <td>2018-12-24</td>\n",
       "      <td>ultimate</td>\n",
       "      <td>NaT</td>\n",
       "      <td>GA MSA</td>\n",
       "      <td>36-45</td>\n",
       "      <td>2018</td>\n",
       "      <td>12</td>\n",
       "    </tr>\n",
       "    <tr>\n",
       "      <th>1</th>\n",
       "      <td>1001</td>\n",
       "      <td>Mickey</td>\n",
       "      <td>Wilkerson</td>\n",
       "      <td>28</td>\n",
       "      <td>Seattle-Tacoma-Bellevue</td>\n",
       "      <td>2018-08-13</td>\n",
       "      <td>surf</td>\n",
       "      <td>NaT</td>\n",
       "      <td>WA MSA</td>\n",
       "      <td>26-35</td>\n",
       "      <td>2018</td>\n",
       "      <td>8</td>\n",
       "    </tr>\n",
       "    <tr>\n",
       "      <th>2</th>\n",
       "      <td>1002</td>\n",
       "      <td>Carlee</td>\n",
       "      <td>Hoffman</td>\n",
       "      <td>36</td>\n",
       "      <td>Las Vegas-Henderson-Paradise</td>\n",
       "      <td>2018-10-21</td>\n",
       "      <td>surf</td>\n",
       "      <td>NaT</td>\n",
       "      <td>NV MSA</td>\n",
       "      <td>36-45</td>\n",
       "      <td>2018</td>\n",
       "      <td>10</td>\n",
       "    </tr>\n",
       "    <tr>\n",
       "      <th>3</th>\n",
       "      <td>1003</td>\n",
       "      <td>Reynaldo</td>\n",
       "      <td>Jenkins</td>\n",
       "      <td>52</td>\n",
       "      <td>Tulsa</td>\n",
       "      <td>2018-01-28</td>\n",
       "      <td>surf</td>\n",
       "      <td>NaT</td>\n",
       "      <td>OK MSA</td>\n",
       "      <td>46-55</td>\n",
       "      <td>2018</td>\n",
       "      <td>1</td>\n",
       "    </tr>\n",
       "    <tr>\n",
       "      <th>4</th>\n",
       "      <td>1004</td>\n",
       "      <td>Leonila</td>\n",
       "      <td>Thompson</td>\n",
       "      <td>40</td>\n",
       "      <td>Seattle-Tacoma-Bellevue</td>\n",
       "      <td>2018-05-23</td>\n",
       "      <td>surf</td>\n",
       "      <td>NaT</td>\n",
       "      <td>WA MSA</td>\n",
       "      <td>36-45</td>\n",
       "      <td>2018</td>\n",
       "      <td>5</td>\n",
       "    </tr>\n",
       "    <tr>\n",
       "      <th>...</th>\n",
       "      <td>...</td>\n",
       "      <td>...</td>\n",
       "      <td>...</td>\n",
       "      <td>...</td>\n",
       "      <td>...</td>\n",
       "      <td>...</td>\n",
       "      <td>...</td>\n",
       "      <td>...</td>\n",
       "      <td>...</td>\n",
       "      <td>...</td>\n",
       "      <td>...</td>\n",
       "      <td>...</td>\n",
       "    </tr>\n",
       "    <tr>\n",
       "      <th>495</th>\n",
       "      <td>1495</td>\n",
       "      <td>Fidel</td>\n",
       "      <td>Sharpe</td>\n",
       "      <td>67</td>\n",
       "      <td>New York-Newark-Jersey City</td>\n",
       "      <td>2018-09-04</td>\n",
       "      <td>surf</td>\n",
       "      <td>NaT</td>\n",
       "      <td>NY-NJ-PA MSA</td>\n",
       "      <td>55+</td>\n",
       "      <td>2018</td>\n",
       "      <td>9</td>\n",
       "    </tr>\n",
       "    <tr>\n",
       "      <th>496</th>\n",
       "      <td>1496</td>\n",
       "      <td>Ariel</td>\n",
       "      <td>Shepherd</td>\n",
       "      <td>49</td>\n",
       "      <td>New Orleans-Metairie</td>\n",
       "      <td>2018-02-20</td>\n",
       "      <td>surf</td>\n",
       "      <td>NaT</td>\n",
       "      <td>LA MSA</td>\n",
       "      <td>46-55</td>\n",
       "      <td>2018</td>\n",
       "      <td>2</td>\n",
       "    </tr>\n",
       "    <tr>\n",
       "      <th>497</th>\n",
       "      <td>1497</td>\n",
       "      <td>Donte</td>\n",
       "      <td>Barrera</td>\n",
       "      <td>49</td>\n",
       "      <td>Los Angeles-Long Beach-Anaheim</td>\n",
       "      <td>2018-12-10</td>\n",
       "      <td>ultimate</td>\n",
       "      <td>NaT</td>\n",
       "      <td>CA MSA</td>\n",
       "      <td>46-55</td>\n",
       "      <td>2018</td>\n",
       "      <td>12</td>\n",
       "    </tr>\n",
       "    <tr>\n",
       "      <th>498</th>\n",
       "      <td>1498</td>\n",
       "      <td>Scot</td>\n",
       "      <td>Williamson</td>\n",
       "      <td>51</td>\n",
       "      <td>New York-Newark-Jersey City</td>\n",
       "      <td>2018-02-04</td>\n",
       "      <td>surf</td>\n",
       "      <td>NaT</td>\n",
       "      <td>NY-NJ-PA MSA</td>\n",
       "      <td>46-55</td>\n",
       "      <td>2018</td>\n",
       "      <td>2</td>\n",
       "    </tr>\n",
       "    <tr>\n",
       "      <th>499</th>\n",
       "      <td>1499</td>\n",
       "      <td>Shena</td>\n",
       "      <td>Dickson</td>\n",
       "      <td>37</td>\n",
       "      <td>Orlando-Kissimmee-Sanford</td>\n",
       "      <td>2018-05-06</td>\n",
       "      <td>surf</td>\n",
       "      <td>NaT</td>\n",
       "      <td>FL MSA</td>\n",
       "      <td>36-45</td>\n",
       "      <td>2018</td>\n",
       "      <td>5</td>\n",
       "    </tr>\n",
       "  </tbody>\n",
       "</table>\n",
       "<p>500 rows × 12 columns</p>\n",
       "</div>"
      ],
      "text/plain": [
       "     user_id first_name   last_name  age                            city  \\\n",
       "0       1000   Anamaria       Bauer   45   Atlanta-Sandy Springs-Roswell   \n",
       "1       1001     Mickey   Wilkerson   28         Seattle-Tacoma-Bellevue   \n",
       "2       1002     Carlee     Hoffman   36    Las Vegas-Henderson-Paradise   \n",
       "3       1003   Reynaldo     Jenkins   52                           Tulsa   \n",
       "4       1004    Leonila    Thompson   40         Seattle-Tacoma-Bellevue   \n",
       "..       ...        ...         ...  ...                             ...   \n",
       "495     1495      Fidel      Sharpe   67     New York-Newark-Jersey City   \n",
       "496     1496      Ariel    Shepherd   49            New Orleans-Metairie   \n",
       "497     1497      Donte     Barrera   49  Los Angeles-Long Beach-Anaheim   \n",
       "498     1498       Scot  Williamson   51     New York-Newark-Jersey City   \n",
       "499     1499      Shena     Dickson   37       Orlando-Kissimmee-Sanford   \n",
       "\n",
       "      reg_date      plan churn_date     state_msa age_group  reg_year  \\\n",
       "0   2018-12-24  ultimate        NaT        GA MSA     36-45      2018   \n",
       "1   2018-08-13      surf        NaT        WA MSA     26-35      2018   \n",
       "2   2018-10-21      surf        NaT        NV MSA     36-45      2018   \n",
       "3   2018-01-28      surf        NaT        OK MSA     46-55      2018   \n",
       "4   2018-05-23      surf        NaT        WA MSA     36-45      2018   \n",
       "..         ...       ...        ...           ...       ...       ...   \n",
       "495 2018-09-04      surf        NaT  NY-NJ-PA MSA       55+      2018   \n",
       "496 2018-02-20      surf        NaT        LA MSA     46-55      2018   \n",
       "497 2018-12-10  ultimate        NaT        CA MSA     46-55      2018   \n",
       "498 2018-02-04      surf        NaT  NY-NJ-PA MSA     46-55      2018   \n",
       "499 2018-05-06      surf        NaT        FL MSA     36-45      2018   \n",
       "\n",
       "     reg_month  \n",
       "0           12  \n",
       "1            8  \n",
       "2           10  \n",
       "3            1  \n",
       "4            5  \n",
       "..         ...  \n",
       "495          9  \n",
       "496          2  \n",
       "497         12  \n",
       "498          2  \n",
       "499          5  \n",
       "\n",
       "[500 rows x 12 columns]"
      ]
     },
     "metadata": {},
     "output_type": "display_data"
    }
   ],
   "source": [
    "# 1. Age Group\n",
    "users['age_group'] = pd.cut(users['age'], bins=[18, 25, 35, 45, 55, 100], labels=['18-25', '26-35', '36-45', '46-55', '55+'])\n",
    "# 2. Registration Year and Month\n",
    "users['reg_year'] = pd.to_datetime(users['reg_date']).dt.year\n",
    "users['reg_month'] = pd.to_datetime(users['reg_date']).dt.month\n",
    "display(users)"
   ]
  },
  {
   "cell_type": "markdown",
   "metadata": {},
   "source": [
    "Comparing different groups over time. For example, group customer data by year and country to compare customer behavior in different countries over time. This could help you identify which countries are experiencing the fastest growth, which countries are losing customers, and which countries are most profitable.\n"
   ]
  },
  {
   "cell_type": "markdown",
   "metadata": {
    "id": "rf7uEW0_0oKH"
   },
   "source": [
    "**Reason for age groups and reg month**\n",
    "\n",
    " - Extract the registration year and month from the 'reg_date' column. This can be useful for tracking user registration trends over time.\n",
    " - Categorize users into age groups (e.g., 18-25, 26-35, 36-45, etc.). This can help in understanding the distribution of users across different age ranges."
   ]
  },
  {
   "cell_type": "markdown",
   "metadata": {
    "id": "7rMc5-obFkiS"
   },
   "source": [
    "**What do we need age segmentation for?**\n",
    "\n",
    "**Marketing Targeting:** Age segmentation helps tailor marketing efforts for each plan based on age group preferences and responsiveness to advertising messages.\n",
    "\n",
    "**Product Customization:** It allows customization of plan features, pricing, and add-ons to match the specific needs and budgets of different age groups.\n",
    "\n",
    "**Churn Analysis:** By understanding age-specific churn patterns, it enables adjustments to improve customer retention strategies.\n",
    "\n",
    "**Revenue Maximization:** It aids in optimizing pricing and service offerings to maximize revenue, considering how different age groups use telecom services.\n",
    "\n",
    "**Demographic Insights:** Combined with other demographic data like location, it provides a comprehensive view of the customer base for informed business decisions and market expansion."
   ]
  },
  {
   "cell_type": "markdown",
   "metadata": {
    "id": "Qu4_XIw0m85M"
   },
   "source": [
    "\n",
    "\n",
    "---\n",
    "\n"
   ]
  },
  {
   "cell_type": "markdown",
   "metadata": {
    "id": "Wkz156Ejjq2Y"
   },
   "source": [
    "# 3. Calls"
   ]
  },
  {
   "cell_type": "code",
   "execution_count": 16,
   "metadata": {
    "colab": {
     "base_uri": "https://localhost:8080/",
     "height": 206
    },
    "id": "B0P34bmU5Ten",
    "outputId": "cd27ee5b-c7e8-419d-bdaa-66801c8e389c"
   },
   "outputs": [
    {
     "data": {
      "text/html": [
       "<div>\n",
       "<style scoped>\n",
       "    .dataframe tbody tr th:only-of-type {\n",
       "        vertical-align: middle;\n",
       "    }\n",
       "\n",
       "    .dataframe tbody tr th {\n",
       "        vertical-align: top;\n",
       "    }\n",
       "\n",
       "    .dataframe thead th {\n",
       "        text-align: right;\n",
       "    }\n",
       "</style>\n",
       "<table border=\"1\" class=\"dataframe\">\n",
       "  <thead>\n",
       "    <tr style=\"text-align: right;\">\n",
       "      <th></th>\n",
       "      <th>id</th>\n",
       "      <th>user_id</th>\n",
       "      <th>call_date</th>\n",
       "      <th>duration</th>\n",
       "    </tr>\n",
       "  </thead>\n",
       "  <tbody>\n",
       "    <tr>\n",
       "      <th>82185</th>\n",
       "      <td>1296_76</td>\n",
       "      <td>1296</td>\n",
       "      <td>2018-11-07</td>\n",
       "      <td>0.00</td>\n",
       "    </tr>\n",
       "    <tr>\n",
       "      <th>99150</th>\n",
       "      <td>1355_228</td>\n",
       "      <td>1355</td>\n",
       "      <td>2018-12-26</td>\n",
       "      <td>4.66</td>\n",
       "    </tr>\n",
       "    <tr>\n",
       "      <th>21351</th>\n",
       "      <td>1079_64</td>\n",
       "      <td>1079</td>\n",
       "      <td>2018-08-16</td>\n",
       "      <td>7.68</td>\n",
       "    </tr>\n",
       "    <tr>\n",
       "      <th>105684</th>\n",
       "      <td>1373_164</td>\n",
       "      <td>1373</td>\n",
       "      <td>2018-10-04</td>\n",
       "      <td>0.00</td>\n",
       "    </tr>\n",
       "    <tr>\n",
       "      <th>40011</th>\n",
       "      <td>1147_839</td>\n",
       "      <td>1147</td>\n",
       "      <td>2018-08-10</td>\n",
       "      <td>28.37</td>\n",
       "    </tr>\n",
       "  </tbody>\n",
       "</table>\n",
       "</div>"
      ],
      "text/plain": [
       "              id  user_id   call_date  duration\n",
       "82185    1296_76     1296  2018-11-07      0.00\n",
       "99150   1355_228     1355  2018-12-26      4.66\n",
       "21351    1079_64     1079  2018-08-16      7.68\n",
       "105684  1373_164     1373  2018-10-04      0.00\n",
       "40011   1147_839     1147  2018-08-10     28.37"
      ]
     },
     "execution_count": 16,
     "metadata": {},
     "output_type": "execute_result"
    }
   ],
   "source": [
    "# checking the first 5 rows of the data\n",
    "calls.sample(5)"
   ]
  },
  {
   "cell_type": "code",
   "execution_count": 17,
   "metadata": {
    "colab": {
     "base_uri": "https://localhost:8080/"
    },
    "id": "5bl3edNcb-r7",
    "outputId": "c22c2cd5-0593-488f-9e47-d158cb097995"
   },
   "outputs": [
    {
     "data": {
      "text/plain": [
       "(137735, 4)"
      ]
     },
     "execution_count": 17,
     "metadata": {},
     "output_type": "execute_result"
    }
   ],
   "source": [
    "# The rows and columns of dataframe\n",
    "calls.shape"
   ]
  },
  {
   "cell_type": "code",
   "execution_count": 18,
   "metadata": {
    "colab": {
     "base_uri": "https://localhost:8080/"
    },
    "id": "ykvDRLsjcDmA",
    "outputId": "fa4377f2-1228-4b1d-933b-8574274b38e2"
   },
   "outputs": [
    {
     "name": "stdout",
     "output_type": "stream",
     "text": [
      "<class 'pandas.core.frame.DataFrame'>\n",
      "RangeIndex: 137735 entries, 0 to 137734\n",
      "Data columns (total 4 columns):\n",
      " #   Column     Non-Null Count   Dtype  \n",
      "---  ------     --------------   -----  \n",
      " 0   id         137735 non-null  object \n",
      " 1   user_id    137735 non-null  int64  \n",
      " 2   call_date  137735 non-null  object \n",
      " 3   duration   137735 non-null  float64\n",
      "dtypes: float64(1), int64(1), object(2)\n",
      "memory usage: 4.2+ MB\n"
     ]
    }
   ],
   "source": [
    "# To get an idea about columns name,their missing values and datatypes\n",
    "calls.info()"
   ]
  },
  {
   "cell_type": "code",
   "execution_count": 19,
   "metadata": {
    "colab": {
     "base_uri": "https://localhost:8080/",
     "height": 300
    },
    "id": "Xe4E_LPMpLm3",
    "outputId": "f6530635-ba78-4744-afc7-6a414ef32b06"
   },
   "outputs": [
    {
     "data": {
      "text/html": [
       "<div>\n",
       "<style scoped>\n",
       "    .dataframe tbody tr th:only-of-type {\n",
       "        vertical-align: middle;\n",
       "    }\n",
       "\n",
       "    .dataframe tbody tr th {\n",
       "        vertical-align: top;\n",
       "    }\n",
       "\n",
       "    .dataframe thead th {\n",
       "        text-align: right;\n",
       "    }\n",
       "</style>\n",
       "<table border=\"1\" class=\"dataframe\">\n",
       "  <thead>\n",
       "    <tr style=\"text-align: right;\">\n",
       "      <th></th>\n",
       "      <th>user_id</th>\n",
       "      <th>duration</th>\n",
       "    </tr>\n",
       "  </thead>\n",
       "  <tbody>\n",
       "    <tr>\n",
       "      <th>count</th>\n",
       "      <td>137735.000000</td>\n",
       "      <td>137735.000000</td>\n",
       "    </tr>\n",
       "    <tr>\n",
       "      <th>mean</th>\n",
       "      <td>1247.658046</td>\n",
       "      <td>6.745927</td>\n",
       "    </tr>\n",
       "    <tr>\n",
       "      <th>std</th>\n",
       "      <td>139.416268</td>\n",
       "      <td>5.839241</td>\n",
       "    </tr>\n",
       "    <tr>\n",
       "      <th>min</th>\n",
       "      <td>1000.000000</td>\n",
       "      <td>0.000000</td>\n",
       "    </tr>\n",
       "    <tr>\n",
       "      <th>25%</th>\n",
       "      <td>1128.000000</td>\n",
       "      <td>1.290000</td>\n",
       "    </tr>\n",
       "    <tr>\n",
       "      <th>50%</th>\n",
       "      <td>1247.000000</td>\n",
       "      <td>5.980000</td>\n",
       "    </tr>\n",
       "    <tr>\n",
       "      <th>75%</th>\n",
       "      <td>1365.000000</td>\n",
       "      <td>10.690000</td>\n",
       "    </tr>\n",
       "    <tr>\n",
       "      <th>max</th>\n",
       "      <td>1499.000000</td>\n",
       "      <td>37.600000</td>\n",
       "    </tr>\n",
       "  </tbody>\n",
       "</table>\n",
       "</div>"
      ],
      "text/plain": [
       "             user_id       duration\n",
       "count  137735.000000  137735.000000\n",
       "mean     1247.658046       6.745927\n",
       "std       139.416268       5.839241\n",
       "min      1000.000000       0.000000\n",
       "25%      1128.000000       1.290000\n",
       "50%      1247.000000       5.980000\n",
       "75%      1365.000000      10.690000\n",
       "max      1499.000000      37.600000"
      ]
     },
     "metadata": {},
     "output_type": "display_data"
    }
   ],
   "source": [
    "# Printing the summary statistics of the dataframe\n",
    "display(calls.describe())"
   ]
  },
  {
   "cell_type": "markdown",
   "metadata": {
    "id": "umoO6-5ORtfk"
   },
   "source": [
    "**OBSERVATIONS**\n",
    "- All the columns have correct data types except date realted columns.\n",
    "- No column has null values\n",
    "- The mean time for duration of call is 6.74 minutes.\n",
    "- The call_date column data type is string(object) we will change it into date format"
   ]
  },
  {
   "cell_type": "markdown",
   "metadata": {
    "id": "ZG8g_yabIom3"
   },
   "source": [
    "# Fix data"
   ]
  },
  {
   "cell_type": "code",
   "execution_count": 20,
   "metadata": {
    "colab": {
     "base_uri": "https://localhost:8080/",
     "height": 424
    },
    "id": "31t06yS6pKnB",
    "outputId": "54861703-9c9d-473d-b881-ab58443e4d95"
   },
   "outputs": [
    {
     "data": {
      "text/html": [
       "<div>\n",
       "<style scoped>\n",
       "    .dataframe tbody tr th:only-of-type {\n",
       "        vertical-align: middle;\n",
       "    }\n",
       "\n",
       "    .dataframe tbody tr th {\n",
       "        vertical-align: top;\n",
       "    }\n",
       "\n",
       "    .dataframe thead th {\n",
       "        text-align: right;\n",
       "    }\n",
       "</style>\n",
       "<table border=\"1\" class=\"dataframe\">\n",
       "  <thead>\n",
       "    <tr style=\"text-align: right;\">\n",
       "      <th></th>\n",
       "      <th>id</th>\n",
       "      <th>user_id</th>\n",
       "      <th>call_date</th>\n",
       "      <th>duration</th>\n",
       "    </tr>\n",
       "  </thead>\n",
       "  <tbody>\n",
       "    <tr>\n",
       "      <th>0</th>\n",
       "      <td>1000_93</td>\n",
       "      <td>1000</td>\n",
       "      <td>2018-12-27</td>\n",
       "      <td>8.52</td>\n",
       "    </tr>\n",
       "    <tr>\n",
       "      <th>1</th>\n",
       "      <td>1000_145</td>\n",
       "      <td>1000</td>\n",
       "      <td>2018-12-27</td>\n",
       "      <td>13.66</td>\n",
       "    </tr>\n",
       "    <tr>\n",
       "      <th>2</th>\n",
       "      <td>1000_247</td>\n",
       "      <td>1000</td>\n",
       "      <td>2018-12-27</td>\n",
       "      <td>14.48</td>\n",
       "    </tr>\n",
       "    <tr>\n",
       "      <th>3</th>\n",
       "      <td>1000_309</td>\n",
       "      <td>1000</td>\n",
       "      <td>2018-12-28</td>\n",
       "      <td>5.76</td>\n",
       "    </tr>\n",
       "    <tr>\n",
       "      <th>4</th>\n",
       "      <td>1000_380</td>\n",
       "      <td>1000</td>\n",
       "      <td>2018-12-30</td>\n",
       "      <td>4.22</td>\n",
       "    </tr>\n",
       "    <tr>\n",
       "      <th>...</th>\n",
       "      <td>...</td>\n",
       "      <td>...</td>\n",
       "      <td>...</td>\n",
       "      <td>...</td>\n",
       "    </tr>\n",
       "    <tr>\n",
       "      <th>137730</th>\n",
       "      <td>1499_199</td>\n",
       "      <td>1499</td>\n",
       "      <td>2018-11-21</td>\n",
       "      <td>8.72</td>\n",
       "    </tr>\n",
       "    <tr>\n",
       "      <th>137731</th>\n",
       "      <td>1499_200</td>\n",
       "      <td>1499</td>\n",
       "      <td>2018-10-20</td>\n",
       "      <td>10.89</td>\n",
       "    </tr>\n",
       "    <tr>\n",
       "      <th>137732</th>\n",
       "      <td>1499_201</td>\n",
       "      <td>1499</td>\n",
       "      <td>2018-09-21</td>\n",
       "      <td>8.12</td>\n",
       "    </tr>\n",
       "    <tr>\n",
       "      <th>137733</th>\n",
       "      <td>1499_202</td>\n",
       "      <td>1499</td>\n",
       "      <td>2018-10-10</td>\n",
       "      <td>0.37</td>\n",
       "    </tr>\n",
       "    <tr>\n",
       "      <th>137734</th>\n",
       "      <td>1499_203</td>\n",
       "      <td>1499</td>\n",
       "      <td>2018-12-29</td>\n",
       "      <td>13.86</td>\n",
       "    </tr>\n",
       "  </tbody>\n",
       "</table>\n",
       "<p>137735 rows × 4 columns</p>\n",
       "</div>"
      ],
      "text/plain": [
       "              id  user_id  call_date  duration\n",
       "0        1000_93     1000 2018-12-27      8.52\n",
       "1       1000_145     1000 2018-12-27     13.66\n",
       "2       1000_247     1000 2018-12-27     14.48\n",
       "3       1000_309     1000 2018-12-28      5.76\n",
       "4       1000_380     1000 2018-12-30      4.22\n",
       "...          ...      ...        ...       ...\n",
       "137730  1499_199     1499 2018-11-21      8.72\n",
       "137731  1499_200     1499 2018-10-20     10.89\n",
       "137732  1499_201     1499 2018-09-21      8.12\n",
       "137733  1499_202     1499 2018-10-10      0.37\n",
       "137734  1499_203     1499 2018-12-29     13.86\n",
       "\n",
       "[137735 rows x 4 columns]"
      ]
     },
     "metadata": {},
     "output_type": "display_data"
    }
   ],
   "source": [
    "# Convert the \"call_date\" column in the \"calls\" DataFrame to date format\n",
    "calls['call_date'] = pd.to_datetime(calls['call_date'])\n",
    "\n",
    "# Print the updated \"calls\" DataFrame with the \"call_date\" column in date format\n",
    "display(calls)"
   ]
  },
  {
   "cell_type": "code",
   "execution_count": 21,
   "metadata": {
    "colab": {
     "base_uri": "https://localhost:8080/"
    },
    "id": "q7sNdjPJpUhZ",
    "outputId": "24e7d999-3669-4939-fb19-b338de5f18e6"
   },
   "outputs": [
    {
     "name": "stdout",
     "output_type": "stream",
     "text": [
      "<class 'pandas.core.frame.DataFrame'>\n",
      "RangeIndex: 137735 entries, 0 to 137734\n",
      "Data columns (total 4 columns):\n",
      " #   Column     Non-Null Count   Dtype         \n",
      "---  ------     --------------   -----         \n",
      " 0   id         137735 non-null  object        \n",
      " 1   user_id    137735 non-null  int64         \n",
      " 2   call_date  137735 non-null  datetime64[ns]\n",
      " 3   duration   137735 non-null  float64       \n",
      "dtypes: datetime64[ns](1), float64(1), int64(1), object(1)\n",
      "memory usage: 4.2+ MB\n"
     ]
    }
   ],
   "source": [
    "# now the date column data type is chagnged\n",
    "calls.info()"
   ]
  },
  {
   "cell_type": "markdown",
   "metadata": {
    "id": "wyfcCtBftfPS"
   },
   "source": [
    "**Reason for changing date data type?**\n",
    "\n",
    "Converting the 'call_date' column to datetime format ensures data consistency and enables date-based operations, sorting, and visualization in analyses which would otherwise be impossible to do in case the date is present in string form."
   ]
  },
  {
   "cell_type": "markdown",
   "metadata": {
    "id": "wtTtxPQJIom4"
   },
   "source": [
    "# Enrich data"
   ]
  },
  {
   "cell_type": "code",
   "execution_count": 22,
   "metadata": {
    "colab": {
     "base_uri": "https://localhost:8080/",
     "height": 424
    },
    "id": "0UUMTj9vG_zU",
    "outputId": "56d53861-e9fb-44d1-fd05-b0cf1fd841c0"
   },
   "outputs": [
    {
     "data": {
      "text/html": [
       "<div>\n",
       "<style scoped>\n",
       "    .dataframe tbody tr th:only-of-type {\n",
       "        vertical-align: middle;\n",
       "    }\n",
       "\n",
       "    .dataframe tbody tr th {\n",
       "        vertical-align: top;\n",
       "    }\n",
       "\n",
       "    .dataframe thead th {\n",
       "        text-align: right;\n",
       "    }\n",
       "</style>\n",
       "<table border=\"1\" class=\"dataframe\">\n",
       "  <thead>\n",
       "    <tr style=\"text-align: right;\">\n",
       "      <th></th>\n",
       "      <th>id</th>\n",
       "      <th>user_id</th>\n",
       "      <th>call_date</th>\n",
       "      <th>duration</th>\n",
       "      <th>call_month</th>\n",
       "      <th>call_day_of_week</th>\n",
       "      <th>call_duration_group</th>\n",
       "    </tr>\n",
       "  </thead>\n",
       "  <tbody>\n",
       "    <tr>\n",
       "      <th>0</th>\n",
       "      <td>1000_93</td>\n",
       "      <td>1000</td>\n",
       "      <td>2018-12-27</td>\n",
       "      <td>9.0</td>\n",
       "      <td>12</td>\n",
       "      <td>Thursday</td>\n",
       "      <td>Medium</td>\n",
       "    </tr>\n",
       "    <tr>\n",
       "      <th>1</th>\n",
       "      <td>1000_145</td>\n",
       "      <td>1000</td>\n",
       "      <td>2018-12-27</td>\n",
       "      <td>14.0</td>\n",
       "      <td>12</td>\n",
       "      <td>Thursday</td>\n",
       "      <td>Long</td>\n",
       "    </tr>\n",
       "    <tr>\n",
       "      <th>2</th>\n",
       "      <td>1000_247</td>\n",
       "      <td>1000</td>\n",
       "      <td>2018-12-27</td>\n",
       "      <td>15.0</td>\n",
       "      <td>12</td>\n",
       "      <td>Thursday</td>\n",
       "      <td>Long</td>\n",
       "    </tr>\n",
       "    <tr>\n",
       "      <th>3</th>\n",
       "      <td>1000_309</td>\n",
       "      <td>1000</td>\n",
       "      <td>2018-12-28</td>\n",
       "      <td>6.0</td>\n",
       "      <td>12</td>\n",
       "      <td>Friday</td>\n",
       "      <td>Medium</td>\n",
       "    </tr>\n",
       "    <tr>\n",
       "      <th>4</th>\n",
       "      <td>1000_380</td>\n",
       "      <td>1000</td>\n",
       "      <td>2018-12-30</td>\n",
       "      <td>5.0</td>\n",
       "      <td>12</td>\n",
       "      <td>Sunday</td>\n",
       "      <td>Short</td>\n",
       "    </tr>\n",
       "    <tr>\n",
       "      <th>...</th>\n",
       "      <td>...</td>\n",
       "      <td>...</td>\n",
       "      <td>...</td>\n",
       "      <td>...</td>\n",
       "      <td>...</td>\n",
       "      <td>...</td>\n",
       "      <td>...</td>\n",
       "    </tr>\n",
       "    <tr>\n",
       "      <th>137730</th>\n",
       "      <td>1499_199</td>\n",
       "      <td>1499</td>\n",
       "      <td>2018-11-21</td>\n",
       "      <td>9.0</td>\n",
       "      <td>11</td>\n",
       "      <td>Wednesday</td>\n",
       "      <td>Medium</td>\n",
       "    </tr>\n",
       "    <tr>\n",
       "      <th>137731</th>\n",
       "      <td>1499_200</td>\n",
       "      <td>1499</td>\n",
       "      <td>2018-10-20</td>\n",
       "      <td>11.0</td>\n",
       "      <td>10</td>\n",
       "      <td>Saturday</td>\n",
       "      <td>Long</td>\n",
       "    </tr>\n",
       "    <tr>\n",
       "      <th>137732</th>\n",
       "      <td>1499_201</td>\n",
       "      <td>1499</td>\n",
       "      <td>2018-09-21</td>\n",
       "      <td>9.0</td>\n",
       "      <td>9</td>\n",
       "      <td>Friday</td>\n",
       "      <td>Medium</td>\n",
       "    </tr>\n",
       "    <tr>\n",
       "      <th>137733</th>\n",
       "      <td>1499_202</td>\n",
       "      <td>1499</td>\n",
       "      <td>2018-10-10</td>\n",
       "      <td>1.0</td>\n",
       "      <td>10</td>\n",
       "      <td>Wednesday</td>\n",
       "      <td>Short</td>\n",
       "    </tr>\n",
       "    <tr>\n",
       "      <th>137734</th>\n",
       "      <td>1499_203</td>\n",
       "      <td>1499</td>\n",
       "      <td>2018-12-29</td>\n",
       "      <td>14.0</td>\n",
       "      <td>12</td>\n",
       "      <td>Saturday</td>\n",
       "      <td>Long</td>\n",
       "    </tr>\n",
       "  </tbody>\n",
       "</table>\n",
       "<p>137735 rows × 7 columns</p>\n",
       "</div>"
      ],
      "text/plain": [
       "              id  user_id  call_date  duration  call_month call_day_of_week  \\\n",
       "0        1000_93     1000 2018-12-27       9.0          12         Thursday   \n",
       "1       1000_145     1000 2018-12-27      14.0          12         Thursday   \n",
       "2       1000_247     1000 2018-12-27      15.0          12         Thursday   \n",
       "3       1000_309     1000 2018-12-28       6.0          12           Friday   \n",
       "4       1000_380     1000 2018-12-30       5.0          12           Sunday   \n",
       "...          ...      ...        ...       ...         ...              ...   \n",
       "137730  1499_199     1499 2018-11-21       9.0          11        Wednesday   \n",
       "137731  1499_200     1499 2018-10-20      11.0          10         Saturday   \n",
       "137732  1499_201     1499 2018-09-21       9.0           9           Friday   \n",
       "137733  1499_202     1499 2018-10-10       1.0          10        Wednesday   \n",
       "137734  1499_203     1499 2018-12-29      14.0          12         Saturday   \n",
       "\n",
       "       call_duration_group  \n",
       "0                   Medium  \n",
       "1                     Long  \n",
       "2                     Long  \n",
       "3                   Medium  \n",
       "4                    Short  \n",
       "...                    ...  \n",
       "137730              Medium  \n",
       "137731                Long  \n",
       "137732              Medium  \n",
       "137733               Short  \n",
       "137734                Long  \n",
       "\n",
       "[137735 rows x 7 columns]"
      ]
     },
     "metadata": {},
     "output_type": "display_data"
    }
   ],
   "source": [
    "# Round up call durations to the nearest whole minute\n",
    "calls['duration'] = np.ceil(calls['duration'])\n",
    "\n",
    "# 1. Call Month\n",
    "calls['call_month'] = pd.to_datetime(calls['call_date']).dt.month\n",
    "\n",
    "# 2. Call Day of the Week\n",
    "calls['call_day_of_week'] = pd.to_datetime(calls['call_date']).dt.day_name()\n",
    "\n",
    "# 3. Call Duration Group (Example: Short < 5 minutes, Medium 5-10 minutes, Long > 10 minutes)\n",
    "calls['call_duration_group'] = pd.cut(calls['duration'], bins=[0, 5, 10, float('inf')], labels=['Short', 'Medium', 'Long'])\n",
    "\n",
    "display(calls)"
   ]
  },
  {
   "cell_type": "markdown",
   "metadata": {
    "id": "9aCbIQ1yJbqs"
   },
   "source": [
    "**Reason for round up call durations to the nearest whole minute**\n",
    "\n",
    "Rounding up call durations to the nearest whole minute ensures accurate billing, maintains billing consistency, promotes fairness among customers, enhances cost predictability, simplifies billing processes, and aids in regulatory compliance when necessary."
   ]
  },
  {
   "cell_type": "markdown",
   "metadata": {
    "id": "2HJJOr_P2R6C"
   },
   "source": [
    "**Reasons for above changes**\n",
    "\n",
    "**Call Month:**\n",
    "\n",
    "Extract the month from the \"call_date\" column. This can help in analyzing call patterns by month.\n",
    "\n",
    "**Call Day of the Week:**\n",
    "\n",
    "Extract the day of the week from the \"call_date\" column to understand call patterns by day.\n",
    "\n",
    "**Call Duration Group:**\n",
    "\n",
    "Categorize call durations into groups (e.g., short, medium, long) to understand the distribution of call durations."
   ]
  },
  {
   "cell_type": "markdown",
   "metadata": {
    "id": "-AsYPU8qm6qs"
   },
   "source": [
    "\n",
    "\n",
    "---\n",
    "\n"
   ]
  },
  {
   "cell_type": "markdown",
   "metadata": {
    "id": "N3ohgxLIj4nR"
   },
   "source": [
    "# 4. Messages"
   ]
  },
  {
   "cell_type": "code",
   "execution_count": 23,
   "metadata": {
    "colab": {
     "base_uri": "https://localhost:8080/",
     "height": 206
    },
    "id": "pM8bw4PAZIze",
    "outputId": "192ee54b-a80e-4c73-85a2-bc0d4bb65820"
   },
   "outputs": [
    {
     "data": {
      "text/html": [
       "<div>\n",
       "<style scoped>\n",
       "    .dataframe tbody tr th:only-of-type {\n",
       "        vertical-align: middle;\n",
       "    }\n",
       "\n",
       "    .dataframe tbody tr th {\n",
       "        vertical-align: top;\n",
       "    }\n",
       "\n",
       "    .dataframe thead th {\n",
       "        text-align: right;\n",
       "    }\n",
       "</style>\n",
       "<table border=\"1\" class=\"dataframe\">\n",
       "  <thead>\n",
       "    <tr style=\"text-align: right;\">\n",
       "      <th></th>\n",
       "      <th>id</th>\n",
       "      <th>user_id</th>\n",
       "      <th>message_date</th>\n",
       "    </tr>\n",
       "  </thead>\n",
       "  <tbody>\n",
       "    <tr>\n",
       "      <th>42976</th>\n",
       "      <td>1281_271</td>\n",
       "      <td>1281</td>\n",
       "      <td>2018-08-08</td>\n",
       "    </tr>\n",
       "    <tr>\n",
       "      <th>62930</th>\n",
       "      <td>1398_170</td>\n",
       "      <td>1398</td>\n",
       "      <td>2018-12-24</td>\n",
       "    </tr>\n",
       "    <tr>\n",
       "      <th>59482</th>\n",
       "      <td>1375_471</td>\n",
       "      <td>1375</td>\n",
       "      <td>2018-12-13</td>\n",
       "    </tr>\n",
       "    <tr>\n",
       "      <th>16339</th>\n",
       "      <td>1110_230</td>\n",
       "      <td>1110</td>\n",
       "      <td>2018-08-02</td>\n",
       "    </tr>\n",
       "    <tr>\n",
       "      <th>55316</th>\n",
       "      <td>1347_353</td>\n",
       "      <td>1347</td>\n",
       "      <td>2018-12-06</td>\n",
       "    </tr>\n",
       "  </tbody>\n",
       "</table>\n",
       "</div>"
      ],
      "text/plain": [
       "             id  user_id message_date\n",
       "42976  1281_271     1281   2018-08-08\n",
       "62930  1398_170     1398   2018-12-24\n",
       "59482  1375_471     1375   2018-12-13\n",
       "16339  1110_230     1110   2018-08-02\n",
       "55316  1347_353     1347   2018-12-06"
      ]
     },
     "execution_count": 23,
     "metadata": {},
     "output_type": "execute_result"
    }
   ],
   "source": [
    "# checking the first 5 rows of the data\n",
    "messages.sample(5)"
   ]
  },
  {
   "cell_type": "code",
   "execution_count": 24,
   "metadata": {
    "colab": {
     "base_uri": "https://localhost:8080/"
    },
    "id": "CAiyl2pZc4sG",
    "outputId": "41f23b35-be46-4367-bbc4-7d166d436226"
   },
   "outputs": [
    {
     "data": {
      "text/plain": [
       "(76051, 3)"
      ]
     },
     "execution_count": 24,
     "metadata": {},
     "output_type": "execute_result"
    }
   ],
   "source": [
    "# The rows and columns of dataframe\n",
    "messages.shape"
   ]
  },
  {
   "cell_type": "code",
   "execution_count": 25,
   "metadata": {
    "colab": {
     "base_uri": "https://localhost:8080/"
    },
    "id": "ZnbCDzSXc8og",
    "outputId": "fb723286-c8c1-4de1-d1f1-7f5cbbcb40e9"
   },
   "outputs": [
    {
     "name": "stdout",
     "output_type": "stream",
     "text": [
      "<class 'pandas.core.frame.DataFrame'>\n",
      "RangeIndex: 76051 entries, 0 to 76050\n",
      "Data columns (total 3 columns):\n",
      " #   Column        Non-Null Count  Dtype \n",
      "---  ------        --------------  ----- \n",
      " 0   id            76051 non-null  object\n",
      " 1   user_id       76051 non-null  int64 \n",
      " 2   message_date  76051 non-null  object\n",
      "dtypes: int64(1), object(2)\n",
      "memory usage: 1.7+ MB\n"
     ]
    }
   ],
   "source": [
    "# To get an idea about columns name,their missing values and datatypes\n",
    "messages.info()"
   ]
  },
  {
   "cell_type": "code",
   "execution_count": 26,
   "metadata": {
    "colab": {
     "base_uri": "https://localhost:8080/",
     "height": 300
    },
    "id": "chW2pN1QpQpN",
    "outputId": "aabd76c4-0965-415b-fb3c-a0e4fa56c313"
   },
   "outputs": [
    {
     "data": {
      "text/html": [
       "<div>\n",
       "<style scoped>\n",
       "    .dataframe tbody tr th:only-of-type {\n",
       "        vertical-align: middle;\n",
       "    }\n",
       "\n",
       "    .dataframe tbody tr th {\n",
       "        vertical-align: top;\n",
       "    }\n",
       "\n",
       "    .dataframe thead th {\n",
       "        text-align: right;\n",
       "    }\n",
       "</style>\n",
       "<table border=\"1\" class=\"dataframe\">\n",
       "  <thead>\n",
       "    <tr style=\"text-align: right;\">\n",
       "      <th></th>\n",
       "      <th>user_id</th>\n",
       "    </tr>\n",
       "  </thead>\n",
       "  <tbody>\n",
       "    <tr>\n",
       "      <th>count</th>\n",
       "      <td>76051.000000</td>\n",
       "    </tr>\n",
       "    <tr>\n",
       "      <th>mean</th>\n",
       "      <td>1245.972768</td>\n",
       "    </tr>\n",
       "    <tr>\n",
       "      <th>std</th>\n",
       "      <td>139.843635</td>\n",
       "    </tr>\n",
       "    <tr>\n",
       "      <th>min</th>\n",
       "      <td>1000.000000</td>\n",
       "    </tr>\n",
       "    <tr>\n",
       "      <th>25%</th>\n",
       "      <td>1123.000000</td>\n",
       "    </tr>\n",
       "    <tr>\n",
       "      <th>50%</th>\n",
       "      <td>1251.000000</td>\n",
       "    </tr>\n",
       "    <tr>\n",
       "      <th>75%</th>\n",
       "      <td>1362.000000</td>\n",
       "    </tr>\n",
       "    <tr>\n",
       "      <th>max</th>\n",
       "      <td>1497.000000</td>\n",
       "    </tr>\n",
       "  </tbody>\n",
       "</table>\n",
       "</div>"
      ],
      "text/plain": [
       "            user_id\n",
       "count  76051.000000\n",
       "mean    1245.972768\n",
       "std      139.843635\n",
       "min     1000.000000\n",
       "25%     1123.000000\n",
       "50%     1251.000000\n",
       "75%     1362.000000\n",
       "max     1497.000000"
      ]
     },
     "metadata": {},
     "output_type": "display_data"
    }
   ],
   "source": [
    "# Printing the summary statistics of the dataframe\n",
    "display(messages.describe())"
   ]
  },
  {
   "cell_type": "markdown",
   "metadata": {
    "id": "WVJU0UbgUE3P"
   },
   "source": [
    "**OBSERVATIONS**\n",
    "- All the columns have correct data types except date related columns.\n",
    "- No column has null values\n"
   ]
  },
  {
   "cell_type": "markdown",
   "metadata": {
    "id": "DFXxlpAyIrML"
   },
   "source": [
    "# Fix data"
   ]
  },
  {
   "cell_type": "code",
   "execution_count": 27,
   "metadata": {
    "colab": {
     "base_uri": "https://localhost:8080/",
     "height": 424
    },
    "id": "EMC80OUwuiQ0",
    "outputId": "ae4f86e0-e599-438c-da42-38722e2cef2d"
   },
   "outputs": [
    {
     "data": {
      "text/html": [
       "<div>\n",
       "<style scoped>\n",
       "    .dataframe tbody tr th:only-of-type {\n",
       "        vertical-align: middle;\n",
       "    }\n",
       "\n",
       "    .dataframe tbody tr th {\n",
       "        vertical-align: top;\n",
       "    }\n",
       "\n",
       "    .dataframe thead th {\n",
       "        text-align: right;\n",
       "    }\n",
       "</style>\n",
       "<table border=\"1\" class=\"dataframe\">\n",
       "  <thead>\n",
       "    <tr style=\"text-align: right;\">\n",
       "      <th></th>\n",
       "      <th>id</th>\n",
       "      <th>user_id</th>\n",
       "      <th>message_date</th>\n",
       "    </tr>\n",
       "  </thead>\n",
       "  <tbody>\n",
       "    <tr>\n",
       "      <th>0</th>\n",
       "      <td>1000_125</td>\n",
       "      <td>1000</td>\n",
       "      <td>2018-12-27</td>\n",
       "    </tr>\n",
       "    <tr>\n",
       "      <th>1</th>\n",
       "      <td>1000_160</td>\n",
       "      <td>1000</td>\n",
       "      <td>2018-12-31</td>\n",
       "    </tr>\n",
       "    <tr>\n",
       "      <th>2</th>\n",
       "      <td>1000_223</td>\n",
       "      <td>1000</td>\n",
       "      <td>2018-12-31</td>\n",
       "    </tr>\n",
       "    <tr>\n",
       "      <th>3</th>\n",
       "      <td>1000_251</td>\n",
       "      <td>1000</td>\n",
       "      <td>2018-12-27</td>\n",
       "    </tr>\n",
       "    <tr>\n",
       "      <th>4</th>\n",
       "      <td>1000_255</td>\n",
       "      <td>1000</td>\n",
       "      <td>2018-12-26</td>\n",
       "    </tr>\n",
       "    <tr>\n",
       "      <th>...</th>\n",
       "      <td>...</td>\n",
       "      <td>...</td>\n",
       "      <td>...</td>\n",
       "    </tr>\n",
       "    <tr>\n",
       "      <th>76046</th>\n",
       "      <td>1497_526</td>\n",
       "      <td>1497</td>\n",
       "      <td>2018-12-24</td>\n",
       "    </tr>\n",
       "    <tr>\n",
       "      <th>76047</th>\n",
       "      <td>1497_536</td>\n",
       "      <td>1497</td>\n",
       "      <td>2018-12-24</td>\n",
       "    </tr>\n",
       "    <tr>\n",
       "      <th>76048</th>\n",
       "      <td>1497_547</td>\n",
       "      <td>1497</td>\n",
       "      <td>2018-12-31</td>\n",
       "    </tr>\n",
       "    <tr>\n",
       "      <th>76049</th>\n",
       "      <td>1497_558</td>\n",
       "      <td>1497</td>\n",
       "      <td>2018-12-24</td>\n",
       "    </tr>\n",
       "    <tr>\n",
       "      <th>76050</th>\n",
       "      <td>1497_613</td>\n",
       "      <td>1497</td>\n",
       "      <td>2018-12-23</td>\n",
       "    </tr>\n",
       "  </tbody>\n",
       "</table>\n",
       "<p>76051 rows × 3 columns</p>\n",
       "</div>"
      ],
      "text/plain": [
       "             id  user_id message_date\n",
       "0      1000_125     1000   2018-12-27\n",
       "1      1000_160     1000   2018-12-31\n",
       "2      1000_223     1000   2018-12-31\n",
       "3      1000_251     1000   2018-12-27\n",
       "4      1000_255     1000   2018-12-26\n",
       "...         ...      ...          ...\n",
       "76046  1497_526     1497   2018-12-24\n",
       "76047  1497_536     1497   2018-12-24\n",
       "76048  1497_547     1497   2018-12-31\n",
       "76049  1497_558     1497   2018-12-24\n",
       "76050  1497_613     1497   2018-12-23\n",
       "\n",
       "[76051 rows x 3 columns]"
      ]
     },
     "metadata": {},
     "output_type": "display_data"
    }
   ],
   "source": [
    "# Convert the 'message_date' column to date format\n",
    "messages['message_date'] = pd.to_datetime(messages['message_date'])\n",
    "\n",
    "# Display the updated DataFrame (optional)\n",
    "display(messages)"
   ]
  },
  {
   "cell_type": "code",
   "execution_count": 28,
   "metadata": {
    "colab": {
     "base_uri": "https://localhost:8080/"
    },
    "id": "BPg3KwLduiQ1",
    "outputId": "0c0f696b-ba7f-4ce4-83b6-a5d132b36f67"
   },
   "outputs": [
    {
     "name": "stdout",
     "output_type": "stream",
     "text": [
      "<class 'pandas.core.frame.DataFrame'>\n",
      "RangeIndex: 76051 entries, 0 to 76050\n",
      "Data columns (total 3 columns):\n",
      " #   Column        Non-Null Count  Dtype         \n",
      "---  ------        --------------  -----         \n",
      " 0   id            76051 non-null  object        \n",
      " 1   user_id       76051 non-null  int64         \n",
      " 2   message_date  76051 non-null  datetime64[ns]\n",
      "dtypes: datetime64[ns](1), int64(1), object(1)\n",
      "memory usage: 1.7+ MB\n"
     ]
    }
   ],
   "source": [
    "# now the date column data type is chagnged\n",
    "messages.info()"
   ]
  },
  {
   "cell_type": "markdown",
   "metadata": {
    "id": "NSpSVdS0uiQ1"
   },
   "source": [
    "**Reason for changing date data type?**\n",
    "\n",
    "Converting the 'call_date' column to datetime format ensures data consistency and enables date-based operations, sorting, and visualization in analyses which would otherwise be impossible to do in case the date is present in string form."
   ]
  },
  {
   "cell_type": "markdown",
   "metadata": {
    "id": "hPVKCVDBIrMM"
   },
   "source": [
    "# Enrich data"
   ]
  },
  {
   "cell_type": "code",
   "execution_count": 29,
   "metadata": {
    "colab": {
     "base_uri": "https://localhost:8080/",
     "height": 424
    },
    "id": "KdUbtA_z3oYq",
    "outputId": "f6cfc61e-4596-4578-ff94-784312349674"
   },
   "outputs": [
    {
     "data": {
      "text/html": [
       "<div>\n",
       "<style scoped>\n",
       "    .dataframe tbody tr th:only-of-type {\n",
       "        vertical-align: middle;\n",
       "    }\n",
       "\n",
       "    .dataframe tbody tr th {\n",
       "        vertical-align: top;\n",
       "    }\n",
       "\n",
       "    .dataframe thead th {\n",
       "        text-align: right;\n",
       "    }\n",
       "</style>\n",
       "<table border=\"1\" class=\"dataframe\">\n",
       "  <thead>\n",
       "    <tr style=\"text-align: right;\">\n",
       "      <th></th>\n",
       "      <th>id</th>\n",
       "      <th>user_id</th>\n",
       "      <th>message_date</th>\n",
       "      <th>message_month</th>\n",
       "      <th>message_day_of_week</th>\n",
       "    </tr>\n",
       "  </thead>\n",
       "  <tbody>\n",
       "    <tr>\n",
       "      <th>0</th>\n",
       "      <td>1000_125</td>\n",
       "      <td>1000</td>\n",
       "      <td>2018-12-27</td>\n",
       "      <td>12</td>\n",
       "      <td>Thursday</td>\n",
       "    </tr>\n",
       "    <tr>\n",
       "      <th>1</th>\n",
       "      <td>1000_160</td>\n",
       "      <td>1000</td>\n",
       "      <td>2018-12-31</td>\n",
       "      <td>12</td>\n",
       "      <td>Monday</td>\n",
       "    </tr>\n",
       "    <tr>\n",
       "      <th>2</th>\n",
       "      <td>1000_223</td>\n",
       "      <td>1000</td>\n",
       "      <td>2018-12-31</td>\n",
       "      <td>12</td>\n",
       "      <td>Monday</td>\n",
       "    </tr>\n",
       "    <tr>\n",
       "      <th>3</th>\n",
       "      <td>1000_251</td>\n",
       "      <td>1000</td>\n",
       "      <td>2018-12-27</td>\n",
       "      <td>12</td>\n",
       "      <td>Thursday</td>\n",
       "    </tr>\n",
       "    <tr>\n",
       "      <th>4</th>\n",
       "      <td>1000_255</td>\n",
       "      <td>1000</td>\n",
       "      <td>2018-12-26</td>\n",
       "      <td>12</td>\n",
       "      <td>Wednesday</td>\n",
       "    </tr>\n",
       "    <tr>\n",
       "      <th>...</th>\n",
       "      <td>...</td>\n",
       "      <td>...</td>\n",
       "      <td>...</td>\n",
       "      <td>...</td>\n",
       "      <td>...</td>\n",
       "    </tr>\n",
       "    <tr>\n",
       "      <th>76046</th>\n",
       "      <td>1497_526</td>\n",
       "      <td>1497</td>\n",
       "      <td>2018-12-24</td>\n",
       "      <td>12</td>\n",
       "      <td>Monday</td>\n",
       "    </tr>\n",
       "    <tr>\n",
       "      <th>76047</th>\n",
       "      <td>1497_536</td>\n",
       "      <td>1497</td>\n",
       "      <td>2018-12-24</td>\n",
       "      <td>12</td>\n",
       "      <td>Monday</td>\n",
       "    </tr>\n",
       "    <tr>\n",
       "      <th>76048</th>\n",
       "      <td>1497_547</td>\n",
       "      <td>1497</td>\n",
       "      <td>2018-12-31</td>\n",
       "      <td>12</td>\n",
       "      <td>Monday</td>\n",
       "    </tr>\n",
       "    <tr>\n",
       "      <th>76049</th>\n",
       "      <td>1497_558</td>\n",
       "      <td>1497</td>\n",
       "      <td>2018-12-24</td>\n",
       "      <td>12</td>\n",
       "      <td>Monday</td>\n",
       "    </tr>\n",
       "    <tr>\n",
       "      <th>76050</th>\n",
       "      <td>1497_613</td>\n",
       "      <td>1497</td>\n",
       "      <td>2018-12-23</td>\n",
       "      <td>12</td>\n",
       "      <td>Sunday</td>\n",
       "    </tr>\n",
       "  </tbody>\n",
       "</table>\n",
       "<p>76051 rows × 5 columns</p>\n",
       "</div>"
      ],
      "text/plain": [
       "             id  user_id message_date  message_month message_day_of_week\n",
       "0      1000_125     1000   2018-12-27             12            Thursday\n",
       "1      1000_160     1000   2018-12-31             12              Monday\n",
       "2      1000_223     1000   2018-12-31             12              Monday\n",
       "3      1000_251     1000   2018-12-27             12            Thursday\n",
       "4      1000_255     1000   2018-12-26             12           Wednesday\n",
       "...         ...      ...          ...            ...                 ...\n",
       "76046  1497_526     1497   2018-12-24             12              Monday\n",
       "76047  1497_536     1497   2018-12-24             12              Monday\n",
       "76048  1497_547     1497   2018-12-31             12              Monday\n",
       "76049  1497_558     1497   2018-12-24             12              Monday\n",
       "76050  1497_613     1497   2018-12-23             12              Sunday\n",
       "\n",
       "[76051 rows x 5 columns]"
      ]
     },
     "metadata": {},
     "output_type": "display_data"
    }
   ],
   "source": [
    "# 1. Message Month\n",
    "messages['message_month'] = pd.to_datetime(messages['message_date']).dt.month\n",
    "\n",
    "# 2. Message Day of the Week\n",
    "messages['message_day_of_week'] = pd.to_datetime(messages['message_date']).dt.day_name()\n",
    "\n",
    "display(messages)"
   ]
  },
  {
   "cell_type": "markdown",
   "metadata": {
    "id": "bW6CJB453vom"
   },
   "source": [
    "**Reason for above changing**\n",
    "\n",
    "**Message Month:**\n",
    "\n",
    " Extract the month from the \"message_date\" column. This can help in analyzing message patterns by month.\n",
    "\n",
    "**Message Day of the Week:**\n",
    "\n",
    "Extract the day of the week from the \"message_date\" column to understand message patterns by day."
   ]
  },
  {
   "cell_type": "markdown",
   "metadata": {
    "id": "nAcgubPWm4P0"
   },
   "source": [
    "\n",
    "\n",
    "---\n",
    "\n"
   ]
  },
  {
   "cell_type": "markdown",
   "metadata": {
    "id": "GeXDuOnhkFTE"
   },
   "source": [
    "# 5. Internet"
   ]
  },
  {
   "cell_type": "code",
   "execution_count": 30,
   "metadata": {
    "colab": {
     "base_uri": "https://localhost:8080/",
     "height": 206
    },
    "id": "BxORD2q9Y_t2",
    "outputId": "4f30e49f-1b83-441f-f69a-1980b4803ffb"
   },
   "outputs": [
    {
     "data": {
      "text/html": [
       "<div>\n",
       "<style scoped>\n",
       "    .dataframe tbody tr th:only-of-type {\n",
       "        vertical-align: middle;\n",
       "    }\n",
       "\n",
       "    .dataframe tbody tr th {\n",
       "        vertical-align: top;\n",
       "    }\n",
       "\n",
       "    .dataframe thead th {\n",
       "        text-align: right;\n",
       "    }\n",
       "</style>\n",
       "<table border=\"1\" class=\"dataframe\">\n",
       "  <thead>\n",
       "    <tr style=\"text-align: right;\">\n",
       "      <th></th>\n",
       "      <th>id</th>\n",
       "      <th>user_id</th>\n",
       "      <th>session_date</th>\n",
       "      <th>mb_used</th>\n",
       "    </tr>\n",
       "  </thead>\n",
       "  <tbody>\n",
       "    <tr>\n",
       "      <th>74021</th>\n",
       "      <td>1347_116</td>\n",
       "      <td>1347</td>\n",
       "      <td>2018-07-31</td>\n",
       "      <td>0.00</td>\n",
       "    </tr>\n",
       "    <tr>\n",
       "      <th>58168</th>\n",
       "      <td>1262_20</td>\n",
       "      <td>1262</td>\n",
       "      <td>2018-12-29</td>\n",
       "      <td>98.97</td>\n",
       "    </tr>\n",
       "    <tr>\n",
       "      <th>11417</th>\n",
       "      <td>1056_84</td>\n",
       "      <td>1056</td>\n",
       "      <td>2018-09-02</td>\n",
       "      <td>38.25</td>\n",
       "    </tr>\n",
       "    <tr>\n",
       "      <th>96769</th>\n",
       "      <td>1455_12</td>\n",
       "      <td>1455</td>\n",
       "      <td>2018-11-24</td>\n",
       "      <td>230.11</td>\n",
       "    </tr>\n",
       "    <tr>\n",
       "      <th>48925</th>\n",
       "      <td>1219_35</td>\n",
       "      <td>1219</td>\n",
       "      <td>2018-12-22</td>\n",
       "      <td>340.70</td>\n",
       "    </tr>\n",
       "  </tbody>\n",
       "</table>\n",
       "</div>"
      ],
      "text/plain": [
       "             id  user_id session_date  mb_used\n",
       "74021  1347_116     1347   2018-07-31     0.00\n",
       "58168   1262_20     1262   2018-12-29    98.97\n",
       "11417   1056_84     1056   2018-09-02    38.25\n",
       "96769   1455_12     1455   2018-11-24   230.11\n",
       "48925   1219_35     1219   2018-12-22   340.70"
      ]
     },
     "execution_count": 30,
     "metadata": {},
     "output_type": "execute_result"
    }
   ],
   "source": [
    "# checking the first 5 rows of the data\n",
    "internet.sample(5)"
   ]
  },
  {
   "cell_type": "code",
   "execution_count": 31,
   "metadata": {
    "colab": {
     "base_uri": "https://localhost:8080/"
    },
    "id": "of3ZWnPqcVwi",
    "outputId": "30768a11-ba5a-4078-c0bf-4d01950b5179"
   },
   "outputs": [
    {
     "data": {
      "text/plain": [
       "(104825, 4)"
      ]
     },
     "execution_count": 31,
     "metadata": {},
     "output_type": "execute_result"
    }
   ],
   "source": [
    "# The rows and columns of dataframe\n",
    "internet.shape"
   ]
  },
  {
   "cell_type": "code",
   "execution_count": 32,
   "metadata": {
    "colab": {
     "base_uri": "https://localhost:8080/"
    },
    "id": "HFlgbhuEcZoR",
    "outputId": "ddec8964-d4b4-4734-e6da-2a08e46dbeb9"
   },
   "outputs": [
    {
     "name": "stdout",
     "output_type": "stream",
     "text": [
      "<class 'pandas.core.frame.DataFrame'>\n",
      "RangeIndex: 104825 entries, 0 to 104824\n",
      "Data columns (total 4 columns):\n",
      " #   Column        Non-Null Count   Dtype  \n",
      "---  ------        --------------   -----  \n",
      " 0   id            104825 non-null  object \n",
      " 1   user_id       104825 non-null  int64  \n",
      " 2   session_date  104825 non-null  object \n",
      " 3   mb_used       104825 non-null  float64\n",
      "dtypes: float64(1), int64(1), object(2)\n",
      "memory usage: 3.2+ MB\n"
     ]
    }
   ],
   "source": [
    "# To get an idea about columns name their missing values and datatypes\n",
    "internet.info()"
   ]
  },
  {
   "cell_type": "code",
   "execution_count": 33,
   "metadata": {
    "colab": {
     "base_uri": "https://localhost:8080/",
     "height": 300
    },
    "id": "X7MFsp3PpVlF",
    "outputId": "0418e48b-09c9-4afa-f564-2362cc333f40"
   },
   "outputs": [
    {
     "data": {
      "text/html": [
       "<div>\n",
       "<style scoped>\n",
       "    .dataframe tbody tr th:only-of-type {\n",
       "        vertical-align: middle;\n",
       "    }\n",
       "\n",
       "    .dataframe tbody tr th {\n",
       "        vertical-align: top;\n",
       "    }\n",
       "\n",
       "    .dataframe thead th {\n",
       "        text-align: right;\n",
       "    }\n",
       "</style>\n",
       "<table border=\"1\" class=\"dataframe\">\n",
       "  <thead>\n",
       "    <tr style=\"text-align: right;\">\n",
       "      <th></th>\n",
       "      <th>user_id</th>\n",
       "      <th>mb_used</th>\n",
       "    </tr>\n",
       "  </thead>\n",
       "  <tbody>\n",
       "    <tr>\n",
       "      <th>count</th>\n",
       "      <td>104825.000000</td>\n",
       "      <td>104825.000000</td>\n",
       "    </tr>\n",
       "    <tr>\n",
       "      <th>mean</th>\n",
       "      <td>1242.496361</td>\n",
       "      <td>366.713701</td>\n",
       "    </tr>\n",
       "    <tr>\n",
       "      <th>std</th>\n",
       "      <td>142.053913</td>\n",
       "      <td>277.170542</td>\n",
       "    </tr>\n",
       "    <tr>\n",
       "      <th>min</th>\n",
       "      <td>1000.000000</td>\n",
       "      <td>0.000000</td>\n",
       "    </tr>\n",
       "    <tr>\n",
       "      <th>25%</th>\n",
       "      <td>1122.000000</td>\n",
       "      <td>136.080000</td>\n",
       "    </tr>\n",
       "    <tr>\n",
       "      <th>50%</th>\n",
       "      <td>1236.000000</td>\n",
       "      <td>343.980000</td>\n",
       "    </tr>\n",
       "    <tr>\n",
       "      <th>75%</th>\n",
       "      <td>1367.000000</td>\n",
       "      <td>554.610000</td>\n",
       "    </tr>\n",
       "    <tr>\n",
       "      <th>max</th>\n",
       "      <td>1499.000000</td>\n",
       "      <td>1693.470000</td>\n",
       "    </tr>\n",
       "  </tbody>\n",
       "</table>\n",
       "</div>"
      ],
      "text/plain": [
       "             user_id        mb_used\n",
       "count  104825.000000  104825.000000\n",
       "mean     1242.496361     366.713701\n",
       "std       142.053913     277.170542\n",
       "min      1000.000000       0.000000\n",
       "25%      1122.000000     136.080000\n",
       "50%      1236.000000     343.980000\n",
       "75%      1367.000000     554.610000\n",
       "max      1499.000000    1693.470000"
      ]
     },
     "metadata": {},
     "output_type": "display_data"
    }
   ],
   "source": [
    "# Printing the summary statistics of the dataframe\n",
    "display(internet.describe())"
   ]
  },
  {
   "cell_type": "markdown",
   "metadata": {
    "id": "UYcGL-BZXZFJ"
   },
   "source": [
    "**OBSERVATIONS**\n",
    "- All the columns have correct data types except the date realted column.\n",
    "- No column has null values\n",
    "- The mean value for mb used per web session is 366.7mbs\n"
   ]
  },
  {
   "cell_type": "markdown",
   "metadata": {
    "id": "ZO39RAEpItfD"
   },
   "source": [
    "# Fix data"
   ]
  },
  {
   "cell_type": "code",
   "execution_count": 34,
   "metadata": {
    "colab": {
     "base_uri": "https://localhost:8080/",
     "height": 424
    },
    "id": "PqdJrpCIyvyO",
    "outputId": "8707a8af-6957-406f-8b67-2381a056f51e"
   },
   "outputs": [
    {
     "data": {
      "text/html": [
       "<div>\n",
       "<style scoped>\n",
       "    .dataframe tbody tr th:only-of-type {\n",
       "        vertical-align: middle;\n",
       "    }\n",
       "\n",
       "    .dataframe tbody tr th {\n",
       "        vertical-align: top;\n",
       "    }\n",
       "\n",
       "    .dataframe thead th {\n",
       "        text-align: right;\n",
       "    }\n",
       "</style>\n",
       "<table border=\"1\" class=\"dataframe\">\n",
       "  <thead>\n",
       "    <tr style=\"text-align: right;\">\n",
       "      <th></th>\n",
       "      <th>id</th>\n",
       "      <th>user_id</th>\n",
       "      <th>session_date</th>\n",
       "      <th>mb_used</th>\n",
       "    </tr>\n",
       "  </thead>\n",
       "  <tbody>\n",
       "    <tr>\n",
       "      <th>0</th>\n",
       "      <td>1000_13</td>\n",
       "      <td>1000</td>\n",
       "      <td>2018-12-29</td>\n",
       "      <td>89.86</td>\n",
       "    </tr>\n",
       "    <tr>\n",
       "      <th>1</th>\n",
       "      <td>1000_204</td>\n",
       "      <td>1000</td>\n",
       "      <td>2018-12-31</td>\n",
       "      <td>0.00</td>\n",
       "    </tr>\n",
       "    <tr>\n",
       "      <th>2</th>\n",
       "      <td>1000_379</td>\n",
       "      <td>1000</td>\n",
       "      <td>2018-12-28</td>\n",
       "      <td>660.40</td>\n",
       "    </tr>\n",
       "    <tr>\n",
       "      <th>3</th>\n",
       "      <td>1000_413</td>\n",
       "      <td>1000</td>\n",
       "      <td>2018-12-26</td>\n",
       "      <td>270.99</td>\n",
       "    </tr>\n",
       "    <tr>\n",
       "      <th>4</th>\n",
       "      <td>1000_442</td>\n",
       "      <td>1000</td>\n",
       "      <td>2018-12-27</td>\n",
       "      <td>880.22</td>\n",
       "    </tr>\n",
       "    <tr>\n",
       "      <th>...</th>\n",
       "      <td>...</td>\n",
       "      <td>...</td>\n",
       "      <td>...</td>\n",
       "      <td>...</td>\n",
       "    </tr>\n",
       "    <tr>\n",
       "      <th>104820</th>\n",
       "      <td>1499_215</td>\n",
       "      <td>1499</td>\n",
       "      <td>2018-10-20</td>\n",
       "      <td>218.06</td>\n",
       "    </tr>\n",
       "    <tr>\n",
       "      <th>104821</th>\n",
       "      <td>1499_216</td>\n",
       "      <td>1499</td>\n",
       "      <td>2018-12-30</td>\n",
       "      <td>304.72</td>\n",
       "    </tr>\n",
       "    <tr>\n",
       "      <th>104822</th>\n",
       "      <td>1499_217</td>\n",
       "      <td>1499</td>\n",
       "      <td>2018-09-22</td>\n",
       "      <td>292.75</td>\n",
       "    </tr>\n",
       "    <tr>\n",
       "      <th>104823</th>\n",
       "      <td>1499_218</td>\n",
       "      <td>1499</td>\n",
       "      <td>2018-12-07</td>\n",
       "      <td>0.00</td>\n",
       "    </tr>\n",
       "    <tr>\n",
       "      <th>104824</th>\n",
       "      <td>1499_219</td>\n",
       "      <td>1499</td>\n",
       "      <td>2018-12-24</td>\n",
       "      <td>758.31</td>\n",
       "    </tr>\n",
       "  </tbody>\n",
       "</table>\n",
       "<p>104825 rows × 4 columns</p>\n",
       "</div>"
      ],
      "text/plain": [
       "              id  user_id session_date  mb_used\n",
       "0        1000_13     1000   2018-12-29    89.86\n",
       "1       1000_204     1000   2018-12-31     0.00\n",
       "2       1000_379     1000   2018-12-28   660.40\n",
       "3       1000_413     1000   2018-12-26   270.99\n",
       "4       1000_442     1000   2018-12-27   880.22\n",
       "...          ...      ...          ...      ...\n",
       "104820  1499_215     1499   2018-10-20   218.06\n",
       "104821  1499_216     1499   2018-12-30   304.72\n",
       "104822  1499_217     1499   2018-09-22   292.75\n",
       "104823  1499_218     1499   2018-12-07     0.00\n",
       "104824  1499_219     1499   2018-12-24   758.31\n",
       "\n",
       "[104825 rows x 4 columns]"
      ]
     },
     "metadata": {},
     "output_type": "display_data"
    }
   ],
   "source": [
    "# Convert the 'session_date' column to date format\n",
    "internet['session_date'] = pd.to_datetime(internet['session_date'])\n",
    "\n",
    "# Display the updated DataFrame (optional)\n",
    "display(internet)"
   ]
  },
  {
   "cell_type": "code",
   "execution_count": 35,
   "metadata": {
    "colab": {
     "base_uri": "https://localhost:8080/"
    },
    "id": "xwkkqNDPyzyW",
    "outputId": "dae7440b-0368-4955-b363-200d8761cd9d"
   },
   "outputs": [
    {
     "name": "stdout",
     "output_type": "stream",
     "text": [
      "<class 'pandas.core.frame.DataFrame'>\n",
      "RangeIndex: 104825 entries, 0 to 104824\n",
      "Data columns (total 4 columns):\n",
      " #   Column        Non-Null Count   Dtype         \n",
      "---  ------        --------------   -----         \n",
      " 0   id            104825 non-null  object        \n",
      " 1   user_id       104825 non-null  int64         \n",
      " 2   session_date  104825 non-null  datetime64[ns]\n",
      " 3   mb_used       104825 non-null  float64       \n",
      "dtypes: datetime64[ns](1), float64(1), int64(1), object(1)\n",
      "memory usage: 3.2+ MB\n"
     ]
    }
   ],
   "source": [
    "# now the date column data type is chagnged\n",
    "internet.info()"
   ]
  },
  {
   "cell_type": "markdown",
   "metadata": {
    "id": "YGfBeTtEy9Qk"
   },
   "source": [
    "**Reason for changing date data type?**\n",
    "\n",
    "Converting the 'call_date' column to datetime format ensures data consistency and enables date-based operations, sorting, and visualization in analyses which would otherwise be impossible to do in case the date is present in string form."
   ]
  },
  {
   "cell_type": "markdown",
   "metadata": {
    "id": "EIvaPCHAItfD"
   },
   "source": [
    "# Enrich data"
   ]
  },
  {
   "cell_type": "code",
   "execution_count": 36,
   "metadata": {
    "colab": {
     "base_uri": "https://localhost:8080/",
     "height": 206
    },
    "id": "j8KbDZTNMDcX",
    "outputId": "1c32d871-b22f-4c70-ed2f-a6c2c5835b0b"
   },
   "outputs": [
    {
     "data": {
      "text/html": [
       "<div>\n",
       "<style scoped>\n",
       "    .dataframe tbody tr th:only-of-type {\n",
       "        vertical-align: middle;\n",
       "    }\n",
       "\n",
       "    .dataframe tbody tr th {\n",
       "        vertical-align: top;\n",
       "    }\n",
       "\n",
       "    .dataframe thead th {\n",
       "        text-align: right;\n",
       "    }\n",
       "</style>\n",
       "<table border=\"1\" class=\"dataframe\">\n",
       "  <thead>\n",
       "    <tr style=\"text-align: right;\">\n",
       "      <th></th>\n",
       "      <th>id</th>\n",
       "      <th>user_id</th>\n",
       "      <th>session_date</th>\n",
       "      <th>mb_used</th>\n",
       "      <th>session_month</th>\n",
       "      <th>data_usage_gb</th>\n",
       "      <th>data_usage_group</th>\n",
       "    </tr>\n",
       "  </thead>\n",
       "  <tbody>\n",
       "    <tr>\n",
       "      <th>7080</th>\n",
       "      <td>1039_355</td>\n",
       "      <td>1039</td>\n",
       "      <td>2018-09-21</td>\n",
       "      <td>696.60</td>\n",
       "      <td>9</td>\n",
       "      <td>19.0</td>\n",
       "      <td>Medium</td>\n",
       "    </tr>\n",
       "    <tr>\n",
       "      <th>62940</th>\n",
       "      <td>1291_65</td>\n",
       "      <td>1291</td>\n",
       "      <td>2018-08-24</td>\n",
       "      <td>1018.23</td>\n",
       "      <td>8</td>\n",
       "      <td>21.0</td>\n",
       "      <td>High</td>\n",
       "    </tr>\n",
       "    <tr>\n",
       "      <th>74101</th>\n",
       "      <td>1347_196</td>\n",
       "      <td>1347</td>\n",
       "      <td>2018-10-13</td>\n",
       "      <td>0.00</td>\n",
       "      <td>10</td>\n",
       "      <td>22.0</td>\n",
       "      <td>High</td>\n",
       "    </tr>\n",
       "    <tr>\n",
       "      <th>56535</th>\n",
       "      <td>1255_323</td>\n",
       "      <td>1255</td>\n",
       "      <td>2018-10-30</td>\n",
       "      <td>198.18</td>\n",
       "      <td>10</td>\n",
       "      <td>11.0</td>\n",
       "      <td>Medium</td>\n",
       "    </tr>\n",
       "    <tr>\n",
       "      <th>52093</th>\n",
       "      <td>1234_14</td>\n",
       "      <td>1234</td>\n",
       "      <td>2018-12-14</td>\n",
       "      <td>808.13</td>\n",
       "      <td>12</td>\n",
       "      <td>10.0</td>\n",
       "      <td>Low</td>\n",
       "    </tr>\n",
       "  </tbody>\n",
       "</table>\n",
       "</div>"
      ],
      "text/plain": [
       "             id  user_id session_date  mb_used  session_month  data_usage_gb  \\\n",
       "7080   1039_355     1039   2018-09-21   696.60              9           19.0   \n",
       "62940   1291_65     1291   2018-08-24  1018.23              8           21.0   \n",
       "74101  1347_196     1347   2018-10-13     0.00             10           22.0   \n",
       "56535  1255_323     1255   2018-10-30   198.18             10           11.0   \n",
       "52093   1234_14     1234   2018-12-14   808.13             12           10.0   \n",
       "\n",
       "      data_usage_group  \n",
       "7080            Medium  \n",
       "62940             High  \n",
       "74101             High  \n",
       "56535           Medium  \n",
       "52093              Low  "
      ]
     },
     "execution_count": 36,
     "metadata": {},
     "output_type": "execute_result"
    }
   ],
   "source": [
    "# 1. Session Month\n",
    "internet['session_month'] = pd.to_datetime(internet['session_date']).dt.month\n",
    "\n",
    "# 2. Round up Data Usage and Calculate in Gigabytes (GB)\n",
    "internet['data_usage_gb'] = np.ceil(internet.groupby(['user_id', 'session_month'])['mb_used'].transform('sum') / 1024)\n",
    "\n",
    "# 3. Data Usage Group (Example: Low < 3 GB, Medium 4-10 GB, High > 10 GB)\n",
    "internet['data_usage_group'] = pd.cut(internet['data_usage_gb'], bins=[5, 10, 20, float('inf')], labels=['Low', 'Medium', 'High'])\n",
    "\n",
    "internet.sample(5)"
   ]
  },
  {
   "cell_type": "markdown",
   "metadata": {
    "id": "FjfQsTsjQamM"
   },
   "source": [
    "**Reason for round up data usage to the nearest whole GB**\n",
    "\n",
    "Rounding up data usage to the nearest whole GB ensures accurate billing, maintains billing consistency, promotes fairness among customers, enhances cost predictability, simplifies billing processes, and aids in regulatory compliance when necessary."
   ]
  },
  {
   "cell_type": "markdown",
   "metadata": {
    "id": "glEkpzz44qmN"
   },
   "source": [
    "**Reason for above changes**\n",
    "\n",
    "**Session Month:**\n",
    "\n",
    "Extract the month from the \"session_date\" column. This can help in analyzing internet usage patterns by month.\n",
    "\n",
    "**Data Usage Group:**\n",
    "\n",
    "Categorize data usage into groups (e.g., low, medium, high) to understand the distribution of data usage."
   ]
  },
  {
   "cell_type": "markdown",
   "metadata": {
    "id": "3nSjTS3QXcYm"
   },
   "source": [
    "\n",
    "\n",
    "---\n",
    "\n",
    "---\n",
    "\n",
    "\n",
    "\n",
    "\n",
    "\n",
    "---\n",
    "\n",
    "\n",
    "\n",
    "---\n",
    "\n"
   ]
  },
  {
   "cell_type": "markdown",
   "metadata": {
    "id": "hyHWpIXEXy78"
   },
   "source": [
    "# Study plan conditions"
   ]
  },
  {
   "cell_type": "markdown",
   "metadata": {
    "id": "lb7wNxoFjzDp"
   },
   "source": [
    "Here we are going to see the plans information and dataframe again to familarize ourselves with the company policy as it will help us in the future analysis."
   ]
  },
  {
   "cell_type": "code",
   "execution_count": 37,
   "metadata": {
    "colab": {
     "base_uri": "https://localhost:8080/",
     "height": 112
    },
    "id": "s1YHfra0nlKa",
    "outputId": "829b9975-ecec-4fde-9ae7-cb231acb38de"
   },
   "outputs": [
    {
     "data": {
      "text/html": [
       "<div>\n",
       "<style scoped>\n",
       "    .dataframe tbody tr th:only-of-type {\n",
       "        vertical-align: middle;\n",
       "    }\n",
       "\n",
       "    .dataframe tbody tr th {\n",
       "        vertical-align: top;\n",
       "    }\n",
       "\n",
       "    .dataframe thead th {\n",
       "        text-align: right;\n",
       "    }\n",
       "</style>\n",
       "<table border=\"1\" class=\"dataframe\">\n",
       "  <thead>\n",
       "    <tr style=\"text-align: right;\">\n",
       "      <th></th>\n",
       "      <th>messages_included</th>\n",
       "      <th>mb_per_month_included</th>\n",
       "      <th>minutes_included</th>\n",
       "      <th>usd_monthly_pay</th>\n",
       "      <th>usd_per_gb</th>\n",
       "      <th>usd_per_message</th>\n",
       "      <th>usd_per_minute</th>\n",
       "      <th>plan_name</th>\n",
       "      <th>data_usage_gb</th>\n",
       "    </tr>\n",
       "  </thead>\n",
       "  <tbody>\n",
       "    <tr>\n",
       "      <th>0</th>\n",
       "      <td>50</td>\n",
       "      <td>15360</td>\n",
       "      <td>500</td>\n",
       "      <td>20</td>\n",
       "      <td>10</td>\n",
       "      <td>0.03</td>\n",
       "      <td>0.03</td>\n",
       "      <td>surf</td>\n",
       "      <td>15.0</td>\n",
       "    </tr>\n",
       "    <tr>\n",
       "      <th>1</th>\n",
       "      <td>1000</td>\n",
       "      <td>30720</td>\n",
       "      <td>3000</td>\n",
       "      <td>70</td>\n",
       "      <td>7</td>\n",
       "      <td>0.01</td>\n",
       "      <td>0.01</td>\n",
       "      <td>ultimate</td>\n",
       "      <td>30.0</td>\n",
       "    </tr>\n",
       "  </tbody>\n",
       "</table>\n",
       "</div>"
      ],
      "text/plain": [
       "   messages_included  mb_per_month_included  minutes_included  \\\n",
       "0                 50                  15360               500   \n",
       "1               1000                  30720              3000   \n",
       "\n",
       "   usd_monthly_pay  usd_per_gb  usd_per_message  usd_per_minute plan_name  \\\n",
       "0               20          10             0.03            0.03      surf   \n",
       "1               70           7             0.01            0.01  ultimate   \n",
       "\n",
       "   data_usage_gb  \n",
       "0           15.0  \n",
       "1           30.0  "
      ]
     },
     "execution_count": 37,
     "metadata": {},
     "output_type": "execute_result"
    }
   ],
   "source": [
    "# checking the random rows of the data\n",
    "plans.sample(2)"
   ]
  },
  {
   "cell_type": "code",
   "execution_count": 38,
   "metadata": {
    "colab": {
     "base_uri": "https://localhost:8080/"
    },
    "id": "g6U67KB6nlKk",
    "outputId": "b82d6809-4f6b-4a17-d2d3-57354560720a"
   },
   "outputs": [
    {
     "name": "stdout",
     "output_type": "stream",
     "text": [
      "<class 'pandas.core.frame.DataFrame'>\n",
      "RangeIndex: 2 entries, 0 to 1\n",
      "Data columns (total 9 columns):\n",
      " #   Column                 Non-Null Count  Dtype  \n",
      "---  ------                 --------------  -----  \n",
      " 0   messages_included      2 non-null      int64  \n",
      " 1   mb_per_month_included  2 non-null      int64  \n",
      " 2   minutes_included       2 non-null      int64  \n",
      " 3   usd_monthly_pay        2 non-null      int64  \n",
      " 4   usd_per_gb             2 non-null      int64  \n",
      " 5   usd_per_message        2 non-null      float64\n",
      " 6   usd_per_minute         2 non-null      float64\n",
      " 7   plan_name              2 non-null      object \n",
      " 8   data_usage_gb          2 non-null      float64\n",
      "dtypes: float64(3), int64(5), object(1)\n",
      "memory usage: 272.0+ bytes\n"
     ]
    }
   ],
   "source": [
    "# To get an idea about columns name,their missing values and datatypes\n",
    "plans.info()"
   ]
  },
  {
   "cell_type": "markdown",
   "metadata": {
    "id": "lhJMbGFNnpG_"
   },
   "source": [
    "#Aggregate data per user"
   ]
  },
  {
   "cell_type": "markdown",
   "metadata": {
    "id": "Ad1ewrS8plpg"
   },
   "source": [
    "**Calculate the number of calls made by each user per month. Save the result**.\n"
   ]
  },
  {
   "cell_type": "code",
   "execution_count": 39,
   "metadata": {
    "colab": {
     "base_uri": "https://localhost:8080/",
     "height": 424
    },
    "id": "ExBDZClPnvBk",
    "outputId": "3b71aee0-4a7e-4b9b-89af-2a9da5dbe634"
   },
   "outputs": [
    {
     "data": {
      "text/html": [
       "<div>\n",
       "<style scoped>\n",
       "    .dataframe tbody tr th:only-of-type {\n",
       "        vertical-align: middle;\n",
       "    }\n",
       "\n",
       "    .dataframe tbody tr th {\n",
       "        vertical-align: top;\n",
       "    }\n",
       "\n",
       "    .dataframe thead th {\n",
       "        text-align: right;\n",
       "    }\n",
       "</style>\n",
       "<table border=\"1\" class=\"dataframe\">\n",
       "  <thead>\n",
       "    <tr style=\"text-align: right;\">\n",
       "      <th></th>\n",
       "      <th>user_id</th>\n",
       "      <th>month</th>\n",
       "      <th>calls_count</th>\n",
       "    </tr>\n",
       "  </thead>\n",
       "  <tbody>\n",
       "    <tr>\n",
       "      <th>0</th>\n",
       "      <td>1000</td>\n",
       "      <td>12</td>\n",
       "      <td>16</td>\n",
       "    </tr>\n",
       "    <tr>\n",
       "      <th>1</th>\n",
       "      <td>1001</td>\n",
       "      <td>8</td>\n",
       "      <td>27</td>\n",
       "    </tr>\n",
       "    <tr>\n",
       "      <th>2</th>\n",
       "      <td>1001</td>\n",
       "      <td>9</td>\n",
       "      <td>49</td>\n",
       "    </tr>\n",
       "    <tr>\n",
       "      <th>3</th>\n",
       "      <td>1001</td>\n",
       "      <td>10</td>\n",
       "      <td>65</td>\n",
       "    </tr>\n",
       "    <tr>\n",
       "      <th>4</th>\n",
       "      <td>1001</td>\n",
       "      <td>11</td>\n",
       "      <td>64</td>\n",
       "    </tr>\n",
       "    <tr>\n",
       "      <th>...</th>\n",
       "      <td>...</td>\n",
       "      <td>...</td>\n",
       "      <td>...</td>\n",
       "    </tr>\n",
       "    <tr>\n",
       "      <th>2253</th>\n",
       "      <td>1498</td>\n",
       "      <td>12</td>\n",
       "      <td>39</td>\n",
       "    </tr>\n",
       "    <tr>\n",
       "      <th>2254</th>\n",
       "      <td>1499</td>\n",
       "      <td>9</td>\n",
       "      <td>41</td>\n",
       "    </tr>\n",
       "    <tr>\n",
       "      <th>2255</th>\n",
       "      <td>1499</td>\n",
       "      <td>10</td>\n",
       "      <td>53</td>\n",
       "    </tr>\n",
       "    <tr>\n",
       "      <th>2256</th>\n",
       "      <td>1499</td>\n",
       "      <td>11</td>\n",
       "      <td>45</td>\n",
       "    </tr>\n",
       "    <tr>\n",
       "      <th>2257</th>\n",
       "      <td>1499</td>\n",
       "      <td>12</td>\n",
       "      <td>65</td>\n",
       "    </tr>\n",
       "  </tbody>\n",
       "</table>\n",
       "<p>2258 rows × 3 columns</p>\n",
       "</div>"
      ],
      "text/plain": [
       "      user_id  month  calls_count\n",
       "0        1000     12           16\n",
       "1        1001      8           27\n",
       "2        1001      9           49\n",
       "3        1001     10           65\n",
       "4        1001     11           64\n",
       "...       ...    ...          ...\n",
       "2253     1498     12           39\n",
       "2254     1499      9           41\n",
       "2255     1499     10           53\n",
       "2256     1499     11           45\n",
       "2257     1499     12           65\n",
       "\n",
       "[2258 rows x 3 columns]"
      ]
     },
     "metadata": {},
     "output_type": "display_data"
    }
   ],
   "source": [
    "# Create a new column 'month' to extract the month from the 'call_date'\n",
    "calls['month'] = calls['call_date'].dt.month\n",
    "\n",
    "# Group the data by 'user_id' and 'month', and then count the number of calls for each group\n",
    "calls_per_month = calls.groupby(['user_id', 'month'])['id'].count().reset_index()\n",
    "\n",
    "# Rename the 'id' column to 'calls_count'\n",
    "calls_per_month.rename(columns={'id': 'calls_count'}, inplace=True)\n",
    "\n",
    "# Save the result to a CSV file\n",
    "calls_per_month.to_csv('calls_per_month.csv', index=False)\n",
    "\n",
    "# Display the result (optional)\n",
    "display(calls_per_month)"
   ]
  },
  {
   "cell_type": "markdown",
   "metadata": {
    "id": "x4ClyTR8kK5a"
   },
   "source": [
    "Here the dataframe tells us the numbers of calls made by each customer in the respective months in 2018. I.E the user having user_id 1000 only call in the december and not in any other month."
   ]
  },
  {
   "cell_type": "markdown",
   "metadata": {
    "id": "XnsPToRgkwu4"
   },
   "source": [
    "\n",
    "\n",
    "---\n",
    "\n"
   ]
  },
  {
   "cell_type": "markdown",
   "metadata": {
    "id": "o-RFUcxfsbgT"
   },
   "source": [
    "**Calculate the amount of minutes spent by each user per month. Save the result.**\n"
   ]
  },
  {
   "cell_type": "code",
   "execution_count": 40,
   "metadata": {
    "colab": {
     "base_uri": "https://localhost:8080/",
     "height": 424
    },
    "id": "hrWvDIQjsa2D",
    "outputId": "ad155800-f83c-4147-924a-328581d9246a"
   },
   "outputs": [
    {
     "data": {
      "text/html": [
       "<div>\n",
       "<style scoped>\n",
       "    .dataframe tbody tr th:only-of-type {\n",
       "        vertical-align: middle;\n",
       "    }\n",
       "\n",
       "    .dataframe tbody tr th {\n",
       "        vertical-align: top;\n",
       "    }\n",
       "\n",
       "    .dataframe thead th {\n",
       "        text-align: right;\n",
       "    }\n",
       "</style>\n",
       "<table border=\"1\" class=\"dataframe\">\n",
       "  <thead>\n",
       "    <tr style=\"text-align: right;\">\n",
       "      <th></th>\n",
       "      <th>user_id</th>\n",
       "      <th>month</th>\n",
       "      <th>total_minutes</th>\n",
       "    </tr>\n",
       "  </thead>\n",
       "  <tbody>\n",
       "    <tr>\n",
       "      <th>0</th>\n",
       "      <td>1000</td>\n",
       "      <td>12</td>\n",
       "      <td>124.0</td>\n",
       "    </tr>\n",
       "    <tr>\n",
       "      <th>1</th>\n",
       "      <td>1001</td>\n",
       "      <td>8</td>\n",
       "      <td>182.0</td>\n",
       "    </tr>\n",
       "    <tr>\n",
       "      <th>2</th>\n",
       "      <td>1001</td>\n",
       "      <td>9</td>\n",
       "      <td>315.0</td>\n",
       "    </tr>\n",
       "    <tr>\n",
       "      <th>3</th>\n",
       "      <td>1001</td>\n",
       "      <td>10</td>\n",
       "      <td>393.0</td>\n",
       "    </tr>\n",
       "    <tr>\n",
       "      <th>4</th>\n",
       "      <td>1001</td>\n",
       "      <td>11</td>\n",
       "      <td>426.0</td>\n",
       "    </tr>\n",
       "    <tr>\n",
       "      <th>...</th>\n",
       "      <td>...</td>\n",
       "      <td>...</td>\n",
       "      <td>...</td>\n",
       "    </tr>\n",
       "    <tr>\n",
       "      <th>2253</th>\n",
       "      <td>1498</td>\n",
       "      <td>12</td>\n",
       "      <td>339.0</td>\n",
       "    </tr>\n",
       "    <tr>\n",
       "      <th>2254</th>\n",
       "      <td>1499</td>\n",
       "      <td>9</td>\n",
       "      <td>346.0</td>\n",
       "    </tr>\n",
       "    <tr>\n",
       "      <th>2255</th>\n",
       "      <td>1499</td>\n",
       "      <td>10</td>\n",
       "      <td>385.0</td>\n",
       "    </tr>\n",
       "    <tr>\n",
       "      <th>2256</th>\n",
       "      <td>1499</td>\n",
       "      <td>11</td>\n",
       "      <td>308.0</td>\n",
       "    </tr>\n",
       "    <tr>\n",
       "      <th>2257</th>\n",
       "      <td>1499</td>\n",
       "      <td>12</td>\n",
       "      <td>496.0</td>\n",
       "    </tr>\n",
       "  </tbody>\n",
       "</table>\n",
       "<p>2258 rows × 3 columns</p>\n",
       "</div>"
      ],
      "text/plain": [
       "      user_id  month  total_minutes\n",
       "0        1000     12          124.0\n",
       "1        1001      8          182.0\n",
       "2        1001      9          315.0\n",
       "3        1001     10          393.0\n",
       "4        1001     11          426.0\n",
       "...       ...    ...            ...\n",
       "2253     1498     12          339.0\n",
       "2254     1499      9          346.0\n",
       "2255     1499     10          385.0\n",
       "2256     1499     11          308.0\n",
       "2257     1499     12          496.0\n",
       "\n",
       "[2258 rows x 3 columns]"
      ]
     },
     "metadata": {},
     "output_type": "display_data"
    }
   ],
   "source": [
    "# Group the data by 'user_id' and 'month', and then sum the 'duration' for each group\n",
    "minutes_per_month = calls.groupby(['user_id', 'month'])['duration'].sum().reset_index()\n",
    "\n",
    "# Rename the 'duration' column to 'total_minutes'\n",
    "minutes_per_month.rename(columns={'duration': 'total_minutes'}, inplace=True)\n",
    "\n",
    "# Save the result to a CSV file\n",
    "minutes_per_month.to_csv('minutes_per_month.csv', index=False)\n",
    "\n",
    "# Display the result (optional)\n",
    "display(minutes_per_month)"
   ]
  },
  {
   "cell_type": "markdown",
   "metadata": {
    "id": "yS0BwcfPlMIW"
   },
   "source": [
    "\n",
    "\n",
    "---\n",
    "\n"
   ]
  },
  {
   "cell_type": "markdown",
   "metadata": {
    "id": "3ibpjLytt_j0"
   },
   "source": [
    "**Calculate the number of messages sent by each user per month. Save the result.**\n"
   ]
  },
  {
   "cell_type": "code",
   "execution_count": 41,
   "metadata": {
    "colab": {
     "base_uri": "https://localhost:8080/",
     "height": 424
    },
    "id": "AatraIRDvJsy",
    "outputId": "1fbcc239-b75b-4505-fc6d-6e648b089650"
   },
   "outputs": [
    {
     "data": {
      "text/html": [
       "<div>\n",
       "<style scoped>\n",
       "    .dataframe tbody tr th:only-of-type {\n",
       "        vertical-align: middle;\n",
       "    }\n",
       "\n",
       "    .dataframe tbody tr th {\n",
       "        vertical-align: top;\n",
       "    }\n",
       "\n",
       "    .dataframe thead th {\n",
       "        text-align: right;\n",
       "    }\n",
       "</style>\n",
       "<table border=\"1\" class=\"dataframe\">\n",
       "  <thead>\n",
       "    <tr style=\"text-align: right;\">\n",
       "      <th></th>\n",
       "      <th>user_id</th>\n",
       "      <th>month</th>\n",
       "      <th>messages_count</th>\n",
       "    </tr>\n",
       "  </thead>\n",
       "  <tbody>\n",
       "    <tr>\n",
       "      <th>0</th>\n",
       "      <td>1000</td>\n",
       "      <td>12</td>\n",
       "      <td>11</td>\n",
       "    </tr>\n",
       "    <tr>\n",
       "      <th>1</th>\n",
       "      <td>1001</td>\n",
       "      <td>8</td>\n",
       "      <td>30</td>\n",
       "    </tr>\n",
       "    <tr>\n",
       "      <th>2</th>\n",
       "      <td>1001</td>\n",
       "      <td>9</td>\n",
       "      <td>44</td>\n",
       "    </tr>\n",
       "    <tr>\n",
       "      <th>3</th>\n",
       "      <td>1001</td>\n",
       "      <td>10</td>\n",
       "      <td>53</td>\n",
       "    </tr>\n",
       "    <tr>\n",
       "      <th>4</th>\n",
       "      <td>1001</td>\n",
       "      <td>11</td>\n",
       "      <td>36</td>\n",
       "    </tr>\n",
       "    <tr>\n",
       "      <th>...</th>\n",
       "      <td>...</td>\n",
       "      <td>...</td>\n",
       "      <td>...</td>\n",
       "    </tr>\n",
       "    <tr>\n",
       "      <th>1801</th>\n",
       "      <td>1496</td>\n",
       "      <td>9</td>\n",
       "      <td>21</td>\n",
       "    </tr>\n",
       "    <tr>\n",
       "      <th>1802</th>\n",
       "      <td>1496</td>\n",
       "      <td>10</td>\n",
       "      <td>18</td>\n",
       "    </tr>\n",
       "    <tr>\n",
       "      <th>1803</th>\n",
       "      <td>1496</td>\n",
       "      <td>11</td>\n",
       "      <td>13</td>\n",
       "    </tr>\n",
       "    <tr>\n",
       "      <th>1804</th>\n",
       "      <td>1496</td>\n",
       "      <td>12</td>\n",
       "      <td>11</td>\n",
       "    </tr>\n",
       "    <tr>\n",
       "      <th>1805</th>\n",
       "      <td>1497</td>\n",
       "      <td>12</td>\n",
       "      <td>50</td>\n",
       "    </tr>\n",
       "  </tbody>\n",
       "</table>\n",
       "<p>1806 rows × 3 columns</p>\n",
       "</div>"
      ],
      "text/plain": [
       "      user_id  month  messages_count\n",
       "0        1000     12              11\n",
       "1        1001      8              30\n",
       "2        1001      9              44\n",
       "3        1001     10              53\n",
       "4        1001     11              36\n",
       "...       ...    ...             ...\n",
       "1801     1496      9              21\n",
       "1802     1496     10              18\n",
       "1803     1496     11              13\n",
       "1804     1496     12              11\n",
       "1805     1497     12              50\n",
       "\n",
       "[1806 rows x 3 columns]"
      ]
     },
     "metadata": {},
     "output_type": "display_data"
    }
   ],
   "source": [
    "# Create a new column 'month' to extract the month from the 'message_date'\n",
    "messages['month'] = messages['message_date'].dt.month\n",
    "\n",
    "# Group the data by 'user_id' and 'month', and then count the number of messages for each group\n",
    "messages_per_month = messages.groupby(['user_id', 'month'])['id'].count().reset_index()\n",
    "\n",
    "# Rename the 'id' column to 'messages_count'\n",
    "messages_per_month.rename(columns={'id': 'messages_count'}, inplace=True)\n",
    "\n",
    "# Save the result to a CSV file\n",
    "messages_per_month.to_csv('messages_per_month.csv', index=False)\n",
    "\n",
    "# Display the result (optional)\n",
    "display(messages_per_month)"
   ]
  },
  {
   "cell_type": "markdown",
   "metadata": {
    "id": "QM9MbQPvlO4w"
   },
   "source": [
    "\n",
    "\n",
    "---\n",
    "\n"
   ]
  },
  {
   "cell_type": "markdown",
   "metadata": {
    "id": "IwYO1f-mxtZi"
   },
   "source": [
    "**Calculate the volume of internet traffic used by each user per month. Save the result.**\n"
   ]
  },
  {
   "cell_type": "code",
   "execution_count": 42,
   "metadata": {
    "colab": {
     "base_uri": "https://localhost:8080/",
     "height": 424
    },
    "id": "ibFZV9ILspDk",
    "outputId": "ba639aab-988e-4082-bd81-563b563a4938"
   },
   "outputs": [
    {
     "data": {
      "text/html": [
       "<div>\n",
       "<style scoped>\n",
       "    .dataframe tbody tr th:only-of-type {\n",
       "        vertical-align: middle;\n",
       "    }\n",
       "\n",
       "    .dataframe tbody tr th {\n",
       "        vertical-align: top;\n",
       "    }\n",
       "\n",
       "    .dataframe thead th {\n",
       "        text-align: right;\n",
       "    }\n",
       "</style>\n",
       "<table border=\"1\" class=\"dataframe\">\n",
       "  <thead>\n",
       "    <tr style=\"text-align: right;\">\n",
       "      <th></th>\n",
       "      <th>user_id</th>\n",
       "      <th>month</th>\n",
       "      <th>mb_used</th>\n",
       "      <th>gb_used</th>\n",
       "    </tr>\n",
       "  </thead>\n",
       "  <tbody>\n",
       "    <tr>\n",
       "      <th>0</th>\n",
       "      <td>1000</td>\n",
       "      <td>12</td>\n",
       "      <td>1901.47</td>\n",
       "      <td>1.856904</td>\n",
       "    </tr>\n",
       "    <tr>\n",
       "      <th>1</th>\n",
       "      <td>1001</td>\n",
       "      <td>8</td>\n",
       "      <td>6919.15</td>\n",
       "      <td>6.756982</td>\n",
       "    </tr>\n",
       "    <tr>\n",
       "      <th>2</th>\n",
       "      <td>1001</td>\n",
       "      <td>9</td>\n",
       "      <td>13314.82</td>\n",
       "      <td>13.002754</td>\n",
       "    </tr>\n",
       "    <tr>\n",
       "      <th>3</th>\n",
       "      <td>1001</td>\n",
       "      <td>10</td>\n",
       "      <td>22330.49</td>\n",
       "      <td>21.807119</td>\n",
       "    </tr>\n",
       "    <tr>\n",
       "      <th>4</th>\n",
       "      <td>1001</td>\n",
       "      <td>11</td>\n",
       "      <td>18504.30</td>\n",
       "      <td>18.070605</td>\n",
       "    </tr>\n",
       "    <tr>\n",
       "      <th>...</th>\n",
       "      <td>...</td>\n",
       "      <td>...</td>\n",
       "      <td>...</td>\n",
       "      <td>...</td>\n",
       "    </tr>\n",
       "    <tr>\n",
       "      <th>2272</th>\n",
       "      <td>1498</td>\n",
       "      <td>12</td>\n",
       "      <td>23137.69</td>\n",
       "      <td>22.595400</td>\n",
       "    </tr>\n",
       "    <tr>\n",
       "      <th>2273</th>\n",
       "      <td>1499</td>\n",
       "      <td>9</td>\n",
       "      <td>12984.76</td>\n",
       "      <td>12.680430</td>\n",
       "    </tr>\n",
       "    <tr>\n",
       "      <th>2274</th>\n",
       "      <td>1499</td>\n",
       "      <td>10</td>\n",
       "      <td>19492.43</td>\n",
       "      <td>19.035576</td>\n",
       "    </tr>\n",
       "    <tr>\n",
       "      <th>2275</th>\n",
       "      <td>1499</td>\n",
       "      <td>11</td>\n",
       "      <td>16813.83</td>\n",
       "      <td>16.419756</td>\n",
       "    </tr>\n",
       "    <tr>\n",
       "      <th>2276</th>\n",
       "      <td>1499</td>\n",
       "      <td>12</td>\n",
       "      <td>22059.21</td>\n",
       "      <td>21.542197</td>\n",
       "    </tr>\n",
       "  </tbody>\n",
       "</table>\n",
       "<p>2277 rows × 4 columns</p>\n",
       "</div>"
      ],
      "text/plain": [
       "      user_id  month   mb_used    gb_used\n",
       "0        1000     12   1901.47   1.856904\n",
       "1        1001      8   6919.15   6.756982\n",
       "2        1001      9  13314.82  13.002754\n",
       "3        1001     10  22330.49  21.807119\n",
       "4        1001     11  18504.30  18.070605\n",
       "...       ...    ...       ...        ...\n",
       "2272     1498     12  23137.69  22.595400\n",
       "2273     1499      9  12984.76  12.680430\n",
       "2274     1499     10  19492.43  19.035576\n",
       "2275     1499     11  16813.83  16.419756\n",
       "2276     1499     12  22059.21  21.542197\n",
       "\n",
       "[2277 rows x 4 columns]"
      ]
     },
     "metadata": {},
     "output_type": "display_data"
    }
   ],
   "source": [
    "# Extract the month from the 'session_date' column\n",
    "internet['month'] = internet['session_date'].dt.month\n",
    "\n",
    "# Group the data by 'user_id' and 'month' and sum the 'mb_used' column\n",
    "internet_traffic_per_user_per_month = internet.groupby(['user_id', 'month'])['mb_used'].sum().reset_index()\n",
    "\n",
    "# Convert the 'mb_used' column to GB\n",
    "internet_traffic_per_user_per_month['gb_used'] = internet_traffic_per_user_per_month['mb_used'] / 1024\n",
    "\n",
    "# Save the result to a new dataframe or CSV file\n",
    "internet_traffic_per_user_per_month.to_csv('internet_traffic_per_user_per_month.csv', index=False)\n",
    "\n",
    "# Display the result\n",
    "display(internet_traffic_per_user_per_month)"
   ]
  },
  {
   "cell_type": "markdown",
   "metadata": {
    "id": "vUSztX1flRSK"
   },
   "source": [
    "\n",
    "\n",
    "---\n",
    "\n"
   ]
  },
  {
   "cell_type": "markdown",
   "metadata": {
    "id": "2yGinHN5lGTm"
   },
   "source": [
    "**Merge the data for calls, minutes, messages, internet based on user_id and month**\n"
   ]
  },
  {
   "cell_type": "code",
   "execution_count": 43,
   "metadata": {
    "colab": {
     "base_uri": "https://localhost:8080/",
     "height": 424
    },
    "id": "tA0xONnnzQbm",
    "outputId": "3436cbfa-c6d4-49ad-a814-885fae6ae0c3"
   },
   "outputs": [
    {
     "data": {
      "text/html": [
       "<div>\n",
       "<style scoped>\n",
       "    .dataframe tbody tr th:only-of-type {\n",
       "        vertical-align: middle;\n",
       "    }\n",
       "\n",
       "    .dataframe tbody tr th {\n",
       "        vertical-align: top;\n",
       "    }\n",
       "\n",
       "    .dataframe thead th {\n",
       "        text-align: right;\n",
       "    }\n",
       "</style>\n",
       "<table border=\"1\" class=\"dataframe\">\n",
       "  <thead>\n",
       "    <tr style=\"text-align: right;\">\n",
       "      <th></th>\n",
       "      <th>user_id</th>\n",
       "      <th>month</th>\n",
       "      <th>calls_count</th>\n",
       "      <th>total_minutes</th>\n",
       "      <th>messages_count</th>\n",
       "      <th>mb_used</th>\n",
       "      <th>gb_used</th>\n",
       "    </tr>\n",
       "  </thead>\n",
       "  <tbody>\n",
       "    <tr>\n",
       "      <th>0</th>\n",
       "      <td>1000</td>\n",
       "      <td>12</td>\n",
       "      <td>16.0</td>\n",
       "      <td>124.0</td>\n",
       "      <td>11.0</td>\n",
       "      <td>1901.47</td>\n",
       "      <td>1.856904</td>\n",
       "    </tr>\n",
       "    <tr>\n",
       "      <th>1</th>\n",
       "      <td>1001</td>\n",
       "      <td>8</td>\n",
       "      <td>27.0</td>\n",
       "      <td>182.0</td>\n",
       "      <td>30.0</td>\n",
       "      <td>6919.15</td>\n",
       "      <td>6.756982</td>\n",
       "    </tr>\n",
       "    <tr>\n",
       "      <th>2</th>\n",
       "      <td>1001</td>\n",
       "      <td>9</td>\n",
       "      <td>49.0</td>\n",
       "      <td>315.0</td>\n",
       "      <td>44.0</td>\n",
       "      <td>13314.82</td>\n",
       "      <td>13.002754</td>\n",
       "    </tr>\n",
       "    <tr>\n",
       "      <th>3</th>\n",
       "      <td>1001</td>\n",
       "      <td>10</td>\n",
       "      <td>65.0</td>\n",
       "      <td>393.0</td>\n",
       "      <td>53.0</td>\n",
       "      <td>22330.49</td>\n",
       "      <td>21.807119</td>\n",
       "    </tr>\n",
       "    <tr>\n",
       "      <th>4</th>\n",
       "      <td>1001</td>\n",
       "      <td>11</td>\n",
       "      <td>64.0</td>\n",
       "      <td>426.0</td>\n",
       "      <td>36.0</td>\n",
       "      <td>18504.30</td>\n",
       "      <td>18.070605</td>\n",
       "    </tr>\n",
       "    <tr>\n",
       "      <th>...</th>\n",
       "      <td>...</td>\n",
       "      <td>...</td>\n",
       "      <td>...</td>\n",
       "      <td>...</td>\n",
       "      <td>...</td>\n",
       "      <td>...</td>\n",
       "      <td>...</td>\n",
       "    </tr>\n",
       "    <tr>\n",
       "      <th>2288</th>\n",
       "      <td>1349</td>\n",
       "      <td>12</td>\n",
       "      <td>NaN</td>\n",
       "      <td>NaN</td>\n",
       "      <td>61.0</td>\n",
       "      <td>13039.91</td>\n",
       "      <td>12.734287</td>\n",
       "    </tr>\n",
       "    <tr>\n",
       "      <th>2289</th>\n",
       "      <td>1361</td>\n",
       "      <td>5</td>\n",
       "      <td>NaN</td>\n",
       "      <td>NaN</td>\n",
       "      <td>2.0</td>\n",
       "      <td>1519.69</td>\n",
       "      <td>1.484072</td>\n",
       "    </tr>\n",
       "    <tr>\n",
       "      <th>2290</th>\n",
       "      <td>1482</td>\n",
       "      <td>10</td>\n",
       "      <td>NaN</td>\n",
       "      <td>NaN</td>\n",
       "      <td>2.0</td>\n",
       "      <td>NaN</td>\n",
       "      <td>NaN</td>\n",
       "    </tr>\n",
       "    <tr>\n",
       "      <th>2291</th>\n",
       "      <td>1108</td>\n",
       "      <td>12</td>\n",
       "      <td>NaN</td>\n",
       "      <td>NaN</td>\n",
       "      <td>NaN</td>\n",
       "      <td>233.17</td>\n",
       "      <td>0.227705</td>\n",
       "    </tr>\n",
       "    <tr>\n",
       "      <th>2292</th>\n",
       "      <td>1311</td>\n",
       "      <td>6</td>\n",
       "      <td>NaN</td>\n",
       "      <td>NaN</td>\n",
       "      <td>NaN</td>\n",
       "      <td>1498.83</td>\n",
       "      <td>1.463701</td>\n",
       "    </tr>\n",
       "  </tbody>\n",
       "</table>\n",
       "<p>2293 rows × 7 columns</p>\n",
       "</div>"
      ],
      "text/plain": [
       "      user_id  month  calls_count  total_minutes  messages_count   mb_used  \\\n",
       "0        1000     12         16.0          124.0            11.0   1901.47   \n",
       "1        1001      8         27.0          182.0            30.0   6919.15   \n",
       "2        1001      9         49.0          315.0            44.0  13314.82   \n",
       "3        1001     10         65.0          393.0            53.0  22330.49   \n",
       "4        1001     11         64.0          426.0            36.0  18504.30   \n",
       "...       ...    ...          ...            ...             ...       ...   \n",
       "2288     1349     12          NaN            NaN            61.0  13039.91   \n",
       "2289     1361      5          NaN            NaN             2.0   1519.69   \n",
       "2290     1482     10          NaN            NaN             2.0       NaN   \n",
       "2291     1108     12          NaN            NaN             NaN    233.17   \n",
       "2292     1311      6          NaN            NaN             NaN   1498.83   \n",
       "\n",
       "        gb_used  \n",
       "0      1.856904  \n",
       "1      6.756982  \n",
       "2     13.002754  \n",
       "3     21.807119  \n",
       "4     18.070605  \n",
       "...         ...  \n",
       "2288  12.734287  \n",
       "2289   1.484072  \n",
       "2290        NaN  \n",
       "2291   0.227705  \n",
       "2292   1.463701  \n",
       "\n",
       "[2293 rows x 7 columns]"
      ]
     },
     "metadata": {},
     "output_type": "display_data"
    }
   ],
   "source": [
    "calls = pd.read_csv('/home/jovyan/work/calls_per_month.csv')\n",
    "minutes = pd.read_csv('/home/jovyan/work/minutes_per_month.csv')\n",
    "messages = pd.read_csv('/home/jovyan/work/messages_per_month.csv')\n",
    "internet = pd.read_csv('/home/jovyan/work/internet_traffic_per_user_per_month.csv')\n",
    "\n",
    "# Merge the dataframes one by one based on 'user_id' and 'month'\n",
    "merged_data = calls.merge(minutes, on=['user_id', 'month'], how='outer')\n",
    "merged_data = merged_data.merge(messages, on=['user_id', 'month'], how='outer')\n",
    "merged_data = merged_data.merge(internet, on=['user_id', 'month'], how='outer')\n",
    "\n",
    "# Save the merged data to a CSV file\n",
    "merged_data.to_csv('merged_data.csv', index=False)\n",
    "\n",
    "# Display the merged data (optional)\n",
    "display(merged_data)"
   ]
  },
  {
   "cell_type": "code",
   "execution_count": 44,
   "metadata": {
    "colab": {
     "base_uri": "https://localhost:8080/",
     "height": 206
    },
    "id": "zs32KAU0tmIz",
    "outputId": "40e5c2af-3ac5-4eca-fcd2-be3f655ba6fa"
   },
   "outputs": [
    {
     "data": {
      "text/html": [
       "<div>\n",
       "<style scoped>\n",
       "    .dataframe tbody tr th:only-of-type {\n",
       "        vertical-align: middle;\n",
       "    }\n",
       "\n",
       "    .dataframe tbody tr th {\n",
       "        vertical-align: top;\n",
       "    }\n",
       "\n",
       "    .dataframe thead th {\n",
       "        text-align: right;\n",
       "    }\n",
       "</style>\n",
       "<table border=\"1\" class=\"dataframe\">\n",
       "  <thead>\n",
       "    <tr style=\"text-align: right;\">\n",
       "      <th></th>\n",
       "      <th>user_id</th>\n",
       "      <th>first_name</th>\n",
       "      <th>last_name</th>\n",
       "      <th>age</th>\n",
       "      <th>city</th>\n",
       "      <th>reg_date</th>\n",
       "      <th>plan</th>\n",
       "      <th>churn_date</th>\n",
       "      <th>state_msa</th>\n",
       "      <th>age_group</th>\n",
       "      <th>reg_year</th>\n",
       "      <th>reg_month</th>\n",
       "    </tr>\n",
       "  </thead>\n",
       "  <tbody>\n",
       "    <tr>\n",
       "      <th>0</th>\n",
       "      <td>1000</td>\n",
       "      <td>Anamaria</td>\n",
       "      <td>Bauer</td>\n",
       "      <td>45</td>\n",
       "      <td>Atlanta-Sandy Springs-Roswell</td>\n",
       "      <td>2018-12-24</td>\n",
       "      <td>ultimate</td>\n",
       "      <td>NaT</td>\n",
       "      <td>GA MSA</td>\n",
       "      <td>36-45</td>\n",
       "      <td>2018</td>\n",
       "      <td>12</td>\n",
       "    </tr>\n",
       "    <tr>\n",
       "      <th>1</th>\n",
       "      <td>1001</td>\n",
       "      <td>Mickey</td>\n",
       "      <td>Wilkerson</td>\n",
       "      <td>28</td>\n",
       "      <td>Seattle-Tacoma-Bellevue</td>\n",
       "      <td>2018-08-13</td>\n",
       "      <td>surf</td>\n",
       "      <td>NaT</td>\n",
       "      <td>WA MSA</td>\n",
       "      <td>26-35</td>\n",
       "      <td>2018</td>\n",
       "      <td>8</td>\n",
       "    </tr>\n",
       "    <tr>\n",
       "      <th>2</th>\n",
       "      <td>1002</td>\n",
       "      <td>Carlee</td>\n",
       "      <td>Hoffman</td>\n",
       "      <td>36</td>\n",
       "      <td>Las Vegas-Henderson-Paradise</td>\n",
       "      <td>2018-10-21</td>\n",
       "      <td>surf</td>\n",
       "      <td>NaT</td>\n",
       "      <td>NV MSA</td>\n",
       "      <td>36-45</td>\n",
       "      <td>2018</td>\n",
       "      <td>10</td>\n",
       "    </tr>\n",
       "    <tr>\n",
       "      <th>3</th>\n",
       "      <td>1003</td>\n",
       "      <td>Reynaldo</td>\n",
       "      <td>Jenkins</td>\n",
       "      <td>52</td>\n",
       "      <td>Tulsa</td>\n",
       "      <td>2018-01-28</td>\n",
       "      <td>surf</td>\n",
       "      <td>NaT</td>\n",
       "      <td>OK MSA</td>\n",
       "      <td>46-55</td>\n",
       "      <td>2018</td>\n",
       "      <td>1</td>\n",
       "    </tr>\n",
       "    <tr>\n",
       "      <th>4</th>\n",
       "      <td>1004</td>\n",
       "      <td>Leonila</td>\n",
       "      <td>Thompson</td>\n",
       "      <td>40</td>\n",
       "      <td>Seattle-Tacoma-Bellevue</td>\n",
       "      <td>2018-05-23</td>\n",
       "      <td>surf</td>\n",
       "      <td>NaT</td>\n",
       "      <td>WA MSA</td>\n",
       "      <td>36-45</td>\n",
       "      <td>2018</td>\n",
       "      <td>5</td>\n",
       "    </tr>\n",
       "  </tbody>\n",
       "</table>\n",
       "</div>"
      ],
      "text/plain": [
       "   user_id first_name  last_name  age                           city  \\\n",
       "0     1000   Anamaria      Bauer   45  Atlanta-Sandy Springs-Roswell   \n",
       "1     1001     Mickey  Wilkerson   28        Seattle-Tacoma-Bellevue   \n",
       "2     1002     Carlee    Hoffman   36   Las Vegas-Henderson-Paradise   \n",
       "3     1003   Reynaldo    Jenkins   52                          Tulsa   \n",
       "4     1004    Leonila   Thompson   40        Seattle-Tacoma-Bellevue   \n",
       "\n",
       "    reg_date      plan churn_date state_msa age_group  reg_year  reg_month  \n",
       "0 2018-12-24  ultimate        NaT    GA MSA     36-45      2018         12  \n",
       "1 2018-08-13      surf        NaT    WA MSA     26-35      2018          8  \n",
       "2 2018-10-21      surf        NaT    NV MSA     36-45      2018         10  \n",
       "3 2018-01-28      surf        NaT    OK MSA     46-55      2018          1  \n",
       "4 2018-05-23      surf        NaT    WA MSA     36-45      2018          5  "
      ]
     },
     "execution_count": 44,
     "metadata": {},
     "output_type": "execute_result"
    }
   ],
   "source": [
    "users.head()"
   ]
  },
  {
   "cell_type": "code",
   "execution_count": 45,
   "metadata": {
    "colab": {
     "base_uri": "https://localhost:8080/",
     "height": 112
    },
    "id": "ABGPhbHbtEjJ",
    "outputId": "1aea5497-c776-4e28-8b17-b25e3c1997e0"
   },
   "outputs": [
    {
     "data": {
      "text/html": [
       "<div>\n",
       "<style scoped>\n",
       "    .dataframe tbody tr th:only-of-type {\n",
       "        vertical-align: middle;\n",
       "    }\n",
       "\n",
       "    .dataframe tbody tr th {\n",
       "        vertical-align: top;\n",
       "    }\n",
       "\n",
       "    .dataframe thead th {\n",
       "        text-align: right;\n",
       "    }\n",
       "</style>\n",
       "<table border=\"1\" class=\"dataframe\">\n",
       "  <thead>\n",
       "    <tr style=\"text-align: right;\">\n",
       "      <th></th>\n",
       "      <th>messages_included</th>\n",
       "      <th>mb_per_month_included</th>\n",
       "      <th>minutes_included</th>\n",
       "      <th>usd_monthly_pay</th>\n",
       "      <th>usd_per_gb</th>\n",
       "      <th>usd_per_message</th>\n",
       "      <th>usd_per_minute</th>\n",
       "      <th>plan_name</th>\n",
       "      <th>data_usage_gb</th>\n",
       "    </tr>\n",
       "  </thead>\n",
       "  <tbody>\n",
       "    <tr>\n",
       "      <th>0</th>\n",
       "      <td>50</td>\n",
       "      <td>15360</td>\n",
       "      <td>500</td>\n",
       "      <td>20</td>\n",
       "      <td>10</td>\n",
       "      <td>0.03</td>\n",
       "      <td>0.03</td>\n",
       "      <td>surf</td>\n",
       "      <td>15.0</td>\n",
       "    </tr>\n",
       "    <tr>\n",
       "      <th>1</th>\n",
       "      <td>1000</td>\n",
       "      <td>30720</td>\n",
       "      <td>3000</td>\n",
       "      <td>70</td>\n",
       "      <td>7</td>\n",
       "      <td>0.01</td>\n",
       "      <td>0.01</td>\n",
       "      <td>ultimate</td>\n",
       "      <td>30.0</td>\n",
       "    </tr>\n",
       "  </tbody>\n",
       "</table>\n",
       "</div>"
      ],
      "text/plain": [
       "   messages_included  mb_per_month_included  minutes_included  \\\n",
       "0                 50                  15360               500   \n",
       "1               1000                  30720              3000   \n",
       "\n",
       "   usd_monthly_pay  usd_per_gb  usd_per_message  usd_per_minute plan_name  \\\n",
       "0               20          10             0.03            0.03      surf   \n",
       "1               70           7             0.01            0.01  ultimate   \n",
       "\n",
       "   data_usage_gb  \n",
       "0           15.0  \n",
       "1           30.0  "
      ]
     },
     "execution_count": 45,
     "metadata": {},
     "output_type": "execute_result"
    }
   ],
   "source": [
    "plans.head()"
   ]
  },
  {
   "cell_type": "code",
   "execution_count": 46,
   "metadata": {
    "colab": {
     "base_uri": "https://localhost:8080/",
     "height": 424
    },
    "id": "KzhpKYdvt8FF",
    "outputId": "f1c83edd-081a-466d-8ad0-4dcc926f6de2"
   },
   "outputs": [
    {
     "data": {
      "text/html": [
       "<div>\n",
       "<style scoped>\n",
       "    .dataframe tbody tr th:only-of-type {\n",
       "        vertical-align: middle;\n",
       "    }\n",
       "\n",
       "    .dataframe tbody tr th {\n",
       "        vertical-align: top;\n",
       "    }\n",
       "\n",
       "    .dataframe thead th {\n",
       "        text-align: right;\n",
       "    }\n",
       "</style>\n",
       "<table border=\"1\" class=\"dataframe\">\n",
       "  <thead>\n",
       "    <tr style=\"text-align: right;\">\n",
       "      <th></th>\n",
       "      <th>user_id</th>\n",
       "      <th>month</th>\n",
       "      <th>calls_count</th>\n",
       "      <th>total_minutes</th>\n",
       "      <th>messages_count</th>\n",
       "      <th>mb_used</th>\n",
       "      <th>gb_used</th>\n",
       "      <th>plan</th>\n",
       "    </tr>\n",
       "  </thead>\n",
       "  <tbody>\n",
       "    <tr>\n",
       "      <th>0</th>\n",
       "      <td>1000</td>\n",
       "      <td>12</td>\n",
       "      <td>16.0</td>\n",
       "      <td>124.0</td>\n",
       "      <td>11.0</td>\n",
       "      <td>1901.47</td>\n",
       "      <td>1.856904</td>\n",
       "      <td>ultimate</td>\n",
       "    </tr>\n",
       "    <tr>\n",
       "      <th>1</th>\n",
       "      <td>1001</td>\n",
       "      <td>8</td>\n",
       "      <td>27.0</td>\n",
       "      <td>182.0</td>\n",
       "      <td>30.0</td>\n",
       "      <td>6919.15</td>\n",
       "      <td>6.756982</td>\n",
       "      <td>surf</td>\n",
       "    </tr>\n",
       "    <tr>\n",
       "      <th>2</th>\n",
       "      <td>1001</td>\n",
       "      <td>9</td>\n",
       "      <td>49.0</td>\n",
       "      <td>315.0</td>\n",
       "      <td>44.0</td>\n",
       "      <td>13314.82</td>\n",
       "      <td>13.002754</td>\n",
       "      <td>surf</td>\n",
       "    </tr>\n",
       "    <tr>\n",
       "      <th>3</th>\n",
       "      <td>1001</td>\n",
       "      <td>10</td>\n",
       "      <td>65.0</td>\n",
       "      <td>393.0</td>\n",
       "      <td>53.0</td>\n",
       "      <td>22330.49</td>\n",
       "      <td>21.807119</td>\n",
       "      <td>surf</td>\n",
       "    </tr>\n",
       "    <tr>\n",
       "      <th>4</th>\n",
       "      <td>1001</td>\n",
       "      <td>11</td>\n",
       "      <td>64.0</td>\n",
       "      <td>426.0</td>\n",
       "      <td>36.0</td>\n",
       "      <td>18504.30</td>\n",
       "      <td>18.070605</td>\n",
       "      <td>surf</td>\n",
       "    </tr>\n",
       "    <tr>\n",
       "      <th>...</th>\n",
       "      <td>...</td>\n",
       "      <td>...</td>\n",
       "      <td>...</td>\n",
       "      <td>...</td>\n",
       "      <td>...</td>\n",
       "      <td>...</td>\n",
       "      <td>...</td>\n",
       "      <td>...</td>\n",
       "    </tr>\n",
       "    <tr>\n",
       "      <th>2288</th>\n",
       "      <td>1349</td>\n",
       "      <td>12</td>\n",
       "      <td>0.0</td>\n",
       "      <td>0.0</td>\n",
       "      <td>61.0</td>\n",
       "      <td>13039.91</td>\n",
       "      <td>12.734287</td>\n",
       "      <td>surf</td>\n",
       "    </tr>\n",
       "    <tr>\n",
       "      <th>2289</th>\n",
       "      <td>1361</td>\n",
       "      <td>5</td>\n",
       "      <td>0.0</td>\n",
       "      <td>0.0</td>\n",
       "      <td>2.0</td>\n",
       "      <td>1519.69</td>\n",
       "      <td>1.484072</td>\n",
       "      <td>surf</td>\n",
       "    </tr>\n",
       "    <tr>\n",
       "      <th>2290</th>\n",
       "      <td>1482</td>\n",
       "      <td>10</td>\n",
       "      <td>0.0</td>\n",
       "      <td>0.0</td>\n",
       "      <td>2.0</td>\n",
       "      <td>0.00</td>\n",
       "      <td>0.000000</td>\n",
       "      <td>ultimate</td>\n",
       "    </tr>\n",
       "    <tr>\n",
       "      <th>2291</th>\n",
       "      <td>1108</td>\n",
       "      <td>12</td>\n",
       "      <td>0.0</td>\n",
       "      <td>0.0</td>\n",
       "      <td>0.0</td>\n",
       "      <td>233.17</td>\n",
       "      <td>0.227705</td>\n",
       "      <td>ultimate</td>\n",
       "    </tr>\n",
       "    <tr>\n",
       "      <th>2292</th>\n",
       "      <td>1311</td>\n",
       "      <td>6</td>\n",
       "      <td>0.0</td>\n",
       "      <td>0.0</td>\n",
       "      <td>0.0</td>\n",
       "      <td>1498.83</td>\n",
       "      <td>1.463701</td>\n",
       "      <td>ultimate</td>\n",
       "    </tr>\n",
       "  </tbody>\n",
       "</table>\n",
       "<p>2293 rows × 8 columns</p>\n",
       "</div>"
      ],
      "text/plain": [
       "      user_id  month  calls_count  total_minutes  messages_count   mb_used  \\\n",
       "0        1000     12         16.0          124.0            11.0   1901.47   \n",
       "1        1001      8         27.0          182.0            30.0   6919.15   \n",
       "2        1001      9         49.0          315.0            44.0  13314.82   \n",
       "3        1001     10         65.0          393.0            53.0  22330.49   \n",
       "4        1001     11         64.0          426.0            36.0  18504.30   \n",
       "...       ...    ...          ...            ...             ...       ...   \n",
       "2288     1349     12          0.0            0.0            61.0  13039.91   \n",
       "2289     1361      5          0.0            0.0             2.0   1519.69   \n",
       "2290     1482     10          0.0            0.0             2.0      0.00   \n",
       "2291     1108     12          0.0            0.0             0.0    233.17   \n",
       "2292     1311      6          0.0            0.0             0.0   1498.83   \n",
       "\n",
       "        gb_used      plan  \n",
       "0      1.856904  ultimate  \n",
       "1      6.756982      surf  \n",
       "2     13.002754      surf  \n",
       "3     21.807119      surf  \n",
       "4     18.070605      surf  \n",
       "...         ...       ...  \n",
       "2288  12.734287      surf  \n",
       "2289   1.484072      surf  \n",
       "2290   0.000000  ultimate  \n",
       "2291   0.227705  ultimate  \n",
       "2292   1.463701  ultimate  \n",
       "\n",
       "[2293 rows x 8 columns]"
      ]
     },
     "execution_count": 46,
     "metadata": {},
     "output_type": "execute_result"
    }
   ],
   "source": [
    "users_plan=users[['user_id','plan']]\n",
    "new_merge_data=merged_data.merge(users_plan,on='user_id',how='left')\n",
    "new_merge_data.fillna(0)"
   ]
  },
  {
   "cell_type": "markdown",
   "metadata": {
    "id": "QgDmGH-alYZ_"
   },
   "source": [
    "\n",
    "\n",
    "---\n",
    "\n"
   ]
  },
  {
   "cell_type": "markdown",
   "metadata": {
    "id": "-4OROiPe_2F2"
   },
   "source": [
    "# Add the plan information\n"
   ]
  },
  {
   "cell_type": "markdown",
   "metadata": {
    "id": "neubyQ9vzWNJ"
   },
   "source": [
    "**Calculate the monthly revenue for each user**"
   ]
  },
  {
   "cell_type": "code",
   "execution_count": 47,
   "metadata": {
    "colab": {
     "base_uri": "https://localhost:8080/",
     "height": 424
    },
    "id": "5xGI7GvRylb5",
    "outputId": "280c9224-576e-4fda-b75e-27b6bee7e575",
    "scrolled": true
   },
   "outputs": [],
   "source": [
    "# Define a function to calculate monthly revenue for each user\n",
    "def calculate_monthly_revenue(row):\n",
    "    # Calculate excess usage for calls, messages, and data\n",
    "    excess_calls = max(0, row['calls_count'] - row['minutes_included'])\n",
    "    excess_messages = max(0, row['messages_count'] - row['messages_included'])\n",
    "    excess_data_gb = max(0, round((row['mb_used'] - row['mb_per_month_included']) / 1024))  # Convert MB to rounded GB\n",
    "    # Calculate the cost of excess usage\n",
    "    call_cost = excess_calls * row['usd_per_minute']\n",
    "    message_cost = excess_messages * row['usd_per_message']\n",
    "    data_cost = excess_data_gb * row['usd_per_gb']\n",
    "\n",
    "    # Calculate the total monthly revenue\n",
    "    total_revenue = row['usd_monthly_pay'] + call_cost + message_cost + data_cost\n",
    "    return total_revenue\n"
   ]
  },
  {
   "cell_type": "markdown",
   "metadata": {
    "id": "3n0bZAAIO1x1"
   },
   "source": [
    "\n",
    "\n",
    "---\n",
    "\n",
    "\n",
    "\n",
    "---\n",
    "\n",
    "\n",
    "\n",
    "---\n",
    "\n"
   ]
  },
  {
   "cell_type": "markdown",
   "metadata": {
    "id": "-zCHgMdRPIva"
   },
   "source": [
    "#Study user behaviour"
   ]
  },
  {
   "cell_type": "markdown",
   "metadata": {
    "id": "MHaxKqGWPOgN"
   },
   "source": [
    "#1.Calls"
   ]
  },
  {
   "cell_type": "markdown",
   "metadata": {
    "id": "5-XBFYLGhMhU"
   },
   "source": [
    "**Compare average duration of calls per each plan per each distinct month. Plot a bar plat to visualize it.**\n"
   ]
  },
  {
   "cell_type": "code",
   "execution_count": 48,
   "metadata": {
    "colab": {
     "base_uri": "https://localhost:8080/",
     "height": 206
    },
    "id": "ttLwMUaE0Os8",
    "outputId": "2348ce0a-1e73-41aa-c04f-229c6510fac1"
   },
   "outputs": [
    {
     "data": {
      "text/html": [
       "<div>\n",
       "<style scoped>\n",
       "    .dataframe tbody tr th:only-of-type {\n",
       "        vertical-align: middle;\n",
       "    }\n",
       "\n",
       "    .dataframe tbody tr th {\n",
       "        vertical-align: top;\n",
       "    }\n",
       "\n",
       "    .dataframe thead th {\n",
       "        text-align: right;\n",
       "    }\n",
       "</style>\n",
       "<table border=\"1\" class=\"dataframe\">\n",
       "  <thead>\n",
       "    <tr style=\"text-align: right;\">\n",
       "      <th></th>\n",
       "      <th>user_id</th>\n",
       "      <th>plan</th>\n",
       "    </tr>\n",
       "  </thead>\n",
       "  <tbody>\n",
       "    <tr>\n",
       "      <th>0</th>\n",
       "      <td>1000</td>\n",
       "      <td>ultimate</td>\n",
       "    </tr>\n",
       "    <tr>\n",
       "      <th>1</th>\n",
       "      <td>1001</td>\n",
       "      <td>surf</td>\n",
       "    </tr>\n",
       "    <tr>\n",
       "      <th>2</th>\n",
       "      <td>1002</td>\n",
       "      <td>surf</td>\n",
       "    </tr>\n",
       "    <tr>\n",
       "      <th>3</th>\n",
       "      <td>1003</td>\n",
       "      <td>surf</td>\n",
       "    </tr>\n",
       "    <tr>\n",
       "      <th>4</th>\n",
       "      <td>1004</td>\n",
       "      <td>surf</td>\n",
       "    </tr>\n",
       "  </tbody>\n",
       "</table>\n",
       "</div>"
      ],
      "text/plain": [
       "   user_id      plan\n",
       "0     1000  ultimate\n",
       "1     1001      surf\n",
       "2     1002      surf\n",
       "3     1003      surf\n",
       "4     1004      surf"
      ]
     },
     "execution_count": 48,
     "metadata": {},
     "output_type": "execute_result"
    }
   ],
   "source": [
    "users_plan.head()"
   ]
  },
  {
   "cell_type": "code",
   "execution_count": 49,
   "metadata": {
    "id": "3Y3LaSUVzn2u"
   },
   "outputs": [],
   "source": [
    "calls=pd.read_csv('/datasets/megaline_calls.csv')\n",
    "calls_plan = calls.merge(users_plan, on=\"user_id\", how=\"left\")\n",
    "calls_plan['call_date'] = pd.to_datetime(calls_plan['call_date'])"
   ]
  },
  {
   "cell_type": "code",
   "execution_count": 50,
   "metadata": {
    "colab": {
     "base_uri": "https://localhost:8080/",
     "height": 206
    },
    "id": "UqoibIow1Kjf",
    "outputId": "f16d8ae8-d4e6-4ad3-d94a-b2593f42e105"
   },
   "outputs": [
    {
     "data": {
      "text/html": [
       "<div>\n",
       "<style scoped>\n",
       "    .dataframe tbody tr th:only-of-type {\n",
       "        vertical-align: middle;\n",
       "    }\n",
       "\n",
       "    .dataframe tbody tr th {\n",
       "        vertical-align: top;\n",
       "    }\n",
       "\n",
       "    .dataframe thead th {\n",
       "        text-align: right;\n",
       "    }\n",
       "</style>\n",
       "<table border=\"1\" class=\"dataframe\">\n",
       "  <thead>\n",
       "    <tr style=\"text-align: right;\">\n",
       "      <th></th>\n",
       "      <th>id</th>\n",
       "      <th>user_id</th>\n",
       "      <th>call_date</th>\n",
       "      <th>duration</th>\n",
       "      <th>plan</th>\n",
       "      <th>call_month</th>\n",
       "    </tr>\n",
       "  </thead>\n",
       "  <tbody>\n",
       "    <tr>\n",
       "      <th>0</th>\n",
       "      <td>1000_93</td>\n",
       "      <td>1000</td>\n",
       "      <td>2018-12-27</td>\n",
       "      <td>8.52</td>\n",
       "      <td>ultimate</td>\n",
       "      <td>12</td>\n",
       "    </tr>\n",
       "    <tr>\n",
       "      <th>1</th>\n",
       "      <td>1000_145</td>\n",
       "      <td>1000</td>\n",
       "      <td>2018-12-27</td>\n",
       "      <td>13.66</td>\n",
       "      <td>ultimate</td>\n",
       "      <td>12</td>\n",
       "    </tr>\n",
       "    <tr>\n",
       "      <th>2</th>\n",
       "      <td>1000_247</td>\n",
       "      <td>1000</td>\n",
       "      <td>2018-12-27</td>\n",
       "      <td>14.48</td>\n",
       "      <td>ultimate</td>\n",
       "      <td>12</td>\n",
       "    </tr>\n",
       "    <tr>\n",
       "      <th>3</th>\n",
       "      <td>1000_309</td>\n",
       "      <td>1000</td>\n",
       "      <td>2018-12-28</td>\n",
       "      <td>5.76</td>\n",
       "      <td>ultimate</td>\n",
       "      <td>12</td>\n",
       "    </tr>\n",
       "    <tr>\n",
       "      <th>4</th>\n",
       "      <td>1000_380</td>\n",
       "      <td>1000</td>\n",
       "      <td>2018-12-30</td>\n",
       "      <td>4.22</td>\n",
       "      <td>ultimate</td>\n",
       "      <td>12</td>\n",
       "    </tr>\n",
       "  </tbody>\n",
       "</table>\n",
       "</div>"
      ],
      "text/plain": [
       "         id  user_id  call_date  duration      plan  call_month\n",
       "0   1000_93     1000 2018-12-27      8.52  ultimate          12\n",
       "1  1000_145     1000 2018-12-27     13.66  ultimate          12\n",
       "2  1000_247     1000 2018-12-27     14.48  ultimate          12\n",
       "3  1000_309     1000 2018-12-28      5.76  ultimate          12\n",
       "4  1000_380     1000 2018-12-30      4.22  ultimate          12"
      ]
     },
     "execution_count": 50,
     "metadata": {},
     "output_type": "execute_result"
    }
   ],
   "source": [
    "calls_plan['call_month'] = calls_plan['call_date'].dt.month\n",
    "calls_plan.head()"
   ]
  },
  {
   "cell_type": "code",
   "execution_count": 51,
   "metadata": {
    "colab": {
     "base_uri": "https://localhost:8080/",
     "height": 802
    },
    "id": "Y6jf_Bih1rRW",
    "outputId": "76cf77c3-79aa-4350-c702-7be190229d22"
   },
   "outputs": [
    {
     "data": {
      "text/html": [
       "<div>\n",
       "<style scoped>\n",
       "    .dataframe tbody tr th:only-of-type {\n",
       "        vertical-align: middle;\n",
       "    }\n",
       "\n",
       "    .dataframe tbody tr th {\n",
       "        vertical-align: top;\n",
       "    }\n",
       "\n",
       "    .dataframe thead th {\n",
       "        text-align: right;\n",
       "    }\n",
       "</style>\n",
       "<table border=\"1\" class=\"dataframe\">\n",
       "  <thead>\n",
       "    <tr style=\"text-align: right;\">\n",
       "      <th></th>\n",
       "      <th>plan</th>\n",
       "      <th>call_month</th>\n",
       "      <th>duration</th>\n",
       "    </tr>\n",
       "  </thead>\n",
       "  <tbody>\n",
       "    <tr>\n",
       "      <th>0</th>\n",
       "      <td>surf</td>\n",
       "      <td>1</td>\n",
       "      <td>6.428000</td>\n",
       "    </tr>\n",
       "    <tr>\n",
       "      <th>1</th>\n",
       "      <td>surf</td>\n",
       "      <td>2</td>\n",
       "      <td>6.906175</td>\n",
       "    </tr>\n",
       "    <tr>\n",
       "      <th>2</th>\n",
       "      <td>surf</td>\n",
       "      <td>3</td>\n",
       "      <td>6.696919</td>\n",
       "    </tr>\n",
       "    <tr>\n",
       "      <th>3</th>\n",
       "      <td>surf</td>\n",
       "      <td>4</td>\n",
       "      <td>6.799918</td>\n",
       "    </tr>\n",
       "    <tr>\n",
       "      <th>4</th>\n",
       "      <td>surf</td>\n",
       "      <td>5</td>\n",
       "      <td>6.769200</td>\n",
       "    </tr>\n",
       "    <tr>\n",
       "      <th>5</th>\n",
       "      <td>surf</td>\n",
       "      <td>6</td>\n",
       "      <td>6.846812</td>\n",
       "    </tr>\n",
       "    <tr>\n",
       "      <th>6</th>\n",
       "      <td>surf</td>\n",
       "      <td>7</td>\n",
       "      <td>6.721710</td>\n",
       "    </tr>\n",
       "    <tr>\n",
       "      <th>7</th>\n",
       "      <td>surf</td>\n",
       "      <td>8</td>\n",
       "      <td>6.726164</td>\n",
       "    </tr>\n",
       "    <tr>\n",
       "      <th>8</th>\n",
       "      <td>surf</td>\n",
       "      <td>9</td>\n",
       "      <td>6.728684</td>\n",
       "    </tr>\n",
       "    <tr>\n",
       "      <th>9</th>\n",
       "      <td>surf</td>\n",
       "      <td>10</td>\n",
       "      <td>6.722302</td>\n",
       "    </tr>\n",
       "    <tr>\n",
       "      <th>10</th>\n",
       "      <td>surf</td>\n",
       "      <td>11</td>\n",
       "      <td>6.759115</td>\n",
       "    </tr>\n",
       "    <tr>\n",
       "      <th>11</th>\n",
       "      <td>surf</td>\n",
       "      <td>12</td>\n",
       "      <td>6.836607</td>\n",
       "    </tr>\n",
       "    <tr>\n",
       "      <th>12</th>\n",
       "      <td>ultimate</td>\n",
       "      <td>1</td>\n",
       "      <td>6.541518</td>\n",
       "    </tr>\n",
       "    <tr>\n",
       "      <th>13</th>\n",
       "      <td>ultimate</td>\n",
       "      <td>2</td>\n",
       "      <td>6.517230</td>\n",
       "    </tr>\n",
       "    <tr>\n",
       "      <th>14</th>\n",
       "      <td>ultimate</td>\n",
       "      <td>3</td>\n",
       "      <td>6.210906</td>\n",
       "    </tr>\n",
       "    <tr>\n",
       "      <th>15</th>\n",
       "      <td>ultimate</td>\n",
       "      <td>4</td>\n",
       "      <td>6.659990</td>\n",
       "    </tr>\n",
       "    <tr>\n",
       "      <th>16</th>\n",
       "      <td>ultimate</td>\n",
       "      <td>5</td>\n",
       "      <td>6.662443</td>\n",
       "    </tr>\n",
       "    <tr>\n",
       "      <th>17</th>\n",
       "      <td>ultimate</td>\n",
       "      <td>6</td>\n",
       "      <td>6.705188</td>\n",
       "    </tr>\n",
       "    <tr>\n",
       "      <th>18</th>\n",
       "      <td>ultimate</td>\n",
       "      <td>7</td>\n",
       "      <td>6.879085</td>\n",
       "    </tr>\n",
       "    <tr>\n",
       "      <th>19</th>\n",
       "      <td>ultimate</td>\n",
       "      <td>8</td>\n",
       "      <td>6.613484</td>\n",
       "    </tr>\n",
       "    <tr>\n",
       "      <th>20</th>\n",
       "      <td>ultimate</td>\n",
       "      <td>9</td>\n",
       "      <td>6.770040</td>\n",
       "    </tr>\n",
       "    <tr>\n",
       "      <th>21</th>\n",
       "      <td>ultimate</td>\n",
       "      <td>10</td>\n",
       "      <td>6.665850</td>\n",
       "    </tr>\n",
       "    <tr>\n",
       "      <th>22</th>\n",
       "      <td>ultimate</td>\n",
       "      <td>11</td>\n",
       "      <td>6.742506</td>\n",
       "    </tr>\n",
       "    <tr>\n",
       "      <th>23</th>\n",
       "      <td>ultimate</td>\n",
       "      <td>12</td>\n",
       "      <td>6.671929</td>\n",
       "    </tr>\n",
       "  </tbody>\n",
       "</table>\n",
       "</div>"
      ],
      "text/plain": [
       "        plan  call_month  duration\n",
       "0       surf           1  6.428000\n",
       "1       surf           2  6.906175\n",
       "2       surf           3  6.696919\n",
       "3       surf           4  6.799918\n",
       "4       surf           5  6.769200\n",
       "5       surf           6  6.846812\n",
       "6       surf           7  6.721710\n",
       "7       surf           8  6.726164\n",
       "8       surf           9  6.728684\n",
       "9       surf          10  6.722302\n",
       "10      surf          11  6.759115\n",
       "11      surf          12  6.836607\n",
       "12  ultimate           1  6.541518\n",
       "13  ultimate           2  6.517230\n",
       "14  ultimate           3  6.210906\n",
       "15  ultimate           4  6.659990\n",
       "16  ultimate           5  6.662443\n",
       "17  ultimate           6  6.705188\n",
       "18  ultimate           7  6.879085\n",
       "19  ultimate           8  6.613484\n",
       "20  ultimate           9  6.770040\n",
       "21  ultimate          10  6.665850\n",
       "22  ultimate          11  6.742506\n",
       "23  ultimate          12  6.671929"
      ]
     },
     "execution_count": 51,
     "metadata": {},
     "output_type": "execute_result"
    }
   ],
   "source": [
    "grouped_data = calls_plan.groupby(['plan', 'call_month'])['duration'].mean().reset_index()\n",
    "grouped_data"
   ]
  },
  {
   "cell_type": "code",
   "execution_count": 52,
   "metadata": {
    "colab": {
     "base_uri": "https://localhost:8080/",
     "height": 564
    },
    "id": "H-1k0QEQ4U_l",
    "outputId": "45969062-842f-4c81-b296-644cb3809446"
   },
   "outputs": [
    {
     "data": {
      "image/png": "[encoded data removed]",
      "text/plain": [
       "<Figure size 864x432 with 1 Axes>"
      ]
     },
     "metadata": {
      "needs_background": "light"
     },
     "output_type": "display_data"
    }
   ],
   "source": [
    "import matplotlib.pyplot as plt\n",
    "import seaborn as sns\n",
    "\n",
    "# Create a bar plot to compare average duration of calls per plan per month\n",
    "plt.figure(figsize=(12, 6))\n",
    "sns.barplot(x='call_month', y='duration', hue='plan', data=grouped_data)\n",
    "\n",
    "# Add labels and a title\n",
    "plt.xlabel('Month')\n",
    "plt.ylabel('Average Duration')\n",
    "plt.title('Average Duration of Calls per Plan per Month')\n",
    "\n",
    "# Show the plot\n",
    "plt.legend(title='Plan')\n",
    "plt.show()"
   ]
  },
  {
   "cell_type": "markdown",
   "metadata": {
    "id": "1CKb0Otdx-TL"
   },
   "source": [
    "- There is not a considerable difference between the Average Duration of Calls per Plan per Month of two different plans."
   ]
  },
  {
   "cell_type": "markdown",
   "metadata": {
    "id": "-HsqxS-aln8E"
   },
   "source": [
    "\n",
    "\n",
    "---\n",
    "\n"
   ]
  },
  {
   "cell_type": "markdown",
   "metadata": {
    "id": "d0xPXz7phTYI"
   },
   "source": [
    "**Compare the number of minutes users of each plan require each month. Plot a histogram.**\n"
   ]
  },
  {
   "cell_type": "code",
   "execution_count": 53,
   "metadata": {
    "colab": {
     "base_uri": "https://localhost:8080/",
     "height": 424
    },
    "id": "ldKSKNXyBClH",
    "outputId": "73c50b4c-93c7-4eaa-a62a-281fbfefe5ec"
   },
   "outputs": [
    {
     "data": {
      "text/html": [
       "<div>\n",
       "<style scoped>\n",
       "    .dataframe tbody tr th:only-of-type {\n",
       "        vertical-align: middle;\n",
       "    }\n",
       "\n",
       "    .dataframe tbody tr th {\n",
       "        vertical-align: top;\n",
       "    }\n",
       "\n",
       "    .dataframe thead th {\n",
       "        text-align: right;\n",
       "    }\n",
       "</style>\n",
       "<table border=\"1\" class=\"dataframe\">\n",
       "  <thead>\n",
       "    <tr style=\"text-align: right;\">\n",
       "      <th></th>\n",
       "      <th>duration</th>\n",
       "      <th>plan</th>\n",
       "      <th>call_month</th>\n",
       "      <th>minutes_included</th>\n",
       "    </tr>\n",
       "  </thead>\n",
       "  <tbody>\n",
       "    <tr>\n",
       "      <th>0</th>\n",
       "      <td>8.52</td>\n",
       "      <td>ultimate</td>\n",
       "      <td>12</td>\n",
       "      <td>3000</td>\n",
       "    </tr>\n",
       "    <tr>\n",
       "      <th>1</th>\n",
       "      <td>13.66</td>\n",
       "      <td>ultimate</td>\n",
       "      <td>12</td>\n",
       "      <td>3000</td>\n",
       "    </tr>\n",
       "    <tr>\n",
       "      <th>2</th>\n",
       "      <td>14.48</td>\n",
       "      <td>ultimate</td>\n",
       "      <td>12</td>\n",
       "      <td>3000</td>\n",
       "    </tr>\n",
       "    <tr>\n",
       "      <th>3</th>\n",
       "      <td>5.76</td>\n",
       "      <td>ultimate</td>\n",
       "      <td>12</td>\n",
       "      <td>3000</td>\n",
       "    </tr>\n",
       "    <tr>\n",
       "      <th>4</th>\n",
       "      <td>4.22</td>\n",
       "      <td>ultimate</td>\n",
       "      <td>12</td>\n",
       "      <td>3000</td>\n",
       "    </tr>\n",
       "    <tr>\n",
       "      <th>...</th>\n",
       "      <td>...</td>\n",
       "      <td>...</td>\n",
       "      <td>...</td>\n",
       "      <td>...</td>\n",
       "    </tr>\n",
       "    <tr>\n",
       "      <th>137730</th>\n",
       "      <td>8.72</td>\n",
       "      <td>surf</td>\n",
       "      <td>11</td>\n",
       "      <td>500</td>\n",
       "    </tr>\n",
       "    <tr>\n",
       "      <th>137731</th>\n",
       "      <td>10.89</td>\n",
       "      <td>surf</td>\n",
       "      <td>10</td>\n",
       "      <td>500</td>\n",
       "    </tr>\n",
       "    <tr>\n",
       "      <th>137732</th>\n",
       "      <td>8.12</td>\n",
       "      <td>surf</td>\n",
       "      <td>9</td>\n",
       "      <td>500</td>\n",
       "    </tr>\n",
       "    <tr>\n",
       "      <th>137733</th>\n",
       "      <td>0.37</td>\n",
       "      <td>surf</td>\n",
       "      <td>10</td>\n",
       "      <td>500</td>\n",
       "    </tr>\n",
       "    <tr>\n",
       "      <th>137734</th>\n",
       "      <td>13.86</td>\n",
       "      <td>surf</td>\n",
       "      <td>12</td>\n",
       "      <td>500</td>\n",
       "    </tr>\n",
       "  </tbody>\n",
       "</table>\n",
       "<p>137735 rows × 4 columns</p>\n",
       "</div>"
      ],
      "text/plain": [
       "        duration      plan  call_month  minutes_included\n",
       "0           8.52  ultimate          12              3000\n",
       "1          13.66  ultimate          12              3000\n",
       "2          14.48  ultimate          12              3000\n",
       "3           5.76  ultimate          12              3000\n",
       "4           4.22  ultimate          12              3000\n",
       "...          ...       ...         ...               ...\n",
       "137730      8.72      surf          11               500\n",
       "137731     10.89      surf          10               500\n",
       "137732      8.12      surf           9               500\n",
       "137733      0.37      surf          10               500\n",
       "137734     13.86      surf          12               500\n",
       "\n",
       "[137735 rows x 4 columns]"
      ]
     },
     "execution_count": 53,
     "metadata": {},
     "output_type": "execute_result"
    }
   ],
   "source": [
    "plans_ = plans[['minutes_included', 'plan_name']]\n",
    "calls_plan = calls_plan.merge(plans_, left_on='plan', right_on='plan_name', how='left')\n",
    "calls_plan = calls_plan[['duration','plan','call_month','minutes_included']]\n",
    "calls_plan"
   ]
  },
  {
   "cell_type": "code",
   "execution_count": 54,
   "metadata": {
    "colab": {
     "base_uri": "https://localhost:8080/",
     "height": 564
    },
    "id": "xIb4ZoXUuivx",
    "outputId": "e9581e55-a6f7-4263-b8c1-c86d41db2044"
   },
   "outputs": [
    {
     "data": {
      "image/png": "[encoded data removed]",
      "text/plain": [
       "<Figure size 720x432 with 1 Axes>"
      ]
     },
     "metadata": {
      "needs_background": "light"
     },
     "output_type": "display_data"
    }
   ],
   "source": [
    "\n",
    "# Group the data by 'plan' and 'call_month' and calculate the total minutes used per group\n",
    "minutes_per_month = calls_plan.groupby(['plan', 'call_month'])['duration'].sum().reset_index()\n",
    "\n",
    "# Create separate DataFrames for each plan\n",
    "ultimate = minutes_per_month[minutes_per_month['plan'] == 'ultimate']\n",
    "surf = minutes_per_month[minutes_per_month['plan'] == 'surf']\n",
    "\n",
    "# Plot bar graphs to compare total minutes used per month for each plan\n",
    "plt.figure(figsize=(10, 6))\n",
    "plt.bar(ultimate['call_month'], ultimate['duration'], label='Ultimate', color='blue', alpha=0.7)\n",
    "plt.bar(surf['call_month'], surf['duration'], label='Surf', color='orange', alpha=0.7)\n",
    "\n",
    "# Add labels and a legend\n",
    "plt.xlabel('Month')\n",
    "plt.ylabel('Total Minutes Used')\n",
    "plt.title('Monthly Minutes Usage by Plan')\n",
    "plt.xticks(range(1, 13))  # Assuming months are from 1 to 12\n",
    "plt.legend()\n",
    "\n",
    "# Show the plot\n",
    "plt.show()"
   ]
  },
  {
   "cell_type": "markdown",
   "metadata": {
    "id": "_maQ4sB3wT2e"
   },
   "source": [
    "- We can see that for every month the total minutes used in surf plan is higher as compared to ultimate plan."
   ]
  },
  {
   "cell_type": "markdown",
   "metadata": {
    "id": "WpEReFDchcKu"
   },
   "source": [
    "**Calculate the mean and the variance of the monthly call duration**\n"
   ]
  },
  {
   "cell_type": "code",
   "execution_count": 55,
   "metadata": {
    "colab": {
     "base_uri": "https://localhost:8080/",
     "height": 540
    },
    "id": "h--93Ulg-G_0",
    "outputId": "ecd67b0a-27a1-46b3-d127-685cfe269e29"
   },
   "outputs": [
    {
     "data": {
      "text/plain": [
       "'Monthly Mean Duration:'"
      ]
     },
     "metadata": {},
     "output_type": "display_data"
    },
    {
     "data": {
      "text/plain": [
       "call_month\n",
       "1     6.484759\n",
       "2     6.711703\n",
       "3     6.453913\n",
       "4     6.729954\n",
       "5     6.715822\n",
       "6     6.776000\n",
       "7     6.800397\n",
       "8     6.669824\n",
       "9     6.749362\n",
       "10    6.694076\n",
       "11    6.750811\n",
       "12    6.754268\n",
       "Name: duration, dtype: float64"
      ]
     },
     "metadata": {},
     "output_type": "display_data"
    },
    {
     "data": {
      "text/plain": [
       "'\\nMonthly Variance of Duration:'"
      ]
     },
     "metadata": {},
     "output_type": "display_data"
    },
    {
     "data": {
      "text/plain": [
       "call_month\n",
       "1     0.006443\n",
       "2     0.075639\n",
       "3     0.118105\n",
       "4     0.009790\n",
       "5     0.005699\n",
       "6     0.010029\n",
       "7     0.012383\n",
       "8     0.006348\n",
       "9     0.000855\n",
       "10    0.001593\n",
       "11    0.000138\n",
       "12    0.013560\n",
       "Name: duration, dtype: float64"
      ]
     },
     "metadata": {},
     "output_type": "display_data"
    }
   ],
   "source": [
    "# Calculate the mean and variance of the monthly call duration\n",
    "monthly_mean = grouped_data.groupby('call_month')['duration'].mean()\n",
    "monthly_variance = grouped_data.groupby('call_month')['duration'].var()\n",
    "\n",
    "# Display the results\n",
    "display(\"Monthly Mean Duration:\")\n",
    "display(monthly_mean)\n",
    "\n",
    "display(\"\\nMonthly Variance of Duration:\")\n",
    "display(monthly_variance)"
   ]
  },
  {
   "cell_type": "code",
   "execution_count": 56,
   "metadata": {
    "colab": {
     "base_uri": "https://localhost:8080/",
     "height": 426
    },
    "id": "TIEVTka4-lBM",
    "outputId": "63e515a9-f6a8-4170-fa78-fc6ac45e4aa2"
   },
   "outputs": [
    {
     "data": {
      "text/html": [
       "<div>\n",
       "<style scoped>\n",
       "    .dataframe tbody tr th:only-of-type {\n",
       "        vertical-align: middle;\n",
       "    }\n",
       "\n",
       "    .dataframe tbody tr th {\n",
       "        vertical-align: top;\n",
       "    }\n",
       "\n",
       "    .dataframe thead th {\n",
       "        text-align: right;\n",
       "    }\n",
       "</style>\n",
       "<table border=\"1\" class=\"dataframe\">\n",
       "  <thead>\n",
       "    <tr style=\"text-align: right;\">\n",
       "      <th></th>\n",
       "      <th>call_month</th>\n",
       "      <th>Monthly Mean Duration</th>\n",
       "      <th>Monthly Variance of Duration</th>\n",
       "    </tr>\n",
       "  </thead>\n",
       "  <tbody>\n",
       "    <tr>\n",
       "      <th>0</th>\n",
       "      <td>1</td>\n",
       "      <td>6.484759</td>\n",
       "      <td>0.006443</td>\n",
       "    </tr>\n",
       "    <tr>\n",
       "      <th>1</th>\n",
       "      <td>2</td>\n",
       "      <td>6.711703</td>\n",
       "      <td>0.075639</td>\n",
       "    </tr>\n",
       "    <tr>\n",
       "      <th>2</th>\n",
       "      <td>3</td>\n",
       "      <td>6.453913</td>\n",
       "      <td>0.118105</td>\n",
       "    </tr>\n",
       "    <tr>\n",
       "      <th>3</th>\n",
       "      <td>4</td>\n",
       "      <td>6.729954</td>\n",
       "      <td>0.009790</td>\n",
       "    </tr>\n",
       "    <tr>\n",
       "      <th>4</th>\n",
       "      <td>5</td>\n",
       "      <td>6.715822</td>\n",
       "      <td>0.005699</td>\n",
       "    </tr>\n",
       "    <tr>\n",
       "      <th>5</th>\n",
       "      <td>6</td>\n",
       "      <td>6.776000</td>\n",
       "      <td>0.010029</td>\n",
       "    </tr>\n",
       "    <tr>\n",
       "      <th>6</th>\n",
       "      <td>7</td>\n",
       "      <td>6.800397</td>\n",
       "      <td>0.012383</td>\n",
       "    </tr>\n",
       "    <tr>\n",
       "      <th>7</th>\n",
       "      <td>8</td>\n",
       "      <td>6.669824</td>\n",
       "      <td>0.006348</td>\n",
       "    </tr>\n",
       "    <tr>\n",
       "      <th>8</th>\n",
       "      <td>9</td>\n",
       "      <td>6.749362</td>\n",
       "      <td>0.000855</td>\n",
       "    </tr>\n",
       "    <tr>\n",
       "      <th>9</th>\n",
       "      <td>10</td>\n",
       "      <td>6.694076</td>\n",
       "      <td>0.001593</td>\n",
       "    </tr>\n",
       "    <tr>\n",
       "      <th>10</th>\n",
       "      <td>11</td>\n",
       "      <td>6.750811</td>\n",
       "      <td>0.000138</td>\n",
       "    </tr>\n",
       "    <tr>\n",
       "      <th>11</th>\n",
       "      <td>12</td>\n",
       "      <td>6.754268</td>\n",
       "      <td>0.013560</td>\n",
       "    </tr>\n",
       "  </tbody>\n",
       "</table>\n",
       "</div>"
      ],
      "text/plain": [
       "    call_month  Monthly Mean Duration  Monthly Variance of Duration\n",
       "0            1               6.484759                      0.006443\n",
       "1            2               6.711703                      0.075639\n",
       "2            3               6.453913                      0.118105\n",
       "3            4               6.729954                      0.009790\n",
       "4            5               6.715822                      0.005699\n",
       "5            6               6.776000                      0.010029\n",
       "6            7               6.800397                      0.012383\n",
       "7            8               6.669824                      0.006348\n",
       "8            9               6.749362                      0.000855\n",
       "9           10               6.694076                      0.001593\n",
       "10          11               6.750811                      0.000138\n",
       "11          12               6.754268                      0.013560"
      ]
     },
     "execution_count": 56,
     "metadata": {},
     "output_type": "execute_result"
    }
   ],
   "source": [
    "# Create a DataFrame from the mean and variance data\n",
    "mean_and_variance_df = pd.DataFrame({'Monthly Mean Duration': monthly_mean, 'Monthly Variance of Duration': monthly_variance})\n",
    "\n",
    "# Reset the index to make 'call_month' a regular column\n",
    "mean_and_variance_df.reset_index(inplace=True)\n",
    "mean_and_variance_df"
   ]
  },
  {
   "cell_type": "markdown",
   "metadata": {
    "id": "k71wEbfGy3Gd"
   },
   "source": [
    "- By closely seeing the values of monthly mean duration  and monthly variance of duration of calls we can see that there is not a noteable difference in terms of month."
   ]
  },
  {
   "cell_type": "markdown",
   "metadata": {
    "id": "MzomUIREhxia"
   },
   "source": [
    "**Plot a boxplot to visualize the distribution of the monthly call duration**\n"
   ]
  },
  {
   "cell_type": "code",
   "execution_count": 57,
   "metadata": {
    "colab": {
     "base_uri": "https://localhost:8080/",
     "height": 564
    },
    "id": "2xtjeEfUMkl0",
    "outputId": "4eb308f1-da69-44fa-d0d4-92ef3510c0be"
   },
   "outputs": [
    {
     "data": {
      "image/png": "[encoded data removed]",
      "text/plain": [
       "<Figure size 720x432 with 1 Axes>"
      ]
     },
     "metadata": {
      "needs_background": "light"
     },
     "output_type": "display_data"
    }
   ],
   "source": [
    "# Create a boxplot to visualize the distribution of monthly call duration\n",
    "plt.figure(figsize=(10, 6))\n",
    "sns.boxplot(x='call_month', y='duration', data=grouped_data, palette='Set2')\n",
    "\n",
    "# Add labels and a title\n",
    "plt.xlabel('Month')\n",
    "plt.ylabel('Call Duration')\n",
    "plt.title('Distribution of Monthly Call Duration')\n",
    "\n",
    "# Show the plot\n",
    "plt.show()"
   ]
  },
  {
   "cell_type": "markdown",
   "metadata": {
    "id": "T8tKqqafzk3v"
   },
   "source": [
    "- The durations of call is less for 1st and 3rd month as compared to the rest of the months."
   ]
  },
  {
   "cell_type": "markdown",
   "metadata": {
    "id": "K0zv8_T1neWJ"
   },
   "source": [
    "\n",
    "\n",
    "---\n",
    "\n",
    "\n",
    "\n",
    "---\n",
    "\n",
    "\n",
    "\n",
    "---\n",
    "\n"
   ]
  },
  {
   "cell_type": "markdown",
   "metadata": {
    "id": "Ps_QLetUh5ml"
   },
   "source": [
    "#Messages"
   ]
  },
  {
   "cell_type": "markdown",
   "metadata": {
    "id": "ocvnZeHgh_xW"
   },
   "source": [
    "**Compare the number of messages users of each plan tend to send each month**\n"
   ]
  },
  {
   "cell_type": "code",
   "execution_count": 58,
   "metadata": {
    "colab": {
     "base_uri": "https://localhost:8080/",
     "height": 206
    },
    "id": "R1TB-OhNQzxA",
    "outputId": "2d79b347-b152-444b-fdb3-6dc6776322a0"
   },
   "outputs": [
    {
     "data": {
      "text/html": [
       "<div>\n",
       "<style scoped>\n",
       "    .dataframe tbody tr th:only-of-type {\n",
       "        vertical-align: middle;\n",
       "    }\n",
       "\n",
       "    .dataframe tbody tr th {\n",
       "        vertical-align: top;\n",
       "    }\n",
       "\n",
       "    .dataframe thead th {\n",
       "        text-align: right;\n",
       "    }\n",
       "</style>\n",
       "<table border=\"1\" class=\"dataframe\">\n",
       "  <thead>\n",
       "    <tr style=\"text-align: right;\">\n",
       "      <th></th>\n",
       "      <th>user_id</th>\n",
       "      <th>month</th>\n",
       "      <th>messages_count</th>\n",
       "    </tr>\n",
       "  </thead>\n",
       "  <tbody>\n",
       "    <tr>\n",
       "      <th>0</th>\n",
       "      <td>1000</td>\n",
       "      <td>12</td>\n",
       "      <td>11</td>\n",
       "    </tr>\n",
       "    <tr>\n",
       "      <th>1</th>\n",
       "      <td>1001</td>\n",
       "      <td>8</td>\n",
       "      <td>30</td>\n",
       "    </tr>\n",
       "    <tr>\n",
       "      <th>2</th>\n",
       "      <td>1001</td>\n",
       "      <td>9</td>\n",
       "      <td>44</td>\n",
       "    </tr>\n",
       "    <tr>\n",
       "      <th>3</th>\n",
       "      <td>1001</td>\n",
       "      <td>10</td>\n",
       "      <td>53</td>\n",
       "    </tr>\n",
       "    <tr>\n",
       "      <th>4</th>\n",
       "      <td>1001</td>\n",
       "      <td>11</td>\n",
       "      <td>36</td>\n",
       "    </tr>\n",
       "  </tbody>\n",
       "</table>\n",
       "</div>"
      ],
      "text/plain": [
       "   user_id  month  messages_count\n",
       "0     1000     12              11\n",
       "1     1001      8              30\n",
       "2     1001      9              44\n",
       "3     1001     10              53\n",
       "4     1001     11              36"
      ]
     },
     "execution_count": 58,
     "metadata": {},
     "output_type": "execute_result"
    }
   ],
   "source": [
    "messages.head()"
   ]
  },
  {
   "cell_type": "code",
   "execution_count": 59,
   "metadata": {
    "colab": {
     "base_uri": "https://localhost:8080/",
     "height": 206
    },
    "id": "JFu0tHhnP15u",
    "outputId": "145481c0-0b54-4d03-c41b-7caabdcc07a0"
   },
   "outputs": [
    {
     "data": {
      "text/html": [
       "<div>\n",
       "<style scoped>\n",
       "    .dataframe tbody tr th:only-of-type {\n",
       "        vertical-align: middle;\n",
       "    }\n",
       "\n",
       "    .dataframe tbody tr th {\n",
       "        vertical-align: top;\n",
       "    }\n",
       "\n",
       "    .dataframe thead th {\n",
       "        text-align: right;\n",
       "    }\n",
       "</style>\n",
       "<table border=\"1\" class=\"dataframe\">\n",
       "  <thead>\n",
       "    <tr style=\"text-align: right;\">\n",
       "      <th></th>\n",
       "      <th>id</th>\n",
       "      <th>user_id</th>\n",
       "      <th>message_date</th>\n",
       "      <th>plan</th>\n",
       "      <th>message_month</th>\n",
       "    </tr>\n",
       "  </thead>\n",
       "  <tbody>\n",
       "    <tr>\n",
       "      <th>0</th>\n",
       "      <td>1000_125</td>\n",
       "      <td>1000</td>\n",
       "      <td>2018-12-27</td>\n",
       "      <td>ultimate</td>\n",
       "      <td>12</td>\n",
       "    </tr>\n",
       "    <tr>\n",
       "      <th>1</th>\n",
       "      <td>1000_160</td>\n",
       "      <td>1000</td>\n",
       "      <td>2018-12-31</td>\n",
       "      <td>ultimate</td>\n",
       "      <td>12</td>\n",
       "    </tr>\n",
       "    <tr>\n",
       "      <th>2</th>\n",
       "      <td>1000_223</td>\n",
       "      <td>1000</td>\n",
       "      <td>2018-12-31</td>\n",
       "      <td>ultimate</td>\n",
       "      <td>12</td>\n",
       "    </tr>\n",
       "    <tr>\n",
       "      <th>3</th>\n",
       "      <td>1000_251</td>\n",
       "      <td>1000</td>\n",
       "      <td>2018-12-27</td>\n",
       "      <td>ultimate</td>\n",
       "      <td>12</td>\n",
       "    </tr>\n",
       "    <tr>\n",
       "      <th>4</th>\n",
       "      <td>1000_255</td>\n",
       "      <td>1000</td>\n",
       "      <td>2018-12-26</td>\n",
       "      <td>ultimate</td>\n",
       "      <td>12</td>\n",
       "    </tr>\n",
       "  </tbody>\n",
       "</table>\n",
       "</div>"
      ],
      "text/plain": [
       "         id  user_id message_date      plan  message_month\n",
       "0  1000_125     1000   2018-12-27  ultimate             12\n",
       "1  1000_160     1000   2018-12-31  ultimate             12\n",
       "2  1000_223     1000   2018-12-31  ultimate             12\n",
       "3  1000_251     1000   2018-12-27  ultimate             12\n",
       "4  1000_255     1000   2018-12-26  ultimate             12"
      ]
     },
     "execution_count": 59,
     "metadata": {},
     "output_type": "execute_result"
    }
   ],
   "source": [
    "messages=pd.read_csv('/datasets/megaline_messages.csv')\n",
    "messages_plan = messages.merge(users_plan, on=\"user_id\", how=\"left\")\n",
    "messages_plan['message_date'] = pd.to_datetime(messages_plan['message_date'])\n",
    "messages_plan['message_month'] = messages_plan['message_date'].dt.month\n",
    "messages_plan.head()"
   ]
  },
  {
   "cell_type": "code",
   "execution_count": 60,
   "metadata": {
    "colab": {
     "base_uri": "https://localhost:8080/",
     "height": 564
    },
    "id": "I9wCwn3rQ_2Z",
    "outputId": "139bed7f-6a4f-43d0-aefa-d5d292201040"
   },
   "outputs": [
    {
     "data": {
      "image/png": "[encoded data removed]",
      "text/plain": [
       "<Figure size 864x432 with 1 Axes>"
      ]
     },
     "metadata": {
      "needs_background": "light"
     },
     "output_type": "display_data"
    }
   ],
   "source": [
    "# Group the data by plan and message month, and calculate the total number of messages\n",
    "total_messages_per_month = messages_plan.groupby(['plan', 'message_month'])['id'].count().reset_index()\n",
    "total_messages_per_month.rename(columns={'id': 'total_messages'}, inplace=True)\n",
    "\n",
    "# Create a bar plot to compare the total number of messages per plan per month\n",
    "plt.figure(figsize=(12, 6))\n",
    "sns.barplot(x='message_month', y='total_messages', hue='plan', data=total_messages_per_month)\n",
    "\n",
    "# Add labels and a title\n",
    "plt.xlabel('Month')\n",
    "plt.ylabel('Total Number of Messages')\n",
    "plt.title('Comparison of Total Number of Messages by Plan and Month')\n",
    "\n",
    "# Add a legend\n",
    "plt.legend(title='Plan')\n",
    "\n",
    "# Show the plot\n",
    "plt.show()"
   ]
  },
  {
   "cell_type": "markdown",
   "metadata": {
    "id": "7YA7qfhQz5gY"
   },
   "source": [
    "- There is a clear pattern that the number of messages users of each plan tend to send each month is increasing from january to december respectively\n",
    "- Another important difference here is that the number of messages user sent is higher for surf plans as compared to ultimate plans for almost every month."
   ]
  },
  {
   "cell_type": "markdown",
   "metadata": {
    "id": "-SBR4OO7niWX"
   },
   "source": [
    "\n",
    "\n",
    "---\n",
    "\n",
    "\n",
    "\n",
    "---\n",
    "\n",
    "\n",
    "\n",
    "---\n",
    "\n"
   ]
  },
  {
   "cell_type": "markdown",
   "metadata": {
    "id": "jRKopereqGB6"
   },
   "source": [
    "# Internet"
   ]
  },
  {
   "cell_type": "markdown",
   "metadata": {
    "id": "GL_3vFPcp_zZ"
   },
   "source": [
    "**Compare the amount of internet traffic consumed by users per plan**"
   ]
  },
  {
   "cell_type": "code",
   "execution_count": 61,
   "metadata": {
    "colab": {
     "base_uri": "https://localhost:8080/"
    },
    "id": "vydR_CpUhp2R",
    "outputId": "6fd8cee6-e1f7-4034-f255-f2a2a01902b8"
   },
   "outputs": [
    {
     "name": "stdout",
     "output_type": "stream",
     "text": [
      "       plan       gb_used\n",
      "0      surf  25435.722588\n",
      "1  ultimate  12104.085723\n"
     ]
    }
   ],
   "source": [
    "# Merge the two DataFrames on 'user_id'\n",
    "internet_plan = internet.merge(users_plan, on='user_id', how='left')\n",
    "\n",
    "# Convert 'mb_used' to gigabytes (GB)\n",
    "internet_plan['gb_used'] = internet_plan['mb_used'] / 1024  # 1 GB = 1024 MB\n",
    "\n",
    "# Group by 'plan' and calculate the total GB used for each plan\n",
    "plan_gb_usage = internet_plan.groupby('plan')['gb_used'].sum().reset_index()\n",
    "\n",
    "# Display the results\n",
    "print(plan_gb_usage)"
   ]
  },
  {
   "cell_type": "code",
   "execution_count": 62,
   "metadata": {
    "colab": {
     "base_uri": "https://localhost:8080/",
     "height": 206
    },
    "id": "wa8HzxZvjiap",
    "outputId": "0957b049-36d9-4fe8-9e17-0fefb1fdae72"
   },
   "outputs": [
    {
     "data": {
      "text/html": [
       "<div>\n",
       "<style scoped>\n",
       "    .dataframe tbody tr th:only-of-type {\n",
       "        vertical-align: middle;\n",
       "    }\n",
       "\n",
       "    .dataframe tbody tr th {\n",
       "        vertical-align: top;\n",
       "    }\n",
       "\n",
       "    .dataframe thead th {\n",
       "        text-align: right;\n",
       "    }\n",
       "</style>\n",
       "<table border=\"1\" class=\"dataframe\">\n",
       "  <thead>\n",
       "    <tr style=\"text-align: right;\">\n",
       "      <th></th>\n",
       "      <th>user_id</th>\n",
       "      <th>month</th>\n",
       "      <th>mb_used</th>\n",
       "      <th>gb_used</th>\n",
       "      <th>plan</th>\n",
       "    </tr>\n",
       "  </thead>\n",
       "  <tbody>\n",
       "    <tr>\n",
       "      <th>0</th>\n",
       "      <td>1000</td>\n",
       "      <td>12</td>\n",
       "      <td>1901.47</td>\n",
       "      <td>1.856904</td>\n",
       "      <td>ultimate</td>\n",
       "    </tr>\n",
       "    <tr>\n",
       "      <th>1</th>\n",
       "      <td>1001</td>\n",
       "      <td>8</td>\n",
       "      <td>6919.15</td>\n",
       "      <td>6.756982</td>\n",
       "      <td>surf</td>\n",
       "    </tr>\n",
       "    <tr>\n",
       "      <th>2</th>\n",
       "      <td>1001</td>\n",
       "      <td>9</td>\n",
       "      <td>13314.82</td>\n",
       "      <td>13.002754</td>\n",
       "      <td>surf</td>\n",
       "    </tr>\n",
       "    <tr>\n",
       "      <th>3</th>\n",
       "      <td>1001</td>\n",
       "      <td>10</td>\n",
       "      <td>22330.49</td>\n",
       "      <td>21.807119</td>\n",
       "      <td>surf</td>\n",
       "    </tr>\n",
       "    <tr>\n",
       "      <th>4</th>\n",
       "      <td>1001</td>\n",
       "      <td>11</td>\n",
       "      <td>18504.30</td>\n",
       "      <td>18.070605</td>\n",
       "      <td>surf</td>\n",
       "    </tr>\n",
       "  </tbody>\n",
       "</table>\n",
       "</div>"
      ],
      "text/plain": [
       "   user_id  month   mb_used    gb_used      plan\n",
       "0     1000     12   1901.47   1.856904  ultimate\n",
       "1     1001      8   6919.15   6.756982      surf\n",
       "2     1001      9  13314.82  13.002754      surf\n",
       "3     1001     10  22330.49  21.807119      surf\n",
       "4     1001     11  18504.30  18.070605      surf"
      ]
     },
     "execution_count": 62,
     "metadata": {},
     "output_type": "execute_result"
    }
   ],
   "source": [
    "internet_plan.head()"
   ]
  },
  {
   "cell_type": "code",
   "execution_count": 63,
   "metadata": {
    "colab": {
     "base_uri": "https://localhost:8080/",
     "height": 564
    },
    "id": "R_qFsL9FUgVa",
    "outputId": "c9e30932-9d65-4e5e-82a6-63f21eb37c9a"
   },
   "outputs": [
    {
     "data": {
      "image/png": "[encoded data removed]",
      "text/plain": [
       "<Figure size 576x432 with 1 Axes>"
      ]
     },
     "metadata": {
      "needs_background": "light"
     },
     "output_type": "display_data"
    }
   ],
   "source": [
    "# Create a bar chart\n",
    "plt.figure(figsize=(8, 6))\n",
    "plt.bar(plan_gb_usage['plan'], plan_gb_usage['gb_used'])\n",
    "plt.xlabel('Plan')\n",
    "plt.ylabel('Total Internet Traffic (GB)')\n",
    "plt.title('Total Internet Traffic Consumed by Users per Plan')\n",
    "plt.show()"
   ]
  },
  {
   "cell_type": "markdown",
   "metadata": {
    "id": "RESTm2fC1j_1"
   },
   "source": [
    "- In the above bat chart the data usage of two plans are compared **in terms of GB**\n",
    "- There is a clear difference in traffic consumption of data among different plans available. THe surf consumption is vary large as compared to ultimate plan."
   ]
  },
  {
   "cell_type": "code",
   "execution_count": 64,
   "metadata": {
    "colab": {
     "base_uri": "https://localhost:8080/",
     "height": 607
    },
    "id": "-76JYLyijGkL",
    "outputId": "3c41fd24-92ea-439d-d8b2-92be36737315"
   },
   "outputs": [
    {
     "data": {
      "image/png": "[encoded data removed]",
      "text/plain": [
       "<Figure size 864x432 with 2 Axes>"
      ]
     },
     "metadata": {
      "needs_background": "light"
     },
     "output_type": "display_data"
    }
   ],
   "source": [
    "# Create separate DataFrames for 'ultimate' and 'surf' plans\n",
    "ultimate_data = internet_plan[internet_plan['plan'] == 'ultimate']\n",
    "surf_data = internet_plan[internet_plan['plan'] == 'surf']\n",
    "\n",
    "# Create histograms to visualize the data distribution for both plans\n",
    "plt.figure(figsize=(12, 6))\n",
    "\n",
    "plt.subplot(1, 2, 1)\n",
    "plt.hist(ultimate_data['gb_used'], bins=20, color='blue', alpha=0.7)\n",
    "plt.title('Distribution of Data Usage for Ultimate Plan')\n",
    "plt.xlabel('GB Used')\n",
    "plt.ylabel('Frequency')\n",
    "\n",
    "plt.subplot(1, 2, 2)\n",
    "plt.hist(surf_data['gb_used'], bins=20, color='green', alpha=0.7)\n",
    "plt.title('Distribution of Data Usage for Surf Plan')\n",
    "plt.xlabel('GB Used')\n",
    "plt.ylabel('Frequency')\n",
    "\n",
    "plt.tight_layout()\n",
    "plt.show()"
   ]
  },
  {
   "cell_type": "markdown",
   "metadata": {},
   "source": [
    "<div class=\"alert alert-block alert-success\">✔️\n",
    "    \n",
    "\n",
    "__Reviewer's comment №1__\n",
    "\n",
    "Great visualization. Well done!)"
   ]
  },
  {
   "cell_type": "markdown",
   "metadata": {
    "id": "SgdVdvq9mVp3"
   },
   "source": [
    "- This distribution is based on id( one id represent one unique web session for a particular user)\n",
    "- Clearly it can be seen that in both plans the low amount of data usage sessions are more frequent as compared to high amount data usage sessions."
   ]
  },
  {
   "cell_type": "markdown",
   "metadata": {
    "id": "VmD26VN5nl2s"
   },
   "source": [
    "\n",
    "\n",
    "---\n",
    "\n",
    "\n",
    "\n",
    "---\n",
    "\n",
    "\n",
    "\n",
    "---\n",
    "\n",
    "\n",
    "\n",
    "---\n",
    "\n"
   ]
  },
  {
   "cell_type": "markdown",
   "metadata": {
    "id": "t03lbgJ7qKjO"
   },
   "source": [
    "# Revenue"
   ]
  },
  {
   "cell_type": "markdown",
   "metadata": {
    "id": "tfxsTMijXSof"
   },
   "source": [
    "**statistically describe the revenue between the plans**"
   ]
  },
  {
   "cell_type": "code",
   "execution_count": null,
   "metadata": {
    "colab": {
     "base_uri": "https://localhost:8080/",
     "height": 564
    },
    "id": "hlEM3g9vVAqM",
    "outputId": "7ace7ed1-34a1-491b-960a-58b45a503624"
   },
   "outputs": [],
   "source": [
    "plan_revenue_summary = merged_data.groupby('plan')['monthly_revenue'].describe()\n",
    "\n",
    "plt.figure(figsize=(10, 6))\n",
    "sns.boxplot(x='plan', y='monthly_revenue', data=merged_data)\n",
    "plt.title('Monthly Revenue Distribution by Plan')\n",
    "plt.xlabel('Plan')\n",
    "plt.ylabel('Monthly Revenue')\n",
    "plt.show()"
   ]
  },
  {
   "cell_type": "markdown",
   "metadata": {
    "id": "qRqlZ8mD2JlU"
   },
   "source": [
    "- Monthly revenue for surf plans are high as compared to ultimate palns (in general)"
   ]
  },
  {
   "cell_type": "code",
   "execution_count": null,
   "metadata": {
    "colab": {
     "base_uri": "https://localhost:8080/",
     "height": 564
    },
    "id": "8tuqnI_xYQMe",
    "outputId": "6f161a9d-80c1-45c0-f312-8dbb5218d12c"
   },
   "outputs": [],
   "source": [
    "# Group your DataFrame by the \"plan\" column and calculate the mean revenue for each plan\n",
    "plan_revenue_mean = merged_data.groupby('plan')['monthly_revenue'].mean().reset_index()\n",
    "\n",
    "# Create a bar plot\n",
    "plt.figure(figsize=(8, 6))\n",
    "sns.barplot(x='plan', y='monthly_revenue', data=plan_revenue_mean)\n",
    "plt.title('Average Monthly Revenue by Plan')\n",
    "plt.xlabel('Plan')\n",
    "plt.ylabel('Average Monthly Revenue')\n",
    "plt.show()"
   ]
  },
  {
   "cell_type": "markdown",
   "metadata": {
    "id": "FR9T3WQd2lK7"
   },
   "source": [
    "- It is very important to see that in terms of Average Monthly Revenue the ultimate plans revenue generation is more than surf plans."
   ]
  },
  {
   "cell_type": "code",
   "execution_count": null,
   "metadata": {
    "colab": {
     "base_uri": "https://localhost:8080/",
     "height": 143
    },
    "id": "xSSFyN7jXjr_",
    "outputId": "ad66f3d6-a98c-4c7f-d22c-b1b40e82cb28"
   },
   "outputs": [],
   "source": [
    "plan_revenue_summary"
   ]
  },
  {
   "cell_type": "markdown",
   "metadata": {
    "id": "qleWKtLZ3k_g"
   },
   "source": [
    "- The std of surf is greater as compared to ultimate palns and it is revaledated from the fact that more outliers(higher revenue values) are present in surf plans as compared to ultimate plans."
   ]
  },
  {
   "cell_type": "markdown",
   "metadata": {
    "id": "bQRIq0o0nplw"
   },
   "source": [
    "\n",
    "\n",
    "---\n",
    "\n",
    "\n",
    "\n",
    "---\n",
    "\n",
    "\n",
    "\n",
    "---\n",
    "\n"
   ]
  },
  {
   "cell_type": "markdown",
   "metadata": {
    "id": "3_PYmBqaqRER"
   },
   "source": [
    "# Test statistical hypotheses"
   ]
  },
  {
   "cell_type": "markdown",
   "metadata": {
    "id": "KygvwVruTH12"
   },
   "source": [
    "**1. Test the hypothesis that the average revenue from users of the Ultimate and Surf calling plans differs.**"
   ]
  },
  {
   "cell_type": "markdown",
   "metadata": {
    "id": "Qq91xdi_a22D"
   },
   "source": [
    "**Null Hypothesis (H0):**\n",
    "\n",
    "The average revenue from users of the Ultimate and Surf calling plans is equal.\n",
    "\n",
    "**Alternative Hypothesis (H1):**\n",
    "\n",
    "The average revenue from users of the Ultimate and Surf calling plans is not equal.\n",
    "\n",
    "**Statistic model**\n",
    "\n",
    "To test this hypothesis, we can use a two-sample t-test because we are comparing the means of two independent groups (Ultimate and Surf plans) to determine if they are statistically different from each other.\n",
    "\n",
    "**Significance Level (Alpha)**:\n",
    "\n",
    "We need to choose a significance level, denoted as α, which represents the probability of making a Type I error. A common choice for α is 0.05, which corresponds to a 5% significance level. This means that we are willing to accept a 5% chance of making a Type I error (rejecting the null hypothesis when it's actually true)."
   ]
  },
  {
   "cell_type": "code",
   "execution_count": null,
   "metadata": {
    "colab": {
     "base_uri": "https://localhost:8080/"
    },
    "id": "jb0-tn54U7PK",
    "outputId": "13cb0224-394e-42b9-b90c-ced2c5b005a7"
   },
   "outputs": [],
   "source": [
    "# Assuming your dataset is stored in a DataFrame called merged_data\n",
    "ultimate_revenue = merged_data[merged_data['plan'] == 'ultimate']['monthly_revenue']\n",
    "surf_revenue = merged_data[merged_data['plan'] == 'surf']['monthly_revenue']\n",
    "\n",
    "# Perform the t-test\n",
    "t_statistic, p_value = stats.ttest_ind(ultimate_revenue, surf_revenue, equal_var=False)\n",
    "\n",
    "alpha = 0.05\n",
    "\n",
    "print(f'Test Statistic: {t_statistic}')\n",
    "print(f'P-value: {p_value}')\n",
    "\n",
    "if p_value < alpha:\n",
    "    print(\"Reject the null hypothesis. There is a significant difference in average revenue between Ultimate and Surf plan users.\")\n",
    "else:\n",
    "    print(\"Fail to reject the null hypothesis. There is no significant difference in average revenue between Ultimate and Surf plan users.\")\n"
   ]
  },
  {
   "cell_type": "markdown",
   "metadata": {
    "id": "8hhVzuk-dFQt"
   },
   "source": [
    "\n",
    "\n",
    "---\n",
    "\n"
   ]
  },
  {
   "cell_type": "markdown",
   "metadata": {
    "id": "yR91MOvlTT08"
   },
   "source": [
    "**2. Test the hypothesis that the average revenue from users in the NY-NJ area is different from that of the users from the other regions**"
   ]
  },
  {
   "cell_type": "markdown",
   "metadata": {
    "id": "CMhRYZR1b1Wl"
   },
   "source": [
    "**Null Hypothesis (H0):**\n",
    "\n",
    "The average revenue from users in the NY-NJ area is equal to the average revenue from users in other regions.\n",
    "\n",
    "**Alternative Hypothesis (H1):**\n",
    "\n",
    "The average revenue from users in the NY-NJ area is different from the average revenue from users in other regions.\n",
    "\n",
    "**Statistic model**\n",
    "\n",
    "To test this hypothesis, you can use a two-sample t-test because you're comparing the means of two independent groups (NY-NJ area users and users from other regions) to determine if they are statistically different from each other.\n",
    "\n",
    "**Significance Level (Alpha):**\n",
    "\n",
    "Choose a significance level (α) to control the Type I error rate. A common choice is α = 0.05, which corresponds to a 5% significance level. This means that you are willing to accept a 5% chance of making a Type I error (rejecting the null hypothesis when it's actually true)."
   ]
  },
  {
   "cell_type": "code",
   "execution_count": null,
   "metadata": {
    "colab": {
     "base_uri": "https://localhost:8080/",
     "height": 424
    },
    "id": "q5_Q-7atWpGG",
    "outputId": "19f3c4d9-8acc-4b52-f875-16e41ad40d50"
   },
   "outputs": [],
   "source": [
    "display(merged_data[['user_id', 'month', 'plan', 'monthly_revenue']])"
   ]
  },
  {
   "cell_type": "code",
   "execution_count": null,
   "metadata": {
    "colab": {
     "base_uri": "https://localhost:8080/"
    },
    "id": "MJVqQ5omXljP",
    "outputId": "b5bb7aca-7a00-46cc-cbf9-3dd16525ee70"
   },
   "outputs": [],
   "source": [
    "# Assuming you have two DataFrames: merged_data and users\n",
    "# Merge the data on 'user_id' to get user information along with monthly revenue\n",
    "merged_data = pd.merge(merged_data, users[['user_id', 'state_msa']], on='user_id')\n",
    "\n",
    "# Define the unique values that represent NY-NJ area and other regions\n",
    "ny_nj_area = 'NY-NJ-PA MSA'\n",
    "\n",
    "# Separate revenue data for NY-NJ area and other regions\n",
    "ny_nj_revenue = merged_data[merged_data['state_msa'] == ny_nj_area]['monthly_revenue']\n",
    "other_regions_revenue = merged_data[merged_data['state_msa'] != ny_nj_area]['monthly_revenue']\n",
    "\n",
    "# Perform the two-sample t-test\n",
    "t_statistic, p_value = stats.ttest_ind(ny_nj_revenue, other_regions_revenue, equal_var=False)\n",
    "\n",
    "alpha = 0.05\n",
    "\n",
    "print(f'Test Statistic: {t_statistic}')\n",
    "print(f'P-value: {p_value}')\n",
    "\n",
    "if p_value < alpha:\n",
    "    print(\"Reject the null hypothesis. There is a significant difference in average revenue between NY-NJ area users and users from other regions.\")\n",
    "else:\n",
    "    print(\"Fail to reject the null hypothesis. There is no significant difference in average revenue between NY-NJ area users and users from other regions.\")\n"
   ]
  },
  {
   "cell_type": "markdown",
   "metadata": {
    "id": "ZRQ1Awkknrza"
   },
   "source": [
    "\n",
    "\n",
    "---\n",
    "\n",
    "---\n",
    "\n",
    "\n",
    "\n",
    "\n",
    "\n",
    "---\n",
    "\n"
   ]
  },
  {
   "cell_type": "markdown",
   "metadata": {
    "id": "tEPDtLKnntqM"
   },
   "source": [
    "# Conclusion"
   ]
  },
  {
   "cell_type": "markdown",
   "metadata": {
    "id": "wY7jNopOnyr0"
   },
   "source": [
    "- There is not a considerable difference between the Average Duration of Calls per Plan per Month of two different plans\n",
    "- By closely seeing the values of monthly mean duration  and monthly variance of duration of calls we can see that there is not a noteable difference in terms of month.\n",
    "- The durations of call is less for 1st and 3rd month as compared to the rest of the months.\n",
    "- **We can see that for every month the total minutes used in surf plan is higher as compared to ultimate plan.**\n",
    "- There is a clear pattern that the number of messages users of each plan tend to send each month is increasing from january to december respectively\n",
    "- Another important difference here is that the number of messages user sent is higher for surf plans as compared to ultimate plans for almost every month.\n",
    "- There is a clear difference in traffic consumption of data among different plans available. THe surf consumption is vary large as compared to ultimate plan.\n",
    "- **Clearly it can be seen that in both plans the low amount of data usage sessions are more frequent as compared to high amount data usage sessions**.\n",
    "- Monthly revenue for surf plans are high as compared to ultimate palns (in general)\n",
    "- It is very important to see that in terms of Average Monthly Revenue the ultimate plans revenue generation is more than surf plans.\n",
    "- The std of surf is greater as compared to ultimate palns and it is revaledated from the fact that more outliers(higher revenue values) are present in surf plans as compared to ultimate plans.\n",
    "- There is a significant difference in average revenue between Ultimate and Surf plan users.\n",
    "- There is a significant difference in average revenue between NY-NJ area users and users from other regions"
   ]
  }
 ],
 "metadata": {
  "accelerator": "TPU",
  "colab": {
   "provenance": []
  },
  "kernelspec": {
   "display_name": "Python 3 (ipykernel)",
   "language": "python",
   "name": "python3"
  },
  "language_info": {
   "codemirror_mode": {
    "name": "ipython",
    "version": 3
   },
   "file_extension": ".py",
   "mimetype": "text/x-python",
   "name": "python",
   "nbconvert_exporter": "python",
   "pygments_lexer": "ipython3",
   "version": "3.9.5"
  },
  "toc": {
   "base_numbering": 1,
   "nav_menu": {},
   "number_sections": true,
   "sideBar": true,
   "skip_h1_title": true,
   "title_cell": "Table of Contents",
   "title_sidebar": "Contents",
   "toc_cell": false,
   "toc_position": {},
   "toc_section_display": true,
   "toc_window_display": true
  }
 },
 "nbformat": 4,
 "nbformat_minor": 2
}
